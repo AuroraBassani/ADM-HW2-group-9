{
 "cells": [
  {
   "cell_type": "markdown",
   "id": "fb02954f",
   "metadata": {
    "id": "35d19fe6"
   },
   "source": [
    "# Import packages"
   ]
  },
  {
   "cell_type": "code",
   "execution_count": 2,
   "id": "d239cd03",
   "metadata": {
    "id": "80758b2e"
   },
   "outputs": [],
   "source": [
    "import pandas as pd\n",
    "from  tqdm import tqdm\n",
    "import math\n",
    "import matplotlib.pyplot as plt\n",
    "import numpy as np\n",
    "from collections import Counter\n",
    "from collections import OrderedDict\n",
    "import seaborn\n",
    "from datetime import datetime\n",
    "from matplotlib.pyplot import figure"
   ]
  },
  {
   "cell_type": "markdown",
   "id": "a0f7096d",
   "metadata": {
    "id": "46c95996"
   },
   "source": [
    "Write **./\"SageMaker/import_data.sh\"** in the terminal in order to download all the datasets."
   ]
  },
  {
   "cell_type": "markdown",
   "id": "58d145f7",
   "metadata": {
    "id": "87c5cc05"
   },
   "source": [
    "# RQ1"
   ]
  },
  {
   "cell_type": "markdown",
   "id": "5bc625c8",
   "metadata": {
    "id": "4142481e"
   },
   "source": [
    "### Exploratory data analysis of instagram_profiles dataset "
   ]
  },
  {
   "cell_type": "code",
   "execution_count": 7,
   "id": "39f5522b",
   "metadata": {
    "id": "fc5e69f3",
    "outputId": "a4c4d7de-7f7b-4ca1-effc-50ce5a4f341e"
   },
   "outputs": [
    {
     "data": {
      "text/html": [
       "<div>\n",
       "<style scoped>\n",
       "    .dataframe tbody tr th:only-of-type {\n",
       "        vertical-align: middle;\n",
       "    }\n",
       "\n",
       "    .dataframe tbody tr th {\n",
       "        vertical-align: top;\n",
       "    }\n",
       "\n",
       "    .dataframe thead th {\n",
       "        text-align: right;\n",
       "    }\n",
       "</style>\n",
       "<table border=\"1\" class=\"dataframe\">\n",
       "  <thead>\n",
       "    <tr style=\"text-align: right;\">\n",
       "      <th></th>\n",
       "      <th>sid</th>\n",
       "      <th>profile_id</th>\n",
       "      <th>profile_name</th>\n",
       "      <th>firstname_lastname</th>\n",
       "      <th>description</th>\n",
       "      <th>following</th>\n",
       "      <th>followers</th>\n",
       "      <th>n_posts</th>\n",
       "      <th>url</th>\n",
       "      <th>cts</th>\n",
       "      <th>is_business_account</th>\n",
       "    </tr>\n",
       "  </thead>\n",
       "  <tbody>\n",
       "    <tr>\n",
       "      <th>0</th>\n",
       "      <td>4184446</td>\n",
       "      <td>4.721050e+09</td>\n",
       "      <td>jphillip033</td>\n",
       "      <td>John Pierce</td>\n",
       "      <td>\"Document Everything Always\"</td>\n",
       "      <td>250.0</td>\n",
       "      <td>146.0</td>\n",
       "      <td>170.0</td>\n",
       "      <td>NaN</td>\n",
       "      <td>2019-08-01 14:38:55.394 -0400</td>\n",
       "      <td>False</td>\n",
       "    </tr>\n",
       "  </tbody>\n",
       "</table>\n",
       "</div>"
      ],
      "text/plain": [
       "       sid    profile_id profile_name firstname_lastname  \\\n",
       "0  4184446  4.721050e+09  jphillip033        John Pierce   \n",
       "\n",
       "                    description  following  followers  n_posts  url  \\\n",
       "0  \"Document Everything Always\"      250.0      146.0    170.0  NaN   \n",
       "\n",
       "                             cts is_business_account  \n",
       "0  2019-08-01 14:38:55.394 -0400               False  "
      ]
     },
     "execution_count": 7,
     "metadata": {},
     "output_type": "execute_result"
    }
   ],
   "source": [
    "profiles=pd.read_csv(\"~/instagram_profiles.csv\",delimiter=\"\\t\")\n",
    "profiles.head(1) #quick overview of the dataset"
   ]
  },
  {
   "cell_type": "code",
   "execution_count": null,
   "id": "d5d79822",
   "metadata": {
    "id": "562af65b",
    "outputId": "81d9540c-a5cd-4151-fd60-32b2e579ba01"
   },
   "outputs": [
    {
     "name": "stdout",
     "output_type": "stream",
     "text": [
      "False\n"
     ]
    },
    {
     "data": {
      "text/plain": [
       "(4509586, 11)"
      ]
     },
     "execution_count": 4,
     "metadata": {},
     "output_type": "execute_result"
    }
   ],
   "source": [
    "#we can check with \"is_unique\" if every profile_id is unique in the dataset\n",
    "print(profiles.profile_id.is_unique)\n",
    "profiles.shape\n"
   ]
  },
  {
   "cell_type": "markdown",
   "id": "bbb25ab0",
   "metadata": {
    "id": "98048cd1"
   },
   "source": [
    "As we can see there are duplicates in the profile_id column.\n",
    "\n",
    "Then we can drop all of them and keep only the first occurency."
   ]
  },
  {
   "cell_type": "code",
   "execution_count": null,
   "id": "507e0095",
   "metadata": {
    "id": "0dc2e288",
    "outputId": "9e9a6a77-29b7-494d-ed5f-8818a3403715"
   },
   "outputs": [
    {
     "name": "stdout",
     "output_type": "stream",
     "text": [
      "True\n"
     ]
    },
    {
     "data": {
      "text/plain": [
       "(4475706, 11)"
      ]
     },
     "execution_count": 5,
     "metadata": {},
     "output_type": "execute_result"
    }
   ],
   "source": [
    "profiles.drop_duplicates(subset='profile_id',keep='first',inplace=True)\n",
    "print(profiles.profile_id.is_unique)\n",
    "profiles.shape"
   ]
  },
  {
   "cell_type": "markdown",
   "id": "9ced7e31",
   "metadata": {
    "id": "e83966e3"
   },
   "source": [
    "The next step is to drop all the Nan values in the profile_id columns."
   ]
  },
  {
   "cell_type": "code",
   "execution_count": null,
   "id": "3608a253",
   "metadata": {
    "id": "c715e427",
    "outputId": "17377847-612f-4458-82af-210d4cf7c0e7"
   },
   "outputs": [
    {
     "data": {
      "text/plain": [
       "(4475705, 11)"
      ]
     },
     "execution_count": 6,
     "metadata": {},
     "output_type": "execute_result"
    }
   ],
   "source": [
    "profiles.dropna(subset=['profile_id'],inplace=True)\n",
    "profiles.shape"
   ]
  },
  {
   "cell_type": "markdown",
   "id": "eb6b2225",
   "metadata": {
    "id": "1565a7a4"
   },
   "source": [
    "The instagram_profiles dataset contains 4475705 different profiles.\n",
    "\n",
    "The dataset is made up of 11 columns:\n",
    "\n",
    "\n",
    "| Variables | Type |\n",
    "| :-: | :-: |\n",
    "| sid | int64 |  \n",
    "| profile_id           |float64 |  \n",
    "|  profile_name        | object |  \n",
    "| firstname_lastname   | object | \n",
    "|description           |object  |\n",
    "|following             |float64 |\n",
    "|followers             |float64 |\n",
    "|n_posts               |float64 |\n",
    "|url                   |object  |\n",
    "|cts                   |object  |\n",
    "|is_business_account   |object  |"
   ]
  },
  {
   "cell_type": "markdown",
   "id": "192f65cc",
   "metadata": {
    "id": "9b369877"
   },
   "source": [
    "After the overview that concerns the shapes of the dataset we can now move on to a decriptive analysis of the variables 'following', 'followers' and 'n_posts'. We choose to analyse only those 3 variables because they are quantitative and they give us some relevant informations. "
   ]
  },
  {
   "cell_type": "code",
   "execution_count": null,
   "id": "88244573",
   "metadata": {
    "id": "d2664231",
    "outputId": "0f8f4800-a631-46c8-83e6-31c056ea99c9"
   },
   "outputs": [
    {
     "data": {
      "text/plain": [
       "count    3446893.00\n",
       "mean        1405.83\n",
       "std         8120.11\n",
       "min            0.00\n",
       "25%          356.00\n",
       "50%          754.00\n",
       "75%         1573.00\n",
       "max      4191080.00\n",
       "Name: following, dtype: object"
      ]
     },
     "execution_count": 7,
     "metadata": {},
     "output_type": "execute_result"
    }
   ],
   "source": [
    "profiles.following.describe().apply(lambda x: '%.2f' % x)"
   ]
  },
  {
   "cell_type": "code",
   "execution_count": null,
   "id": "afdb97aa",
   "metadata": {
    "id": "66433fcf",
    "outputId": "a2286a52-ff73-4173-877f-40d2612c41f4"
   },
   "outputs": [
    {
     "data": {
      "text/plain": [
       "count      3446893.00\n",
       "mean          4744.66\n",
       "std         194071.17\n",
       "min              0.00\n",
       "25%            159.00\n",
       "50%            406.00\n",
       "75%            974.00\n",
       "max      285457645.00\n",
       "Name: followers, dtype: object"
      ]
     },
     "execution_count": 8,
     "metadata": {},
     "output_type": "execute_result"
    }
   ],
   "source": [
    "profiles.followers.describe().apply(lambda x: '%.2f' % x)"
   ]
  },
  {
   "cell_type": "code",
   "execution_count": null,
   "id": "f6e7bfe6",
   "metadata": {
    "id": "a6f5d435",
    "outputId": "8db3a414-7c45-4b36-c4c8-7910e3b61524"
   },
   "outputs": [
    {
     "data": {
      "text/plain": [
       "count    3446893.00\n",
       "mean         409.58\n",
       "std         1042.07\n",
       "min            0.00\n",
       "25%           22.00\n",
       "50%          120.00\n",
       "75%          420.00\n",
       "max       183730.00\n",
       "Name: n_posts, dtype: object"
      ]
     },
     "execution_count": 12,
     "metadata": {},
     "output_type": "execute_result"
    }
   ],
   "source": [
    "profiles.n_posts.describe().apply(lambda x: '%.2f' % x)"
   ]
  },
  {
   "cell_type": "markdown",
   "id": "8738322b",
   "metadata": {
    "id": "3a0fa0f0"
   },
   "source": [
    "### Let's now analyse instagram_locations dataset"
   ]
  },
  {
   "cell_type": "code",
   "execution_count": null,
   "id": "eff68eba",
   "metadata": {
    "id": "1a8aa400",
    "outputId": "e0065200-4adf-4878-d9f6-af395338c07b"
   },
   "outputs": [
    {
     "data": {
      "text/html": [
       "<div>\n",
       "<style scoped>\n",
       "    .dataframe tbody tr th:only-of-type {\n",
       "        vertical-align: middle;\n",
       "    }\n",
       "\n",
       "    .dataframe tbody tr th {\n",
       "        vertical-align: top;\n",
       "    }\n",
       "\n",
       "    .dataframe thead th {\n",
       "        text-align: right;\n",
       "    }\n",
       "</style>\n",
       "<table border=\"1\" class=\"dataframe\">\n",
       "  <thead>\n",
       "    <tr style=\"text-align: right;\">\n",
       "      <th></th>\n",
       "      <th>sid</th>\n",
       "      <th>id</th>\n",
       "      <th>name</th>\n",
       "      <th>street</th>\n",
       "      <th>zip</th>\n",
       "      <th>city</th>\n",
       "      <th>region</th>\n",
       "      <th>cd</th>\n",
       "      <th>phone</th>\n",
       "      <th>aj_exact_city_match</th>\n",
       "      <th>...</th>\n",
       "      <th>dir_city_name</th>\n",
       "      <th>dir_city_slug</th>\n",
       "      <th>dir_country_id</th>\n",
       "      <th>dir_country_name</th>\n",
       "      <th>lat</th>\n",
       "      <th>lng</th>\n",
       "      <th>primary_alias_on_fb</th>\n",
       "      <th>slug</th>\n",
       "      <th>website</th>\n",
       "      <th>cts</th>\n",
       "    </tr>\n",
       "  </thead>\n",
       "  <tbody>\n",
       "    <tr>\n",
       "      <th>0</th>\n",
       "      <td>719981</td>\n",
       "      <td>110296492939207</td>\n",
       "      <td>Playa de Daimuz - Valencia, España</td>\n",
       "      <td>NaN</td>\n",
       "      <td>NaN</td>\n",
       "      <td>NaN</td>\n",
       "      <td>NaN</td>\n",
       "      <td>NaN</td>\n",
       "      <td>NaN</td>\n",
       "      <td>False</td>\n",
       "      <td>...</td>\n",
       "      <td>NaN</td>\n",
       "      <td>NaN</td>\n",
       "      <td>NaN</td>\n",
       "      <td>NaN</td>\n",
       "      <td>-0.139475</td>\n",
       "      <td>38.974391</td>\n",
       "      <td>daimuzplaya</td>\n",
       "      <td>playa-de-daimuz-valencia-espana</td>\n",
       "      <td>https://es.wikipedia.org/wiki/Daimuz</td>\n",
       "      <td>2019-05-29 01:21:29.987</td>\n",
       "    </tr>\n",
       "  </tbody>\n",
       "</table>\n",
       "<p>1 rows × 23 columns</p>\n",
       "</div>"
      ],
      "text/plain": [
       "      sid               id                                name street  zip  \\\n",
       "0  719981  110296492939207  Playa de Daimuz - Valencia, España    NaN  NaN   \n",
       "\n",
       "  city region   cd phone aj_exact_city_match  ... dir_city_name dir_city_slug  \\\n",
       "0  NaN    NaN  NaN   NaN               False  ...           NaN           NaN   \n",
       "\n",
       "  dir_country_id dir_country_name       lat        lng primary_alias_on_fb  \\\n",
       "0            NaN              NaN -0.139475  38.974391         daimuzplaya   \n",
       "\n",
       "                              slug                               website  \\\n",
       "0  playa-de-daimuz-valencia-espana  https://es.wikipedia.org/wiki/Daimuz   \n",
       "\n",
       "                       cts  \n",
       "0  2019-05-29 01:21:29.987  \n",
       "\n",
       "[1 rows x 23 columns]"
      ]
     },
     "execution_count": 9,
     "metadata": {},
     "output_type": "execute_result"
    }
   ],
   "source": [
    "locations=pd.read_csv(\"~/instagram_locations.csv\",delimiter=\"\\t\")\n",
    "locations.head(1)"
   ]
  },
  {
   "cell_type": "code",
   "execution_count": null,
   "id": "b11465bf",
   "metadata": {
    "id": "5414e824",
    "outputId": "ad364067-c68c-4a61-9ba1-b550a86703dd"
   },
   "outputs": [
    {
     "data": {
      "text/plain": [
       "True"
      ]
     },
     "execution_count": 10,
     "metadata": {},
     "output_type": "execute_result"
    }
   ],
   "source": [
    "#In this case we can check if every id is unique in the locations dataset with the following code:\n",
    "locations.id.is_unique"
   ]
  },
  {
   "cell_type": "markdown",
   "id": "29421ec3",
   "metadata": {
    "id": "ab285921"
   },
   "source": [
    "Differently from instagram_profiles, here we have uniqueness in the id variable.\n",
    "So we can now compute the shape of the dataset."
   ]
  },
  {
   "cell_type": "code",
   "execution_count": null,
   "id": "e51859c2",
   "metadata": {
    "id": "57194e67",
    "outputId": "9d36d875-3d1c-4434-8114-7c32ea4f316e"
   },
   "outputs": [
    {
     "name": "stdout",
     "output_type": "stream",
     "text": [
      "Number of locations without duplicates: 1022658\n"
     ]
    }
   ],
   "source": [
    "print('Number of locations without duplicates:',locations.shape[0])"
   ]
  },
  {
   "cell_type": "markdown",
   "id": "d90d61db",
   "metadata": {
    "id": "b0d03210"
   },
   "source": [
    "The instagram_locations dataset contains 1022658 different locations.\n",
    "\n",
    "The dataset is made up of 23 columns: \n",
    "\n",
    "| Variables | Type | \n",
    "|:-|-:| \n",
    "|sid|                         int64|\n",
    "|id|                          int64|\n",
    "|name|                       object|\n",
    "|street|                     object|\n",
    "|zip|                        object|\n",
    "|city|                       object|\n",
    "|region|                     object|\n",
    "|cd|                         object|\n",
    "|phone|                      object|\n",
    "|aj_exact_city_match|        object|\n",
    "|aj_exact_country_match|     object|\n",
    "|blurb|                      object|\n",
    "|dir_city_id|                object|\n",
    "|dir_city_name|              object|\n",
    "|dir_city_slug|              object|\n",
    "|dir_country_id|             object|\n",
    "|dir_country_name|           object|\n",
    "|lat|                       float64|\n",
    "|lng|                       float64|\n",
    "|primary_alias_on_fb|        object|\n",
    "|slug|                       object|\n",
    "|website|                    object|\n",
    "|cts|                        object|"
   ]
  },
  {
   "cell_type": "markdown",
   "id": "bb007d78",
   "metadata": {
    "id": "f3ee72e1"
   },
   "source": [
    "After the overview that concerns the shapes of the dataset in this case we think it's not usefull to give a descriptive overview of any variables."
   ]
  },
  {
   "cell_type": "code",
   "execution_count": null,
   "id": "f55f84ea",
   "metadata": {
    "id": "2894af23",
    "outputId": "b952d81f-0edf-44b8-e920-1cca3aa04936"
   },
   "outputs": [
    {
     "data": {
      "text/html": [
       "<div>\n",
       "<style scoped>\n",
       "    .dataframe tbody tr th:only-of-type {\n",
       "        vertical-align: middle;\n",
       "    }\n",
       "\n",
       "    .dataframe tbody tr th {\n",
       "        vertical-align: top;\n",
       "    }\n",
       "\n",
       "    .dataframe thead th {\n",
       "        text-align: right;\n",
       "    }\n",
       "</style>\n",
       "<table border=\"1\" class=\"dataframe\">\n",
       "  <thead>\n",
       "    <tr style=\"text-align: right;\">\n",
       "      <th></th>\n",
       "      <th>sid</th>\n",
       "      <th>sid_profile</th>\n",
       "      <th>post_id</th>\n",
       "      <th>profile_id</th>\n",
       "      <th>location_id</th>\n",
       "      <th>cts</th>\n",
       "      <th>post_type</th>\n",
       "      <th>description</th>\n",
       "      <th>numbr_likes</th>\n",
       "      <th>number_comments</th>\n",
       "    </tr>\n",
       "  </thead>\n",
       "  <tbody>\n",
       "    <tr>\n",
       "      <th>0</th>\n",
       "      <td>28370919</td>\n",
       "      <td>3496776</td>\n",
       "      <td>BXdjjUlgcgq</td>\n",
       "      <td>2237947779</td>\n",
       "      <td>1022366247837915</td>\n",
       "      <td>2017-08-06 20:06:57.000</td>\n",
       "      <td>2</td>\n",
       "      <td>Wreckloose! Deevalley bike park laps on the @i...</td>\n",
       "      <td>80</td>\n",
       "      <td>0</td>\n",
       "    </tr>\n",
       "  </tbody>\n",
       "</table>\n",
       "</div>"
      ],
      "text/plain": [
       "        sid  sid_profile      post_id  profile_id       location_id  \\\n",
       "0  28370919      3496776  BXdjjUlgcgq  2237947779  1022366247837915   \n",
       "\n",
       "                       cts  post_type  \\\n",
       "0  2017-08-06 20:06:57.000          2   \n",
       "\n",
       "                                         description  numbr_likes  \\\n",
       "0  Wreckloose! Deevalley bike park laps on the @i...           80   \n",
       "\n",
       "   number_comments  \n",
       "0                0  "
      ]
     },
     "execution_count": 12,
     "metadata": {},
     "output_type": "execute_result"
    }
   ],
   "source": [
    "posts_1row=pd.read_csv(\"~/instagram_posts.csv\",nrows=1, delimiter=\"\\t\")\n",
    "posts_1row"
   ]
  },
  {
   "cell_type": "markdown",
   "id": "487f9c7b",
   "metadata": {
    "id": "c0f1421a"
   },
   "source": [
    "Now we move on with a short analysis of instagram_posts dataset."
   ]
  },
  {
   "cell_type": "markdown",
   "id": "d5883374",
   "metadata": {
    "id": "27da6631"
   },
   "source": [
    "The dataset is made up of 10 columns:\n",
    "\n",
    "| Variables | Type | \n",
    "| :-: | :-: | \n",
    "| sid | int64 |\n",
    "| sid_profile | int64 |\n",
    "| post_id | object |\n",
    "| profile_id | int64 |\n",
    "| location_id | int64 |\n",
    "| cts | object |\n",
    "| post_type | int64 |\n",
    "| description | object |\n",
    "| numbr_likes | int64 |\n",
    "| number_comments | int64 |\n"
   ]
  },
  {
   "cell_type": "markdown",
   "id": "b2d02a8c",
   "metadata": {
    "id": "cecb5a78"
   },
   "source": [
    "After the overview that concerns the shapes of the dataset we can now move on to a descriptive analysis of the variables 'numbr_likes', 'number_comments'. An another variable that could be interesting to analyse is 'post_type' but we'll see that later in the homework so we've decided to skip it for now. "
   ]
  },
  {
   "cell_type": "code",
   "execution_count": null,
   "id": "a7ae3d82",
   "metadata": {
    "id": "f5d06a7b",
    "outputId": "28f25757-c0aa-4ab0-99a8-2ccb9933623a"
   },
   "outputs": [
    {
     "name": "stderr",
     "output_type": "stream",
     "text": [
      "86it [01:35,  1.11s/it]"
     ]
    },
    {
     "name": "stdout",
     "output_type": "stream",
     "text": [
      "Mean Min Max\n",
      "283.71 0.0 8822952.0\n",
      "7.59 0.0 488953.0\n"
     ]
    },
    {
     "name": "stderr",
     "output_type": "stream",
     "text": [
      "\n"
     ]
    }
   ],
   "source": [
    "#In order to find the mean, the minimum and the maximum of number_comments and numbr_likes we've chosen to work with subsets\n",
    "#of the whole dataset. \n",
    "#Regarding the minimum and the maximum values of those variables, for every subsets we store the minimum and the maximum \n",
    "#of the subset into a list and at the end we take the minimum and the maximum of those lists.\n",
    "\n",
    "#For the mean we've found the mean of every subsets and then we've computed the mean of the means.\n",
    "\n",
    "minlike=[] \n",
    "maxlike=[]\n",
    "meanl=[]\n",
    "\n",
    "mincomm=[]\n",
    "maxcomm=[]\n",
    "meanc=[]\n",
    "\n",
    "for chunk in tqdm(pd.read_csv(\"~/instagram_posts.csv\",usecols=[\"numbr_likes\",\"number_comments\"],chunksize=500000, delimiter=\"\\t\")):\n",
    "   \n",
    "    meanl.append(float(chunk.numbr_likes.mean()))\n",
    "    minlike.append(float(chunk.numbr_likes.min()))\n",
    "    maxlike.append(float(chunk.numbr_likes.max()))\n",
    "\n",
    "    meanc.append(float(chunk.number_comments.mean()))\n",
    "    mincomm.append(float(chunk.number_comments.min()))\n",
    "    maxcomm.append(float(chunk.number_comments.max()))\n",
    "\n",
    "    \n",
    "l=len( meanl)\n",
    "c=len( meanc)\n",
    "\n",
    "totl=sum(meanl)\n",
    "totc=sum(meanc)\n",
    "\n",
    "al=round(totl/l,2)\n",
    "ac=round(totc/c,2)\n",
    "print(\"Mean\", \"Min\",\"Max\")\n",
    "print(al,min(minlike),max(maxlike)) \n",
    "print(ac,min(mincomm),max(maxcomm))"
   ]
  },
  {
   "cell_type": "markdown",
   "id": "e47162bf",
   "metadata": {
    "id": "eff6c097"
   },
   "source": [
    "We can summarise the output of the previous code in the following table:\n",
    "\n",
    "| |Likes| Comments|\n",
    "|:- | -:| -:|\n",
    "|**Mean**| 283.71| 7.59|\n",
    "|**Min** | 0.0| 0.0|\n",
    "|**Max**| 8822952.0| 488953.0|\n"
   ]
  },
  {
   "cell_type": "markdown",
   "id": "2277508c",
   "metadata": {
    "id": "4b9c07f9"
   },
   "source": [
    "#  RQ2 \n",
    "Let's explore the dataset by finding simple insights regarding the profile and posts."
   ]
  },
  {
   "cell_type": "markdown",
   "id": "b92555f9",
   "metadata": {
    "id": "b8968884"
   },
   "source": [
    "## RQ2.1 \n",
    "Plot the number of posts for each profile in descending order."
   ]
  },
  {
   "cell_type": "code",
   "execution_count": null,
   "id": "b448f734",
   "metadata": {
    "id": "1b9e3d66",
    "outputId": "6c4dea17-788b-4080-b720-a1bfe9db4981",
    "scrolled": true
   },
   "outputs": [
    {
     "data": {
      "text/html": [
       "<div>\n",
       "<style scoped>\n",
       "    .dataframe tbody tr th:only-of-type {\n",
       "        vertical-align: middle;\n",
       "    }\n",
       "\n",
       "    .dataframe tbody tr th {\n",
       "        vertical-align: top;\n",
       "    }\n",
       "\n",
       "    .dataframe thead th {\n",
       "        text-align: right;\n",
       "    }\n",
       "</style>\n",
       "<table border=\"1\" class=\"dataframe\">\n",
       "  <thead>\n",
       "    <tr style=\"text-align: right;\">\n",
       "      <th></th>\n",
       "      <th>sid</th>\n",
       "      <th>profile_id</th>\n",
       "      <th>profile_name</th>\n",
       "      <th>firstname_lastname</th>\n",
       "      <th>description</th>\n",
       "      <th>following</th>\n",
       "      <th>followers</th>\n",
       "      <th>n_posts</th>\n",
       "      <th>url</th>\n",
       "      <th>cts</th>\n",
       "      <th>is_business_account</th>\n",
       "    </tr>\n",
       "  </thead>\n",
       "  <tbody>\n",
       "    <tr>\n",
       "      <th>3990313</th>\n",
       "      <td>3661552</td>\n",
       "      <td>1.996648e+08</td>\n",
       "      <td>jasem33312</td>\n",
       "      <td>jasem33312</td>\n",
       "      <td>NaN</td>\n",
       "      <td>2.0</td>\n",
       "      <td>82049.0</td>\n",
       "      <td>183730.0</td>\n",
       "      <td>NaN</td>\n",
       "      <td>2019-06-30 19:14:19.780 -0400</td>\n",
       "      <td>False</td>\n",
       "    </tr>\n",
       "    <tr>\n",
       "      <th>2571453</th>\n",
       "      <td>3288809</td>\n",
       "      <td>8.563367e+09</td>\n",
       "      <td>koenigpic</td>\n",
       "      <td>Helperwait Studio</td>\n",
       "      <td>Веб сайты от идеи до запуска</td>\n",
       "      <td>4538.0</td>\n",
       "      <td>675.0</td>\n",
       "      <td>142428.0</td>\n",
       "      <td>vk.com/ru.helperwait</td>\n",
       "      <td>2019-05-07 00:14:06.799 -0400</td>\n",
       "      <td>True</td>\n",
       "    </tr>\n",
       "    <tr>\n",
       "      <th>4338921</th>\n",
       "      <td>3970193</td>\n",
       "      <td>1.273455e+09</td>\n",
       "      <td>rudyanto62</td>\n",
       "      <td>Rudyanto 王耀祝</td>\n",
       "      <td>NaN</td>\n",
       "      <td>164.0</td>\n",
       "      <td>1693.0</td>\n",
       "      <td>126340.0</td>\n",
       "      <td>NaN</td>\n",
       "      <td>2019-07-15 10:00:51.171 -0400</td>\n",
       "      <td>False</td>\n",
       "    </tr>\n",
       "    <tr>\n",
       "      <th>3942129</th>\n",
       "      <td>3621669</td>\n",
       "      <td>9.813508e+06</td>\n",
       "      <td>hometown_ni</td>\n",
       "      <td>AngelsCowboysLakers</td>\n",
       "      <td>All about live &amp; let live. Peace &amp; Harmony. La...</td>\n",
       "      <td>7488.0</td>\n",
       "      <td>1755.0</td>\n",
       "      <td>125220.0</td>\n",
       "      <td>NaN</td>\n",
       "      <td>2019-06-27 02:49:38.140 -0400</td>\n",
       "      <td>False</td>\n",
       "    </tr>\n",
       "    <tr>\n",
       "      <th>4219642</th>\n",
       "      <td>3851869</td>\n",
       "      <td>1.607309e+09</td>\n",
       "      <td>dwfitfiber_thailand</td>\n",
       "      <td>เห็นผลตั้งแต่เซ็ตแรกท้าลอง</td>\n",
       "      <td>✿รับตัวแทนรายได้ดีมาก\\n🏧 KTB l SCB l KBANK | B...</td>\n",
       "      <td>7490.0</td>\n",
       "      <td>44951.0</td>\n",
       "      <td>117262.0</td>\n",
       "      <td>bit.ly/2GdIYJl</td>\n",
       "      <td>2019-07-13 02:10:07.317 -0400</td>\n",
       "      <td>True</td>\n",
       "    </tr>\n",
       "    <tr>\n",
       "      <th>2207897</th>\n",
       "      <td>345591</td>\n",
       "      <td>1.087614e+09</td>\n",
       "      <td>waxking911</td>\n",
       "      <td>Frank Hernandez</td>\n",
       "      <td>NaN</td>\n",
       "      <td>134.0</td>\n",
       "      <td>138.0</td>\n",
       "      <td>117099.0</td>\n",
       "      <td>NaN</td>\n",
       "      <td>NaN</td>\n",
       "      <td>False</td>\n",
       "    </tr>\n",
       "    <tr>\n",
       "      <th>4313908</th>\n",
       "      <td>3944512</td>\n",
       "      <td>1.603890e+09</td>\n",
       "      <td>gamt_official</td>\n",
       "      <td>Official IG Of GAMT Thailand</td>\n",
       "      <td>❥ แว่น gamt พร้อมส่งของแท้💯 มีโปร1290 พร้อมซอง...</td>\n",
       "      <td>7470.0</td>\n",
       "      <td>36001.0</td>\n",
       "      <td>113780.0</td>\n",
       "      <td>bit.ly/2GdIYJl</td>\n",
       "      <td>2019-07-14 21:10:30.785 -0400</td>\n",
       "      <td>True</td>\n",
       "    </tr>\n",
       "    <tr>\n",
       "      <th>4219476</th>\n",
       "      <td>3851808</td>\n",
       "      <td>2.181730e+08</td>\n",
       "      <td>collarosedw_official</td>\n",
       "      <td>grapeseed+collarose</td>\n",
       "      <td>🍇 สินค้าแบรนด์ dwplus\\n💓 collarose+grapeseed+f...</td>\n",
       "      <td>7496.0</td>\n",
       "      <td>18021.0</td>\n",
       "      <td>113182.0</td>\n",
       "      <td>bit.ly/2asesw7</td>\n",
       "      <td>2019-07-13 02:08:17.407 -0400</td>\n",
       "      <td>True</td>\n",
       "    </tr>\n",
       "    <tr>\n",
       "      <th>4236057</th>\n",
       "      <td>3868432</td>\n",
       "      <td>2.855497e+08</td>\n",
       "      <td>gamt_authentic</td>\n",
       "      <td>Official IG Of GAMT Thailand</td>\n",
       "      <td>❥ แว่น gamt พร้อมส่ง มีโปร1290 พร้อมซองแว่น+ผ้...</td>\n",
       "      <td>7480.0</td>\n",
       "      <td>27511.0</td>\n",
       "      <td>112777.0</td>\n",
       "      <td>bit.ly/2T2RIqG</td>\n",
       "      <td>2019-07-13 09:28:30.025 -0400</td>\n",
       "      <td>True</td>\n",
       "    </tr>\n",
       "    <tr>\n",
       "      <th>1631526</th>\n",
       "      <td>1312725</td>\n",
       "      <td>8.312603e+09</td>\n",
       "      <td>ivankkkka.trmp</td>\n",
       "      <td>IVANKA DARCEY K. TRUMP</td>\n",
       "      <td>DORA. 👄 #Mango</td>\n",
       "      <td>7497.0</td>\n",
       "      <td>2.0</td>\n",
       "      <td>112723.0</td>\n",
       "      <td>www.flightclub.com/yeezy</td>\n",
       "      <td>2019-04-01 02:41:26.980 -0400</td>\n",
       "      <td>False</td>\n",
       "    </tr>\n",
       "  </tbody>\n",
       "</table>\n",
       "</div>"
      ],
      "text/plain": [
       "             sid    profile_id          profile_name  \\\n",
       "3990313  3661552  1.996648e+08            jasem33312   \n",
       "2571453  3288809  8.563367e+09             koenigpic   \n",
       "4338921  3970193  1.273455e+09            rudyanto62   \n",
       "3942129  3621669  9.813508e+06           hometown_ni   \n",
       "4219642  3851869  1.607309e+09   dwfitfiber_thailand   \n",
       "2207897   345591  1.087614e+09            waxking911   \n",
       "4313908  3944512  1.603890e+09         gamt_official   \n",
       "4219476  3851808  2.181730e+08  collarosedw_official   \n",
       "4236057  3868432  2.855497e+08        gamt_authentic   \n",
       "1631526  1312725  8.312603e+09        ivankkkka.trmp   \n",
       "\n",
       "                   firstname_lastname  \\\n",
       "3990313                    jasem33312   \n",
       "2571453             Helperwait Studio   \n",
       "4338921                  Rudyanto 王耀祝   \n",
       "3942129           AngelsCowboysLakers   \n",
       "4219642    เห็นผลตั้งแต่เซ็ตแรกท้าลอง   \n",
       "2207897               Frank Hernandez   \n",
       "4313908  Official IG Of GAMT Thailand   \n",
       "4219476           grapeseed+collarose   \n",
       "4236057  Official IG Of GAMT Thailand   \n",
       "1631526        IVANKA DARCEY K. TRUMP   \n",
       "\n",
       "                                               description  following  \\\n",
       "3990313                                                NaN        2.0   \n",
       "2571453                       Веб сайты от идеи до запуска     4538.0   \n",
       "4338921                                                NaN      164.0   \n",
       "3942129  All about live & let live. Peace & Harmony. La...     7488.0   \n",
       "4219642  ✿รับตัวแทนรายได้ดีมาก\\n🏧 KTB l SCB l KBANK | B...     7490.0   \n",
       "2207897                                                NaN      134.0   \n",
       "4313908  ❥ แว่น gamt พร้อมส่งของแท้💯 มีโปร1290 พร้อมซอง...     7470.0   \n",
       "4219476  🍇 สินค้าแบรนด์ dwplus\\n💓 collarose+grapeseed+f...     7496.0   \n",
       "4236057  ❥ แว่น gamt พร้อมส่ง มีโปร1290 พร้อมซองแว่น+ผ้...     7480.0   \n",
       "1631526                                     DORA. 👄 #Mango     7497.0   \n",
       "\n",
       "         followers   n_posts                       url  \\\n",
       "3990313    82049.0  183730.0                       NaN   \n",
       "2571453      675.0  142428.0      vk.com/ru.helperwait   \n",
       "4338921     1693.0  126340.0                       NaN   \n",
       "3942129     1755.0  125220.0                       NaN   \n",
       "4219642    44951.0  117262.0            bit.ly/2GdIYJl   \n",
       "2207897      138.0  117099.0                       NaN   \n",
       "4313908    36001.0  113780.0            bit.ly/2GdIYJl   \n",
       "4219476    18021.0  113182.0            bit.ly/2asesw7   \n",
       "4236057    27511.0  112777.0            bit.ly/2T2RIqG   \n",
       "1631526        2.0  112723.0  www.flightclub.com/yeezy   \n",
       "\n",
       "                                   cts is_business_account  \n",
       "3990313  2019-06-30 19:14:19.780 -0400               False  \n",
       "2571453  2019-05-07 00:14:06.799 -0400                True  \n",
       "4338921  2019-07-15 10:00:51.171 -0400               False  \n",
       "3942129  2019-06-27 02:49:38.140 -0400               False  \n",
       "4219642  2019-07-13 02:10:07.317 -0400                True  \n",
       "2207897                            NaN               False  \n",
       "4313908  2019-07-14 21:10:30.785 -0400                True  \n",
       "4219476  2019-07-13 02:08:17.407 -0400                True  \n",
       "4236057  2019-07-13 09:28:30.025 -0400                True  \n",
       "1631526  2019-04-01 02:41:26.980 -0400               False  "
      ]
     },
     "execution_count": 14,
     "metadata": {},
     "output_type": "execute_result"
    }
   ],
   "source": [
    "profiles.sort_values(by=\"n_posts\",ascending=False).head(10)"
   ]
  },
  {
   "cell_type": "markdown",
   "id": "b4abdda8",
   "metadata": {
    "id": "89e8085e"
   },
   "source": [
    "## RQ2.2 \n",
    "What posts have the highest number of \"likes\"?"
   ]
  },
  {
   "cell_type": "code",
   "execution_count": null,
   "id": "194a12ff",
   "metadata": {
    "id": "96281114",
    "outputId": "486a947b-e9fc-4e47-de2a-08e0fdad548e"
   },
   "outputs": [
    {
     "name": "stderr",
     "output_type": "stream",
     "text": [
      "86it [01:35,  1.11s/it]\n"
     ]
    }
   ],
   "source": [
    "#Inizializate the df_like dataset.\n",
    "df_like= pd.DataFrame(columns=[\"profile_id\",\"numbr_likes\"]) # Inizializate the df_like dataset.\n",
    "\n",
    "#We take the first 10 posts for number of likes of every subdataset\n",
    "top_n=10\n",
    "#After that we merge them together in order to understand which post have the most number of likes.\n",
    "#Since we take only 10 posts with highiest number of likes, we can only be sure about the top ten  of the final dataset.\n",
    "for chunk in tqdm(pd.read_csv(\"~/instagram_posts.csv\",chunksize=500000,usecols=[\"profile_id\",\"numbr_likes\"], delimiter=\"\\t\")):\n",
    "    df_like=pd.concat([df_like,chunk.sort_values(by=\"numbr_likes\",ascending=False).head(top_n)])"
   ]
  },
  {
   "cell_type": "code",
   "execution_count": null,
   "id": "ad35a865",
   "metadata": {
    "id": "b84fd5b4",
    "outputId": "3aa892a4-1a02-4d21-9b8f-17dbb7ae112b"
   },
   "outputs": [
    {
     "data": {
      "text/html": [
       "<div>\n",
       "<style scoped>\n",
       "    .dataframe tbody tr th:only-of-type {\n",
       "        vertical-align: middle;\n",
       "    }\n",
       "\n",
       "    .dataframe tbody tr th {\n",
       "        vertical-align: top;\n",
       "    }\n",
       "\n",
       "    .dataframe thead th {\n",
       "        text-align: right;\n",
       "    }\n",
       "</style>\n",
       "<table border=\"1\" class=\"dataframe\">\n",
       "  <thead>\n",
       "    <tr style=\"text-align: right;\">\n",
       "      <th></th>\n",
       "      <th>profile_id</th>\n",
       "      <th>numbr_likes</th>\n",
       "    </tr>\n",
       "  </thead>\n",
       "  <tbody>\n",
       "    <tr>\n",
       "      <th>19624085</th>\n",
       "      <td>49067778.00</td>\n",
       "      <td>8822952.00</td>\n",
       "    </tr>\n",
       "    <tr>\n",
       "      <th>19623988</th>\n",
       "      <td>49067778.00</td>\n",
       "      <td>5447066.00</td>\n",
       "    </tr>\n",
       "    <tr>\n",
       "      <th>19624082</th>\n",
       "      <td>49067778.00</td>\n",
       "      <td>5116398.00</td>\n",
       "    </tr>\n",
       "    <tr>\n",
       "      <th>19623986</th>\n",
       "      <td>49067778.00</td>\n",
       "      <td>4271466.00</td>\n",
       "    </tr>\n",
       "    <tr>\n",
       "      <th>39701024</th>\n",
       "      <td>427553890.00</td>\n",
       "      <td>4264745</td>\n",
       "    </tr>\n",
       "    <tr>\n",
       "      <th>6293907</th>\n",
       "      <td>1518284433</td>\n",
       "      <td>3586546</td>\n",
       "    </tr>\n",
       "    <tr>\n",
       "      <th>19624086</th>\n",
       "      <td>49067778.00</td>\n",
       "      <td>3558599.00</td>\n",
       "    </tr>\n",
       "    <tr>\n",
       "      <th>19802016</th>\n",
       "      <td>2153680783.00</td>\n",
       "      <td>3533326.00</td>\n",
       "    </tr>\n",
       "    <tr>\n",
       "      <th>30850564</th>\n",
       "      <td>20315007.00</td>\n",
       "      <td>3340297</td>\n",
       "    </tr>\n",
       "    <tr>\n",
       "      <th>39812576</th>\n",
       "      <td>35306961.00</td>\n",
       "      <td>3311246</td>\n",
       "    </tr>\n",
       "  </tbody>\n",
       "</table>\n",
       "</div>"
      ],
      "text/plain": [
       "            profile_id numbr_likes\n",
       "19624085   49067778.00  8822952.00\n",
       "19623988   49067778.00  5447066.00\n",
       "19624082   49067778.00  5116398.00\n",
       "19623986   49067778.00  4271466.00\n",
       "39701024  427553890.00     4264745\n",
       "6293907     1518284433     3586546\n",
       "19624086   49067778.00  3558599.00\n",
       "19802016 2153680783.00  3533326.00\n",
       "30850564   20315007.00     3340297\n",
       "39812576   35306961.00     3311246"
      ]
     },
     "execution_count": 16,
     "metadata": {},
     "output_type": "execute_result"
    }
   ],
   "source": [
    "pd.set_option('display.float_format', lambda x: '%.2f' % x) # This line remove the scientific notation\n",
    "df_like.sort_values(by=\"numbr_likes\",ascending=False).head(top_n)"
   ]
  },
  {
   "cell_type": "markdown",
   "id": "c9ec6e18",
   "metadata": {
    "id": "8c54acc4"
   },
   "source": [
    "## RQ2.3\n",
    "What posts have the most and the least number of comments?"
   ]
  },
  {
   "cell_type": "code",
   "execution_count": null,
   "id": "f4120434",
   "metadata": {
    "id": "d708ea9e",
    "outputId": "591e8bad-7cbc-4ca8-9890-5c29d4284d68"
   },
   "outputs": [
    {
     "name": "stderr",
     "output_type": "stream",
     "text": [
      "86it [01:35,  1.11s/it]\n"
     ]
    }
   ],
   "source": [
    "df_comments= pd.DataFrame(columns=[\"profile_id\",\"number_comments\"])\n",
    "\n",
    "#We take the first 10 posts for number of comments of every subdataset\n",
    "#We take last 10 posts for number of comments of every subdataset.\n",
    "top_n=10\n",
    "\n",
    "#After that we merge them together in order to understand which post have most and least comment.\n",
    "#Since we take only 10 posts with highiest number of comment and 10 posts with lower number of comment for each subset\n",
    "#We can only be sure about the top ten and the bottom ten of the final dataset.\n",
    "for chunk in tqdm(pd.read_csv(\"~/instagram_posts.csv\",chunksize=500000,usecols=[\"profile_id\",\"number_comments\"], delimiter=\"\\t\")):\n",
    "    df_comments=pd.concat([df_comments,chunk.sort_values(by=\"number_comments\",ascending=False).head(top_n)])\n",
    "    df_comments=pd.concat([df_comments,chunk.sort_values(by=\"number_comments\").head(top_n)])\n"
   ]
  },
  {
   "cell_type": "code",
   "execution_count": null,
   "id": "b1361b4f",
   "metadata": {
    "id": "2c6ea848",
    "outputId": "f80fa432-905a-420e-f5eb-82a77a41f162"
   },
   "outputs": [
    {
     "data": {
      "text/html": [
       "<div>\n",
       "<style scoped>\n",
       "    .dataframe tbody tr th:only-of-type {\n",
       "        vertical-align: middle;\n",
       "    }\n",
       "\n",
       "    .dataframe tbody tr th {\n",
       "        vertical-align: top;\n",
       "    }\n",
       "\n",
       "    .dataframe thead th {\n",
       "        text-align: right;\n",
       "    }\n",
       "</style>\n",
       "<table border=\"1\" class=\"dataframe\">\n",
       "  <thead>\n",
       "    <tr style=\"text-align: right;\">\n",
       "      <th></th>\n",
       "      <th>profile_id</th>\n",
       "      <th>number_comments</th>\n",
       "    </tr>\n",
       "  </thead>\n",
       "  <tbody>\n",
       "    <tr>\n",
       "      <th>41873060</th>\n",
       "      <td>1635669992</td>\n",
       "      <td>488953</td>\n",
       "    </tr>\n",
       "    <tr>\n",
       "      <th>12164781</th>\n",
       "      <td>428299385.00</td>\n",
       "      <td>313997</td>\n",
       "    </tr>\n",
       "    <tr>\n",
       "      <th>33261751</th>\n",
       "      <td>55336452.00</td>\n",
       "      <td>257488</td>\n",
       "    </tr>\n",
       "    <tr>\n",
       "      <th>11149127</th>\n",
       "      <td>5697152.00</td>\n",
       "      <td>214365</td>\n",
       "    </tr>\n",
       "    <tr>\n",
       "      <th>9383817</th>\n",
       "      <td>1062916389.00</td>\n",
       "      <td>189888</td>\n",
       "    </tr>\n",
       "    <tr>\n",
       "      <th>5427268</th>\n",
       "      <td>144094924</td>\n",
       "      <td>180635</td>\n",
       "    </tr>\n",
       "    <tr>\n",
       "      <th>25257169</th>\n",
       "      <td>16668152.00</td>\n",
       "      <td>173988</td>\n",
       "    </tr>\n",
       "    <tr>\n",
       "      <th>6220011</th>\n",
       "      <td>179780704</td>\n",
       "      <td>170836</td>\n",
       "    </tr>\n",
       "    <tr>\n",
       "      <th>31689573</th>\n",
       "      <td>6760538.00</td>\n",
       "      <td>166919</td>\n",
       "    </tr>\n",
       "    <tr>\n",
       "      <th>14257307</th>\n",
       "      <td>195941768.00</td>\n",
       "      <td>166198</td>\n",
       "    </tr>\n",
       "  </tbody>\n",
       "</table>\n",
       "</div>"
      ],
      "text/plain": [
       "            profile_id number_comments\n",
       "41873060    1635669992          488953\n",
       "12164781  428299385.00          313997\n",
       "33261751   55336452.00          257488\n",
       "11149127    5697152.00          214365\n",
       "9383817  1062916389.00          189888\n",
       "5427268      144094924          180635\n",
       "25257169   16668152.00          173988\n",
       "6220011      179780704          170836\n",
       "31689573    6760538.00          166919\n",
       "14257307  195941768.00          166198"
      ]
     },
     "execution_count": 20,
     "metadata": {},
     "output_type": "execute_result"
    }
   ],
   "source": [
    "df_comments.sort_values(by=\"number_comments\",ascending=False).head(top_n) #Top 10"
   ]
  },
  {
   "cell_type": "code",
   "execution_count": null,
   "id": "9550a116",
   "metadata": {
    "id": "e3221bc2",
    "outputId": "7964ceda-24da-4845-fa51-1513baee3131"
   },
   "outputs": [
    {
     "data": {
      "text/html": [
       "<div>\n",
       "<style scoped>\n",
       "    .dataframe tbody tr th:only-of-type {\n",
       "        vertical-align: middle;\n",
       "    }\n",
       "\n",
       "    .dataframe tbody tr th {\n",
       "        vertical-align: top;\n",
       "    }\n",
       "\n",
       "    .dataframe thead th {\n",
       "        text-align: right;\n",
       "    }\n",
       "</style>\n",
       "<table border=\"1\" class=\"dataframe\">\n",
       "  <thead>\n",
       "    <tr style=\"text-align: right;\">\n",
       "      <th></th>\n",
       "      <th>profile_id</th>\n",
       "      <th>number_comments</th>\n",
       "    </tr>\n",
       "  </thead>\n",
       "  <tbody>\n",
       "    <tr>\n",
       "      <th>21157738</th>\n",
       "      <td>176389796.00</td>\n",
       "      <td>0</td>\n",
       "    </tr>\n",
       "    <tr>\n",
       "      <th>23127129</th>\n",
       "      <td>523007545.00</td>\n",
       "      <td>0</td>\n",
       "    </tr>\n",
       "    <tr>\n",
       "      <th>23127130</th>\n",
       "      <td>523007545.00</td>\n",
       "      <td>0</td>\n",
       "    </tr>\n",
       "    <tr>\n",
       "      <th>23268702</th>\n",
       "      <td>4921761031.00</td>\n",
       "      <td>0</td>\n",
       "    </tr>\n",
       "    <tr>\n",
       "      <th>23749999</th>\n",
       "      <td>4537782929.00</td>\n",
       "      <td>0</td>\n",
       "    </tr>\n",
       "    <tr>\n",
       "      <th>23755000</th>\n",
       "      <td>10010241785.00</td>\n",
       "      <td>0</td>\n",
       "    </tr>\n",
       "    <tr>\n",
       "      <th>23755003</th>\n",
       "      <td>10010241785.00</td>\n",
       "      <td>0</td>\n",
       "    </tr>\n",
       "    <tr>\n",
       "      <th>23755006</th>\n",
       "      <td>10010241785.00</td>\n",
       "      <td>0</td>\n",
       "    </tr>\n",
       "    <tr>\n",
       "      <th>23755008</th>\n",
       "      <td>5803519446.00</td>\n",
       "      <td>0</td>\n",
       "    </tr>\n",
       "    <tr>\n",
       "      <th>23755018</th>\n",
       "      <td>24169919.00</td>\n",
       "      <td>0</td>\n",
       "    </tr>\n",
       "  </tbody>\n",
       "</table>\n",
       "</div>"
      ],
      "text/plain": [
       "             profile_id number_comments\n",
       "21157738   176389796.00               0\n",
       "23127129   523007545.00               0\n",
       "23127130   523007545.00               0\n",
       "23268702  4921761031.00               0\n",
       "23749999  4537782929.00               0\n",
       "23755000 10010241785.00               0\n",
       "23755003 10010241785.00               0\n",
       "23755006 10010241785.00               0\n",
       "23755008  5803519446.00               0\n",
       "23755018    24169919.00               0"
      ]
     },
     "execution_count": 21,
     "metadata": {},
     "output_type": "execute_result"
    }
   ],
   "source": [
    "df_comments.sort_values(by=\"number_comments\").head(top_n)                 #Bottom 10"
   ]
  },
  {
   "cell_type": "markdown",
   "id": "8d98910a",
   "metadata": {
    "id": "fd5fafce"
   },
   "source": [
    "### RQ2.4\n",
    "How many posts include tagged locations, and how many do not? Show it using an appropriate chart and comment your results."
   ]
  },
  {
   "cell_type": "code",
   "execution_count": null,
   "id": "638a5ae4",
   "metadata": {
    "id": "13afdec3",
    "outputId": "30fff3ce-c957-48a4-a2c9-588cedb87385"
   },
   "outputs": [
    {
     "name": "stderr",
     "output_type": "stream",
     "text": [
      "86it [01:34,  1.10s/it]\n"
     ]
    }
   ],
   "source": [
    "NO_tag_location,tot=0,0\n",
    "for chunk in tqdm(pd.read_csv(\"~/instagram_posts.csv\",chunksize=500000,usecols=[\"location_id\"],delimiter=\"\\t\")):\n",
    "    NO_tag_location += chunk.location_id.isna().sum()\n",
    "    tot += chunk.shape[0]"
   ]
  },
  {
   "cell_type": "code",
   "execution_count": null,
   "id": "44472c35",
   "metadata": {
    "id": "501a2024",
    "outputId": "a3e423a5-e9ff-44d2-9a19-321607e99782"
   },
   "outputs": [
    {
     "data": {
      "image/png": "[encoded data removed]",
      "text/plain": [
       "<Figure size 432x288 with 2 Axes>"
      ]
     },
     "metadata": {
      "needs_background": "light"
     },
     "output_type": "display_data"
    }
   ],
   "source": [
    "fig = plt.figure() #set figure\n",
    "labs = ['Senza Location', \"Con Location\"]                  #Creating labs\n",
    "valori = [NO_tag_location/tot,(tot-NO_tag_location)/tot]   #Values\n",
    "\n",
    "\n",
    "\n",
    "plt.subplot(1,3,1)  #set first subplot \n",
    "plt.bar(labs,valori,width=0.1)  #barplot\n",
    "\n",
    "plt.subplot(1,3,3) #set second subplot\n",
    "plt.pie(valori,labels=['Without Location :\\n'+str(round(NO_tag_location/tot*100,2))+\"%\", \"With Location :\\n\"+str(round((tot-NO_tag_location)/tot*100,2))+\"%\"]) #pieplot\n",
    "\n",
    "plt.show() "
   ]
  },
  {
   "cell_type": "markdown",
   "id": "c71bf55b",
   "metadata": {
    "id": "1025ebdb"
   },
   "source": [
    "30.4 % of posts without location and 69.6 % with location.\n",
    "So the majority of the users include locations in their posts."
   ]
  },
  {
   "cell_type": "markdown",
   "id": "683aa201",
   "metadata": {
    "id": "24b33d56"
   },
   "source": [
    "### RQ2.5\n",
    "How many posts include only photos? How many also have videos?"
   ]
  },
  {
   "cell_type": "code",
   "execution_count": null,
   "id": "524e4d4b",
   "metadata": {
    "id": "cec61e9e",
    "outputId": "fd719741-9c52-4f9c-e9a4-7c560cd70e7d"
   },
   "outputs": [
    {
     "name": "stderr",
     "output_type": "stream",
     "text": [
      "86it [01:35,  1.11s/it]\n"
     ]
    }
   ],
   "source": [
    "#We initialize a pandas series, after that we iterate.\n",
    "#For every loop we find the frequency of posts with photos, videos and both and we add it to our initializated series.\n",
    "type_post = pd.Series([0,0,0],index=[1, 2, 3])\n",
    "for chunk in tqdm(pd.read_csv(\"~/instagram_posts.csv\",chunksize=500000,usecols=[\"post_type\"], delimiter=\"\\t\")):\n",
    "    type_post = type_post.add(chunk.post_type.value_counts(),fill_value=0)"
   ]
  },
  {
   "cell_type": "markdown",
   "id": "de65c1df",
   "metadata": {
    "id": "ecfed0fb"
   },
   "source": [
    "### Percentual frequency table"
   ]
  },
  {
   "cell_type": "code",
   "execution_count": null,
   "id": "240e4d4e",
   "metadata": {
    "id": "94acf0a3",
    "outputId": "5bb3bc76-445b-4fd5-baeb-0464a090e300"
   },
   "outputs": [
    {
     "data": {
      "text/plain": [
       "Only photo   97.25\n",
       "Only video    2.66\n",
       "Multy         0.10\n",
       "dtype: float64"
      ]
     },
     "execution_count": 29,
     "metadata": {},
     "output_type": "execute_result"
    }
   ],
   "source": [
    "type_post=type_post.astype(int)\n",
    "type_post=pd.Series(list(type_post),index=[\"Only photo\",\"Only video\",\"Multy\"])\n",
    "round(type_post/sum(type_post)*100,2)"
   ]
  },
  {
   "cell_type": "markdown",
   "id": "0c2cec32",
   "metadata": {
    "id": "904f9ef8"
   },
   "source": [
    "### Plot"
   ]
  },
  {
   "cell_type": "code",
   "execution_count": null,
   "id": "751951d2",
   "metadata": {
    "id": "f5e85d3f",
    "outputId": "5c151d42-13af-4709-817b-361cede221fd"
   },
   "outputs": [
    {
     "data": {
      "image/png": "[encoded data removed]",
      "text/plain": [
       "<Figure size 432x288 with 1 Axes>"
      ]
     },
     "metadata": {
      "needs_background": "light"
     },
     "output_type": "display_data"
    }
   ],
   "source": [
    "#type_post=[41534486,1134768,40943]\n",
    "#fig = plt.figure() #set figure\n",
    "tot=sum(type_post)\n",
    "labs = ['Only photo', \"Only video\",\"Multy\"]                  #Creating labs\n",
    "valori=np.array(type_post) /  tot                            #Values\n",
    "\n",
    "plt.bar(labs,valori,width=0.1)  #barplot\n",
    "\n",
    "plt.show() "
   ]
  },
  {
   "cell_type": "markdown",
   "id": "2fe4c997",
   "metadata": {
    "id": "249e6a4d"
   },
   "source": [
    "As  we can see from the barplot and the frequency table  97% of the posts include only photo.   \n",
    "Then 2.66 % include only video.  \n",
    "There are very few post that have both (0.10%)  .\n"
   ]
  },
  {
   "cell_type": "markdown",
   "id": "bac47073",
   "metadata": {
    "id": "223af526"
   },
   "source": [
    "### RQ2.6\n",
    "What's the percentage of business accounts vs non-business? What can you interpret regarding that percentage?"
   ]
  },
  {
   "cell_type": "code",
   "execution_count": null,
   "id": "e6b6116a",
   "metadata": {
    "id": "7ad80a41",
    "outputId": "9ddbb817-2ffb-4afb-f9b2-230c5760c5a2"
   },
   "outputs": [
    {
     "data": {
      "text/plain": [
       "Not business   75.18\n",
       "Business       24.82\n",
       "Name: is_business_account, dtype: float64"
      ]
     },
     "execution_count": 31,
     "metadata": {},
     "output_type": "execute_result"
    }
   ],
   "source": [
    "#We drop the profiles that do not have a specific account type.\n",
    "profiles.dropna(subset=[\"is_business_account\"],inplace=True)\n",
    "business=profiles.is_business_account.value_counts()/profiles.shape[0]*100\n",
    "business.rename({False: \"Not business\", True: \"Business\"})"
   ]
  },
  {
   "cell_type": "markdown",
   "id": "04230396",
   "metadata": {
    "id": "ba2dbd3d"
   },
   "source": [
    "As we can see most of the profiles aren't business account."
   ]
  },
  {
   "cell_type": "markdown",
   "id": "8b45899a",
   "metadata": {
    "id": "5e842a84"
   },
   "source": [
    "# RQ3\n",
    "What is the most common time in which users publish their posts?"
   ]
  },
  {
   "cell_type": "markdown",
   "id": "35a71d97",
   "metadata": {
    "id": "874317d1"
   },
   "source": [
    "We have to focus on the variabile \"cts\".  "
   ]
  },
  {
   "cell_type": "markdown",
   "id": "11ad2d31",
   "metadata": {
    "id": "dab94249"
   },
   "source": [
    "The first thing that we have to is bring this variable in **datetime** format."
   ]
  },
  {
   "cell_type": "code",
   "execution_count": null,
   "id": "181fc8d5",
   "metadata": {
    "id": "e2ba7d58"
   },
   "outputs": [],
   "source": [
    "from datetime import datetime\n",
    "import re\n",
    "from collections import Counter\n",
    "from matplotlib.pyplot import figure\n",
    "\n",
    "\n",
    "def time_interval(interval):\n",
    "    conta=Counter()\n",
    "    \n",
    "    #Inizialization of the counter, this is done in order to have a sorted plot by interval\n",
    "    for a in range(0,len(interval)):\n",
    "        conta[interval[a]] += 0\n",
    "\n",
    "    \n",
    "    for chunk in tqdm(pd.read_csv(\"~/instagram_posts.csv\",usecols=[\"cts\"],chunksize=250000, delimiter=\"\\t\")):\n",
    "        chunk.cts=pd.to_datetime(chunk.cts)\n",
    "\n",
    "        for oss in chunk.cts.dt.time :\n",
    "            try:\n",
    "                oss=oss.strftime('%H:%M:%S')\n",
    " \n",
    "                for j in range(0,len(interval)):\n",
    "                    intervalli=re.findall(r\"[0-9:]+\",interval[j])\n",
    "                    inizio=datetime.strptime(intervalli[0], '%H:%M:%S').strftime(\"%H:%M:%S\")\n",
    "                    fine=datetime.strptime(intervalli[1], '%H:%M:%S').strftime(\"%H:%M:%S\")\n",
    "\n",
    "                    if oss >= inizio and oss <= fine:\n",
    "                        conta[interval[j]] += 1\n",
    "                        break\n",
    "            except:\n",
    "                pass\n",
    "\n",
    "                \n",
    "    x=[5*i for i in range(len(interval))]\n",
    "    y=np.array([conta[i] for i in conta.keys()])\n",
    "    tot=sum(y)\n",
    "    figure(figsize=(18, 6), dpi=80)\n",
    "    plt.bar(x,y/tot,tick_label=interval)\n",
    "    plt.show()"
   ]
  },
  {
   "cell_type": "code",
   "execution_count": null,
   "id": "8a083094",
   "metadata": {
    "id": "0db3d3ff",
    "outputId": "0c86185b-5a1d-4a07-fd44-4ceed34dbfd4"
   },
   "outputs": [
    {
     "name": "stderr",
     "output_type": "stream",
     "text": [
      "171it [1:00:32, 21.24s/it]\n"
     ]
    },
    {
     "data": {
      "image/png": "[encoded data removed]",
      "text/plain": [
       "<Figure size 1440x480 with 1 Axes>"
      ]
     },
     "metadata": {
      "needs_background": "light"
     },
     "output_type": "display_data"
    }
   ],
   "source": [
    "interval=[\"06:00:00-10:59:59\",\"11:00:00-13:59:59\",\"14:00:00-16:59:59\",\"17:00:00-19:59:59\",\"20:00:00-23:59:59\",\"00:00:00-02:59:59\",\"03:00:00-05:59:59\"]\n",
    "time_interval(interval)"
   ]
  },
  {
   "cell_type": "markdown",
   "id": "e0bc64ac",
   "metadata": {
    "id": "54e595ff"
   },
   "source": [
    "The most common time in which users publish their posts is from 20:00:00 to 23:59:59.  \n",
    "But as we can see from the chart there is not a wide gap among the intervals, maybe because the posts are from profiles  that are located in different time zone."
   ]
  },
  {
   "cell_type": "markdown",
   "id": "40fbe42d",
   "metadata": {
    "id": "4a068ce2"
   },
   "source": [
    "# RQ4\n",
    "In most cases, we will not have a consistent dataset, and the one we are dealing with is not an exception (ex. in the given datasets, you may not find the information of the profiles for some of the posts). So let’s enhance our analysis."
   ]
  },
  {
   "cell_type": "markdown",
   "id": "dbc281ed",
   "metadata": {
    "id": "cdaeca06"
   },
   "source": [
    "## RQ4.1\n",
    "Write a function that, given a profile_id, will be able to return the posts that belong to the given profile_id."
   ]
  },
  {
   "cell_type": "code",
   "execution_count": null,
   "id": "26c78937",
   "metadata": {
    "id": "a8443da0"
   },
   "outputs": [],
   "source": [
    "def profiler(profile):\n",
    "    q3=pd.read_csv(\"~/instagram_posts.csv\",nrows=1,delimiter=\"\\t\")\n",
    "    colonne=list(q3.columns)\n",
    "    dpost= pd.DataFrame(columns=colonne)\n",
    "    for chunk in tqdm(pd.read_csv(\"~/instagram_posts.csv\",chunksize=500000, delimiter=\"\\t\")):\n",
    "        dpost=pd.concat([dpost,chunk[chunk.profile_id == profile]])\n",
    "        \n",
    "    return dpost"
   ]
  },
  {
   "cell_type": "code",
   "execution_count": null,
   "id": "6a4184fa",
   "metadata": {
    "id": "f64a9ed1",
    "outputId": "fdab7838-a848-463b-91e6-06cca6c85f76"
   },
   "outputs": [
    {
     "name": "stderr",
     "output_type": "stream",
     "text": [
      "86it [03:47,  2.64s/it]\n"
     ]
    },
    {
     "data": {
      "text/html": [
       "<div>\n",
       "<style scoped>\n",
       "    .dataframe tbody tr th:only-of-type {\n",
       "        vertical-align: middle;\n",
       "    }\n",
       "\n",
       "    .dataframe tbody tr th {\n",
       "        vertical-align: top;\n",
       "    }\n",
       "\n",
       "    .dataframe thead th {\n",
       "        text-align: right;\n",
       "    }\n",
       "</style>\n",
       "<table border=\"1\" class=\"dataframe\">\n",
       "  <thead>\n",
       "    <tr style=\"text-align: right;\">\n",
       "      <th></th>\n",
       "      <th>sid</th>\n",
       "      <th>sid_profile</th>\n",
       "      <th>post_id</th>\n",
       "      <th>profile_id</th>\n",
       "      <th>location_id</th>\n",
       "      <th>cts</th>\n",
       "      <th>post_type</th>\n",
       "      <th>description</th>\n",
       "      <th>numbr_likes</th>\n",
       "      <th>number_comments</th>\n",
       "    </tr>\n",
       "  </thead>\n",
       "  <tbody>\n",
       "    <tr>\n",
       "      <th>0</th>\n",
       "      <td>28370919</td>\n",
       "      <td>3496776</td>\n",
       "      <td>BXdjjUlgcgq</td>\n",
       "      <td>2237947779</td>\n",
       "      <td>1022366247837915.00</td>\n",
       "      <td>2017-08-06 20:06:57.000</td>\n",
       "      <td>2</td>\n",
       "      <td>Wreckloose! Deevalley bike park laps on the @i...</td>\n",
       "      <td>80</td>\n",
       "      <td>0</td>\n",
       "    </tr>\n",
       "  </tbody>\n",
       "</table>\n",
       "</div>"
      ],
      "text/plain": [
       "        sid sid_profile      post_id  profile_id         location_id  \\\n",
       "0  28370919     3496776  BXdjjUlgcgq  2237947779 1022366247837915.00   \n",
       "\n",
       "                       cts post_type  \\\n",
       "0  2017-08-06 20:06:57.000         2   \n",
       "\n",
       "                                         description numbr_likes  \\\n",
       "0  Wreckloose! Deevalley bike park laps on the @i...          80   \n",
       "\n",
       "  number_comments  \n",
       "0               0  "
      ]
     },
     "execution_count": 33,
     "metadata": {},
     "output_type": "execute_result"
    }
   ],
   "source": [
    "profilo=2237947779\n",
    "nposts=profiler(profilo)\n",
    "nposts.head(1)"
   ]
  },
  {
   "cell_type": "markdown",
   "id": "a451c43c",
   "metadata": {
    "id": "2b7611ee"
   },
   "source": [
    "## RQ4.2\n",
    "Write another function that, given an input n (an integer), will return the posts that belong to the n top posted profiles (top n profiles that have posted the highest number of posts) that their data is available in the profile.csv using the previously written function."
   ]
  },
  {
   "cell_type": "code",
   "execution_count": null,
   "id": "2936aee4",
   "metadata": {
    "id": "d3d0050b"
   },
   "outputs": [],
   "source": [
    "#I will not use the function that was created in the last exercise.\n",
    "#I made this choice because in this way the process will be faster, infact we only iterate once in the heavy instagram_posts dataset.\n",
    "\n",
    "#If we want to use the function created in the last exercise he have to iterate on instagram_posts dataset n times, and that is not efficient.\n",
    "#Anyway i will also implement this method in order to complete at 100% the exercise.\n",
    "\n",
    "#Faster way (my way)\n",
    "def first_n_profiles_post(n):\n",
    "    q3=pd.read_csv(\"~/instagram_posts.csv\",nrows=1,delimiter=\"\\t\")\n",
    "    colonne=list(q3.columns)\n",
    "    npost= pd.DataFrame(columns=colonne)\n",
    "    \n",
    "    top=profiles.sort_values(by=\"n_posts\",ascending=False).head(n)\n",
    "    top=list(top.profile_id.astype(int))\n",
    "    \n",
    "    #Same as before we have to deal with big dataset.\n",
    "    #So we are going to use unix command to cut the dataset and make it smaller, other than work with chunk.\n",
    "    for chunk in tqdm(pd.read_csv(\"~/instagram_posts.csv\",chunksize=500000, delimiter=\"\\t\")):\n",
    "        npost=pd.concat([npost,chunk[chunk.profile_id.isin(top)]])\n",
    "    \n",
    "    return npost \n",
    "\n",
    "# Slow way (request by the exercise)\n",
    "def first_n_profiles_post_slow(n):\n",
    "    q3=pd.read_csv(\"~/instagram_posts.csv\",nrows=1,delimiter=\"\\t\")\n",
    "    colonne=list(q3.columns)\n",
    "    npost= pd.DataFrame(columns=colonne)\n",
    "    \n",
    "    top=profiles.sort_values(by=\"n_posts\",ascending=False).head(n)\n",
    "    top=list(top.profile_id.astype(int))\n",
    "    \n",
    "    for i in range(0,len(top)):\n",
    "        rows=profiler(int(top[i]))\n",
    "        npost=pd.concat([npost,rows])\n",
    "    return npost\n",
    "\n",
    "\n",
    "#In the fast way the compute time will be approximately the same for any n chosen.\n",
    "#In the slow way the compute time will be : runningtime of the fastway * n"
   ]
  },
  {
   "cell_type": "code",
   "execution_count": null,
   "id": "078f7cdb",
   "metadata": {
    "id": "15cf888b",
    "outputId": "6de7b5b3-bfbd-4215-b0de-07645afe9254"
   },
   "outputs": [
    {
     "name": "stderr",
     "output_type": "stream",
     "text": [
      "86it [03:47,  2.65s/it]\n"
     ]
    },
    {
     "data": {
      "text/html": [
       "<div>\n",
       "<style scoped>\n",
       "    .dataframe tbody tr th:only-of-type {\n",
       "        vertical-align: middle;\n",
       "    }\n",
       "\n",
       "    .dataframe tbody tr th {\n",
       "        vertical-align: top;\n",
       "    }\n",
       "\n",
       "    .dataframe thead th {\n",
       "        text-align: right;\n",
       "    }\n",
       "</style>\n",
       "<table border=\"1\" class=\"dataframe\">\n",
       "  <thead>\n",
       "    <tr style=\"text-align: right;\">\n",
       "      <th></th>\n",
       "      <th>sid</th>\n",
       "      <th>sid_profile</th>\n",
       "      <th>post_id</th>\n",
       "      <th>profile_id</th>\n",
       "      <th>location_id</th>\n",
       "      <th>cts</th>\n",
       "      <th>post_type</th>\n",
       "      <th>description</th>\n",
       "      <th>numbr_likes</th>\n",
       "      <th>number_comments</th>\n",
       "    </tr>\n",
       "  </thead>\n",
       "  <tbody>\n",
       "    <tr>\n",
       "      <th>9592952</th>\n",
       "      <td>21205477</td>\n",
       "      <td>3661552</td>\n",
       "      <td>Bq3hP3Khp8J</td>\n",
       "      <td>199664772.00</td>\n",
       "      <td>1029593228.00</td>\n",
       "      <td>2018-12-02 03:03:33.000</td>\n",
       "      <td>1</td>\n",
       "      <td>NaN</td>\n",
       "      <td>0</td>\n",
       "      <td>0</td>\n",
       "    </tr>\n",
       "    <tr>\n",
       "      <th>9592953</th>\n",
       "      <td>21205482</td>\n",
       "      <td>3661552</td>\n",
       "      <td>Bq3hN53hUsD</td>\n",
       "      <td>199664772.00</td>\n",
       "      <td>1029593228.00</td>\n",
       "      <td>2018-12-02 03:03:17.000</td>\n",
       "      <td>1</td>\n",
       "      <td>NaN</td>\n",
       "      <td>0</td>\n",
       "      <td>0</td>\n",
       "    </tr>\n",
       "    <tr>\n",
       "      <th>9592954</th>\n",
       "      <td>24906254</td>\n",
       "      <td>3661552</td>\n",
       "      <td>BCqCe9LypeF</td>\n",
       "      <td>199664772.00</td>\n",
       "      <td>1029569178.00</td>\n",
       "      <td>2016-03-07 16:28:50.000</td>\n",
       "      <td>1</td>\n",
       "      <td>#تصويري</td>\n",
       "      <td>27</td>\n",
       "      <td>0</td>\n",
       "    </tr>\n",
       "    <tr>\n",
       "      <th>9592955</th>\n",
       "      <td>25468626</td>\n",
       "      <td>3661552</td>\n",
       "      <td>20Wu4zypd2</td>\n",
       "      <td>199664772.00</td>\n",
       "      <td>237398449.00</td>\n",
       "      <td>2015-05-18 11:21:27.000</td>\n",
       "      <td>1</td>\n",
       "      <td>#تصويري</td>\n",
       "      <td>28</td>\n",
       "      <td>0</td>\n",
       "    </tr>\n",
       "    <tr>\n",
       "      <th>9592956</th>\n",
       "      <td>27616128</td>\n",
       "      <td>3661552</td>\n",
       "      <td>BrKq76AhadU</td>\n",
       "      <td>199664772.00</td>\n",
       "      <td>321337322.00</td>\n",
       "      <td>2018-12-09 13:33:47.000</td>\n",
       "      <td>1</td>\n",
       "      <td>NaN</td>\n",
       "      <td>1</td>\n",
       "      <td>0</td>\n",
       "    </tr>\n",
       "    <tr>\n",
       "      <th>9592957</th>\n",
       "      <td>28243841</td>\n",
       "      <td>3661552</td>\n",
       "      <td>Bq_MjFzB_Wt</td>\n",
       "      <td>199664772.00</td>\n",
       "      <td>280774016.00</td>\n",
       "      <td>2018-12-05 02:36:36.000</td>\n",
       "      <td>1</td>\n",
       "      <td>NaN</td>\n",
       "      <td>7</td>\n",
       "      <td>0</td>\n",
       "    </tr>\n",
       "    <tr>\n",
       "      <th>9592958</th>\n",
       "      <td>28243843</td>\n",
       "      <td>3661552</td>\n",
       "      <td>Bq_MiKhhP05</td>\n",
       "      <td>199664772.00</td>\n",
       "      <td>280774016.00</td>\n",
       "      <td>2018-12-05 02:36:28.000</td>\n",
       "      <td>1</td>\n",
       "      <td>NaN</td>\n",
       "      <td>3</td>\n",
       "      <td>0</td>\n",
       "    </tr>\n",
       "    <tr>\n",
       "      <th>9592959</th>\n",
       "      <td>36453059</td>\n",
       "      <td>3661552</td>\n",
       "      <td>BpQ2cmKF-W0</td>\n",
       "      <td>199664772.00</td>\n",
       "      <td>1023754497.00</td>\n",
       "      <td>2018-10-23 07:07:01.000</td>\n",
       "      <td>1</td>\n",
       "      <td>NaN</td>\n",
       "      <td>1</td>\n",
       "      <td>0</td>\n",
       "    </tr>\n",
       "    <tr>\n",
       "      <th>9592960</th>\n",
       "      <td>8768851</td>\n",
       "      <td>3661552</td>\n",
       "      <td>3V4OeXypTT</td>\n",
       "      <td>199664772.00</td>\n",
       "      <td>279384086.00</td>\n",
       "      <td>2015-05-31 11:49:04.000</td>\n",
       "      <td>1</td>\n",
       "      <td>#تصويري</td>\n",
       "      <td>19</td>\n",
       "      <td>0</td>\n",
       "    </tr>\n",
       "    <tr>\n",
       "      <th>9592961</th>\n",
       "      <td>37701663</td>\n",
       "      <td>3661552</td>\n",
       "      <td>BzUmjr2pgni</td>\n",
       "      <td>199664772.00</td>\n",
       "      <td>nan</td>\n",
       "      <td>2019-06-30 07:19:05.000</td>\n",
       "      <td>1</td>\n",
       "      <td>NaN</td>\n",
       "      <td>11</td>\n",
       "      <td>0</td>\n",
       "    </tr>\n",
       "    <tr>\n",
       "      <th>9592962</th>\n",
       "      <td>37701676</td>\n",
       "      <td>3661552</td>\n",
       "      <td>BzUmictJSO1</td>\n",
       "      <td>199664772.00</td>\n",
       "      <td>nan</td>\n",
       "      <td>2019-06-30 07:18:55.000</td>\n",
       "      <td>1</td>\n",
       "      <td>NaN</td>\n",
       "      <td>6</td>\n",
       "      <td>0</td>\n",
       "    </tr>\n",
       "    <tr>\n",
       "      <th>9592963</th>\n",
       "      <td>37701690</td>\n",
       "      <td>3661552</td>\n",
       "      <td>BzUmhW0pjrN</td>\n",
       "      <td>199664772.00</td>\n",
       "      <td>nan</td>\n",
       "      <td>2019-06-30 07:18:46.000</td>\n",
       "      <td>1</td>\n",
       "      <td>NaN</td>\n",
       "      <td>2</td>\n",
       "      <td>0</td>\n",
       "    </tr>\n",
       "    <tr>\n",
       "      <th>9592964</th>\n",
       "      <td>37701703</td>\n",
       "      <td>3661552</td>\n",
       "      <td>BzUmgscJEK4</td>\n",
       "      <td>199664772.00</td>\n",
       "      <td>nan</td>\n",
       "      <td>2019-06-30 07:18:40.000</td>\n",
       "      <td>1</td>\n",
       "      <td>NaN</td>\n",
       "      <td>4</td>\n",
       "      <td>0</td>\n",
       "    </tr>\n",
       "    <tr>\n",
       "      <th>9592965</th>\n",
       "      <td>37701709</td>\n",
       "      <td>3661552</td>\n",
       "      <td>BzUmgBYJzoS</td>\n",
       "      <td>199664772.00</td>\n",
       "      <td>nan</td>\n",
       "      <td>2019-06-30 07:18:35.000</td>\n",
       "      <td>1</td>\n",
       "      <td>NaN</td>\n",
       "      <td>2</td>\n",
       "      <td>0</td>\n",
       "    </tr>\n",
       "    <tr>\n",
       "      <th>9592966</th>\n",
       "      <td>37701722</td>\n",
       "      <td>3661552</td>\n",
       "      <td>BzUmfZspDqA</td>\n",
       "      <td>199664772.00</td>\n",
       "      <td>nan</td>\n",
       "      <td>2019-06-30 07:18:30.000</td>\n",
       "      <td>1</td>\n",
       "      <td>NaN</td>\n",
       "      <td>6</td>\n",
       "      <td>0</td>\n",
       "    </tr>\n",
       "    <tr>\n",
       "      <th>9592967</th>\n",
       "      <td>37701733</td>\n",
       "      <td>3661552</td>\n",
       "      <td>BzUmejDptYx</td>\n",
       "      <td>199664772.00</td>\n",
       "      <td>nan</td>\n",
       "      <td>2019-06-30 07:18:23.000</td>\n",
       "      <td>1</td>\n",
       "      <td>NaN</td>\n",
       "      <td>2</td>\n",
       "      <td>0</td>\n",
       "    </tr>\n",
       "    <tr>\n",
       "      <th>9592968</th>\n",
       "      <td>37701745</td>\n",
       "      <td>3661552</td>\n",
       "      <td>BzUmdnupYxW</td>\n",
       "      <td>199664772.00</td>\n",
       "      <td>nan</td>\n",
       "      <td>2019-06-30 07:18:15.000</td>\n",
       "      <td>1</td>\n",
       "      <td>NaN</td>\n",
       "      <td>3</td>\n",
       "      <td>0</td>\n",
       "    </tr>\n",
       "    <tr>\n",
       "      <th>9592969</th>\n",
       "      <td>37701756</td>\n",
       "      <td>3661552</td>\n",
       "      <td>BzUmcZRpTTn</td>\n",
       "      <td>199664772.00</td>\n",
       "      <td>nan</td>\n",
       "      <td>2019-06-30 07:18:05.000</td>\n",
       "      <td>1</td>\n",
       "      <td>NaN</td>\n",
       "      <td>3</td>\n",
       "      <td>0</td>\n",
       "    </tr>\n",
       "    <tr>\n",
       "      <th>9593158</th>\n",
       "      <td>37701769</td>\n",
       "      <td>3661552</td>\n",
       "      <td>BzScUjhJiwK</td>\n",
       "      <td>199664772.00</td>\n",
       "      <td>nan</td>\n",
       "      <td>2019-06-29 11:11:09.000</td>\n",
       "      <td>1</td>\n",
       "      <td>NaN</td>\n",
       "      <td>17</td>\n",
       "      <td>0</td>\n",
       "    </tr>\n",
       "    <tr>\n",
       "      <th>9593159</th>\n",
       "      <td>37701783</td>\n",
       "      <td>3661552</td>\n",
       "      <td>BzRkojLJBMQ</td>\n",
       "      <td>199664772.00</td>\n",
       "      <td>nan</td>\n",
       "      <td>2019-06-29 03:04:33.000</td>\n",
       "      <td>1</td>\n",
       "      <td>NaN</td>\n",
       "      <td>10</td>\n",
       "      <td>0</td>\n",
       "    </tr>\n",
       "    <tr>\n",
       "      <th>9593160</th>\n",
       "      <td>37701797</td>\n",
       "      <td>3661552</td>\n",
       "      <td>BzRkmb3JXea</td>\n",
       "      <td>199664772.00</td>\n",
       "      <td>nan</td>\n",
       "      <td>2019-06-29 03:04:15.000</td>\n",
       "      <td>1</td>\n",
       "      <td>NaN</td>\n",
       "      <td>9</td>\n",
       "      <td>0</td>\n",
       "    </tr>\n",
       "    <tr>\n",
       "      <th>24956847</th>\n",
       "      <td>9253738</td>\n",
       "      <td>3288809</td>\n",
       "      <td>BxJpvMrpl0n</td>\n",
       "      <td>8563366588.00</td>\n",
       "      <td>219610759.00</td>\n",
       "      <td>2019-05-07 02:12:26.000</td>\n",
       "      <td>1</td>\n",
       "      <td>NaN</td>\n",
       "      <td>0</td>\n",
       "      <td>0</td>\n",
       "    </tr>\n",
       "    <tr>\n",
       "      <th>24978956</th>\n",
       "      <td>9253755</td>\n",
       "      <td>3288809</td>\n",
       "      <td>BxJpeX2pXeN</td>\n",
       "      <td>8563366588.00</td>\n",
       "      <td>219610759.00</td>\n",
       "      <td>2019-05-07 08:10:08.000</td>\n",
       "      <td>1</td>\n",
       "      <td>NaN</td>\n",
       "      <td>0</td>\n",
       "      <td>0</td>\n",
       "    </tr>\n",
       "    <tr>\n",
       "      <th>24979865</th>\n",
       "      <td>9253740</td>\n",
       "      <td>3288809</td>\n",
       "      <td>BxJptNSpk6g</td>\n",
       "      <td>8563366588.00</td>\n",
       "      <td>219610759.00</td>\n",
       "      <td>2019-05-07 02:12:09.000</td>\n",
       "      <td>1</td>\n",
       "      <td>NaN</td>\n",
       "      <td>0</td>\n",
       "      <td>0</td>\n",
       "    </tr>\n",
       "    <tr>\n",
       "      <th>24979875</th>\n",
       "      <td>9253736</td>\n",
       "      <td>3288809</td>\n",
       "      <td>BxJpzW4J6Aq</td>\n",
       "      <td>8563366588.00</td>\n",
       "      <td>219610759.00</td>\n",
       "      <td>2019-05-07 02:13:00.000</td>\n",
       "      <td>1</td>\n",
       "      <td>NaN</td>\n",
       "      <td>0</td>\n",
       "      <td>0</td>\n",
       "    </tr>\n",
       "    <tr>\n",
       "      <th>24979879</th>\n",
       "      <td>9253754</td>\n",
       "      <td>3288809</td>\n",
       "      <td>BxJpgQMJa66</td>\n",
       "      <td>8563366588.00</td>\n",
       "      <td>219610759.00</td>\n",
       "      <td>2019-05-07 08:10:23.000</td>\n",
       "      <td>1</td>\n",
       "      <td>NaN</td>\n",
       "      <td>0</td>\n",
       "      <td>0</td>\n",
       "    </tr>\n",
       "    <tr>\n",
       "      <th>24979938</th>\n",
       "      <td>9253733</td>\n",
       "      <td>3288809</td>\n",
       "      <td>BxJp2qgpVJo</td>\n",
       "      <td>8563366588.00</td>\n",
       "      <td>219610759.00</td>\n",
       "      <td>2019-05-07 02:13:27.000</td>\n",
       "      <td>1</td>\n",
       "      <td>NaN</td>\n",
       "      <td>0</td>\n",
       "      <td>0</td>\n",
       "    </tr>\n",
       "    <tr>\n",
       "      <th>24979946</th>\n",
       "      <td>9253737</td>\n",
       "      <td>3288809</td>\n",
       "      <td>BxJpxSLp4rB</td>\n",
       "      <td>8563366588.00</td>\n",
       "      <td>219610759.00</td>\n",
       "      <td>2019-05-07 02:12:43.000</td>\n",
       "      <td>1</td>\n",
       "      <td>NaN</td>\n",
       "      <td>0</td>\n",
       "      <td>0</td>\n",
       "    </tr>\n",
       "    <tr>\n",
       "      <th>24979961</th>\n",
       "      <td>9253756</td>\n",
       "      <td>3288809</td>\n",
       "      <td>BxJpcZ0JRqN</td>\n",
       "      <td>8563366588.00</td>\n",
       "      <td>219610759.00</td>\n",
       "      <td>2019-05-07 08:09:52.000</td>\n",
       "      <td>1</td>\n",
       "      <td>NaN</td>\n",
       "      <td>0</td>\n",
       "      <td>0</td>\n",
       "    </tr>\n",
       "    <tr>\n",
       "      <th>24979983</th>\n",
       "      <td>9253732</td>\n",
       "      <td>3288809</td>\n",
       "      <td>BxJp4i3pArJ</td>\n",
       "      <td>8563366588.00</td>\n",
       "      <td>219610759.00</td>\n",
       "      <td>2019-05-07 02:13:42.000</td>\n",
       "      <td>1</td>\n",
       "      <td>NaN</td>\n",
       "      <td>0</td>\n",
       "      <td>0</td>\n",
       "    </tr>\n",
       "    <tr>\n",
       "      <th>24980045</th>\n",
       "      <td>9253742</td>\n",
       "      <td>3288809</td>\n",
       "      <td>BxJpq3dppxY</td>\n",
       "      <td>8563366588.00</td>\n",
       "      <td>219610759.00</td>\n",
       "      <td>2019-05-07 02:11:50.000</td>\n",
       "      <td>1</td>\n",
       "      <td>NaN</td>\n",
       "      <td>0</td>\n",
       "      <td>0</td>\n",
       "    </tr>\n",
       "    <tr>\n",
       "      <th>24980073</th>\n",
       "      <td>9253877</td>\n",
       "      <td>3288809</td>\n",
       "      <td>BxJp6dVJvtO</td>\n",
       "      <td>8563366588.00</td>\n",
       "      <td>219610759.00</td>\n",
       "      <td>2019-05-07 02:13:58.000</td>\n",
       "      <td>1</td>\n",
       "      <td>NaN</td>\n",
       "      <td>0</td>\n",
       "      <td>0</td>\n",
       "    </tr>\n",
       "    <tr>\n",
       "      <th>24980074</th>\n",
       "      <td>9253743</td>\n",
       "      <td>3288809</td>\n",
       "      <td>BxJposzpeA7</td>\n",
       "      <td>8563366588.00</td>\n",
       "      <td>219610759.00</td>\n",
       "      <td>2019-05-07 02:11:33.000</td>\n",
       "      <td>1</td>\n",
       "      <td>NaN</td>\n",
       "      <td>0</td>\n",
       "      <td>0</td>\n",
       "    </tr>\n",
       "    <tr>\n",
       "      <th>24980075</th>\n",
       "      <td>9253745</td>\n",
       "      <td>3288809</td>\n",
       "      <td>BxJpmohpwK2</td>\n",
       "      <td>8563366588.00</td>\n",
       "      <td>219610759.00</td>\n",
       "      <td>2019-05-07 02:11:16.000</td>\n",
       "      <td>1</td>\n",
       "      <td>NaN</td>\n",
       "      <td>0</td>\n",
       "      <td>0</td>\n",
       "    </tr>\n",
       "    <tr>\n",
       "      <th>24980076</th>\n",
       "      <td>9253747</td>\n",
       "      <td>3288809</td>\n",
       "      <td>BxJpkrrJ0b3</td>\n",
       "      <td>8563366588.00</td>\n",
       "      <td>219610759.00</td>\n",
       "      <td>2019-05-07 02:11:00.000</td>\n",
       "      <td>1</td>\n",
       "      <td>NaN</td>\n",
       "      <td>0</td>\n",
       "      <td>0</td>\n",
       "    </tr>\n",
       "    <tr>\n",
       "      <th>24980077</th>\n",
       "      <td>9253752</td>\n",
       "      <td>3288809</td>\n",
       "      <td>BxJpijSJd_f</td>\n",
       "      <td>8563366588.00</td>\n",
       "      <td>219610759.00</td>\n",
       "      <td>2019-05-07 02:10:42.000</td>\n",
       "      <td>1</td>\n",
       "      <td>NaN</td>\n",
       "      <td>0</td>\n",
       "      <td>0</td>\n",
       "    </tr>\n",
       "  </tbody>\n",
       "</table>\n",
       "</div>"
      ],
      "text/plain": [
       "               sid sid_profile      post_id    profile_id   location_id  \\\n",
       "9592952   21205477     3661552  Bq3hP3Khp8J  199664772.00 1029593228.00   \n",
       "9592953   21205482     3661552  Bq3hN53hUsD  199664772.00 1029593228.00   \n",
       "9592954   24906254     3661552  BCqCe9LypeF  199664772.00 1029569178.00   \n",
       "9592955   25468626     3661552   20Wu4zypd2  199664772.00  237398449.00   \n",
       "9592956   27616128     3661552  BrKq76AhadU  199664772.00  321337322.00   \n",
       "9592957   28243841     3661552  Bq_MjFzB_Wt  199664772.00  280774016.00   \n",
       "9592958   28243843     3661552  Bq_MiKhhP05  199664772.00  280774016.00   \n",
       "9592959   36453059     3661552  BpQ2cmKF-W0  199664772.00 1023754497.00   \n",
       "9592960    8768851     3661552   3V4OeXypTT  199664772.00  279384086.00   \n",
       "9592961   37701663     3661552  BzUmjr2pgni  199664772.00           nan   \n",
       "9592962   37701676     3661552  BzUmictJSO1  199664772.00           nan   \n",
       "9592963   37701690     3661552  BzUmhW0pjrN  199664772.00           nan   \n",
       "9592964   37701703     3661552  BzUmgscJEK4  199664772.00           nan   \n",
       "9592965   37701709     3661552  BzUmgBYJzoS  199664772.00           nan   \n",
       "9592966   37701722     3661552  BzUmfZspDqA  199664772.00           nan   \n",
       "9592967   37701733     3661552  BzUmejDptYx  199664772.00           nan   \n",
       "9592968   37701745     3661552  BzUmdnupYxW  199664772.00           nan   \n",
       "9592969   37701756     3661552  BzUmcZRpTTn  199664772.00           nan   \n",
       "9593158   37701769     3661552  BzScUjhJiwK  199664772.00           nan   \n",
       "9593159   37701783     3661552  BzRkojLJBMQ  199664772.00           nan   \n",
       "9593160   37701797     3661552  BzRkmb3JXea  199664772.00           nan   \n",
       "24956847   9253738     3288809  BxJpvMrpl0n 8563366588.00  219610759.00   \n",
       "24978956   9253755     3288809  BxJpeX2pXeN 8563366588.00  219610759.00   \n",
       "24979865   9253740     3288809  BxJptNSpk6g 8563366588.00  219610759.00   \n",
       "24979875   9253736     3288809  BxJpzW4J6Aq 8563366588.00  219610759.00   \n",
       "24979879   9253754     3288809  BxJpgQMJa66 8563366588.00  219610759.00   \n",
       "24979938   9253733     3288809  BxJp2qgpVJo 8563366588.00  219610759.00   \n",
       "24979946   9253737     3288809  BxJpxSLp4rB 8563366588.00  219610759.00   \n",
       "24979961   9253756     3288809  BxJpcZ0JRqN 8563366588.00  219610759.00   \n",
       "24979983   9253732     3288809  BxJp4i3pArJ 8563366588.00  219610759.00   \n",
       "24980045   9253742     3288809  BxJpq3dppxY 8563366588.00  219610759.00   \n",
       "24980073   9253877     3288809  BxJp6dVJvtO 8563366588.00  219610759.00   \n",
       "24980074   9253743     3288809  BxJposzpeA7 8563366588.00  219610759.00   \n",
       "24980075   9253745     3288809  BxJpmohpwK2 8563366588.00  219610759.00   \n",
       "24980076   9253747     3288809  BxJpkrrJ0b3 8563366588.00  219610759.00   \n",
       "24980077   9253752     3288809  BxJpijSJd_f 8563366588.00  219610759.00   \n",
       "\n",
       "                              cts post_type description numbr_likes  \\\n",
       "9592952   2018-12-02 03:03:33.000         1         NaN           0   \n",
       "9592953   2018-12-02 03:03:17.000         1         NaN           0   \n",
       "9592954   2016-03-07 16:28:50.000         1     #تصويري          27   \n",
       "9592955   2015-05-18 11:21:27.000         1     #تصويري          28   \n",
       "9592956   2018-12-09 13:33:47.000         1         NaN           1   \n",
       "9592957   2018-12-05 02:36:36.000         1         NaN           7   \n",
       "9592958   2018-12-05 02:36:28.000         1         NaN           3   \n",
       "9592959   2018-10-23 07:07:01.000         1         NaN           1   \n",
       "9592960   2015-05-31 11:49:04.000         1     #تصويري          19   \n",
       "9592961   2019-06-30 07:19:05.000         1         NaN          11   \n",
       "9592962   2019-06-30 07:18:55.000         1         NaN           6   \n",
       "9592963   2019-06-30 07:18:46.000         1         NaN           2   \n",
       "9592964   2019-06-30 07:18:40.000         1         NaN           4   \n",
       "9592965   2019-06-30 07:18:35.000         1         NaN           2   \n",
       "9592966   2019-06-30 07:18:30.000         1         NaN           6   \n",
       "9592967   2019-06-30 07:18:23.000         1         NaN           2   \n",
       "9592968   2019-06-30 07:18:15.000         1         NaN           3   \n",
       "9592969   2019-06-30 07:18:05.000         1         NaN           3   \n",
       "9593158   2019-06-29 11:11:09.000         1         NaN          17   \n",
       "9593159   2019-06-29 03:04:33.000         1         NaN          10   \n",
       "9593160   2019-06-29 03:04:15.000         1         NaN           9   \n",
       "24956847  2019-05-07 02:12:26.000         1         NaN           0   \n",
       "24978956  2019-05-07 08:10:08.000         1         NaN           0   \n",
       "24979865  2019-05-07 02:12:09.000         1         NaN           0   \n",
       "24979875  2019-05-07 02:13:00.000         1         NaN           0   \n",
       "24979879  2019-05-07 08:10:23.000         1         NaN           0   \n",
       "24979938  2019-05-07 02:13:27.000         1         NaN           0   \n",
       "24979946  2019-05-07 02:12:43.000         1         NaN           0   \n",
       "24979961  2019-05-07 08:09:52.000         1         NaN           0   \n",
       "24979983  2019-05-07 02:13:42.000         1         NaN           0   \n",
       "24980045  2019-05-07 02:11:50.000         1         NaN           0   \n",
       "24980073  2019-05-07 02:13:58.000         1         NaN           0   \n",
       "24980074  2019-05-07 02:11:33.000         1         NaN           0   \n",
       "24980075  2019-05-07 02:11:16.000         1         NaN           0   \n",
       "24980076  2019-05-07 02:11:00.000         1         NaN           0   \n",
       "24980077  2019-05-07 02:10:42.000         1         NaN           0   \n",
       "\n",
       "         number_comments  \n",
       "9592952                0  \n",
       "9592953                0  \n",
       "9592954                0  \n",
       "9592955                0  \n",
       "9592956                0  \n",
       "9592957                0  \n",
       "9592958                0  \n",
       "9592959                0  \n",
       "9592960                0  \n",
       "9592961                0  \n",
       "9592962                0  \n",
       "9592963                0  \n",
       "9592964                0  \n",
       "9592965                0  \n",
       "9592966                0  \n",
       "9592967                0  \n",
       "9592968                0  \n",
       "9592969                0  \n",
       "9593158                0  \n",
       "9593159                0  \n",
       "9593160                0  \n",
       "24956847               0  \n",
       "24978956               0  \n",
       "24979865               0  \n",
       "24979875               0  \n",
       "24979879               0  \n",
       "24979938               0  \n",
       "24979946               0  \n",
       "24979961               0  \n",
       "24979983               0  \n",
       "24980045               0  \n",
       "24980073               0  \n",
       "24980074               0  \n",
       "24980075               0  \n",
       "24980076               0  \n",
       "24980077               0  "
      ]
     },
     "execution_count": 40,
     "metadata": {},
     "output_type": "execute_result"
    }
   ],
   "source": [
    "#fastfunction\n",
    "rq42=first_n_profiles_post(2)\n",
    "rq42"
   ]
  },
  {
   "cell_type": "code",
   "execution_count": null,
   "id": "f4055663",
   "metadata": {
    "id": "0eb9bced",
    "outputId": "6a7cf71e-3917-4e90-c5bc-2f12686a4cbb",
    "scrolled": true
   },
   "outputs": [
    {
     "name": "stderr",
     "output_type": "stream",
     "text": [
      "86it [03:47,  2.64s/it]\n",
      "86it [03:46,  2.64s/it]\n"
     ]
    },
    {
     "data": {
      "text/html": [
       "<div>\n",
       "<style scoped>\n",
       "    .dataframe tbody tr th:only-of-type {\n",
       "        vertical-align: middle;\n",
       "    }\n",
       "\n",
       "    .dataframe tbody tr th {\n",
       "        vertical-align: top;\n",
       "    }\n",
       "\n",
       "    .dataframe thead th {\n",
       "        text-align: right;\n",
       "    }\n",
       "</style>\n",
       "<table border=\"1\" class=\"dataframe\">\n",
       "  <thead>\n",
       "    <tr style=\"text-align: right;\">\n",
       "      <th></th>\n",
       "      <th>sid</th>\n",
       "      <th>sid_profile</th>\n",
       "      <th>post_id</th>\n",
       "      <th>profile_id</th>\n",
       "      <th>location_id</th>\n",
       "      <th>cts</th>\n",
       "      <th>post_type</th>\n",
       "      <th>description</th>\n",
       "      <th>numbr_likes</th>\n",
       "      <th>number_comments</th>\n",
       "    </tr>\n",
       "  </thead>\n",
       "  <tbody>\n",
       "    <tr>\n",
       "      <th>9592952</th>\n",
       "      <td>21205477</td>\n",
       "      <td>3661552</td>\n",
       "      <td>Bq3hP3Khp8J</td>\n",
       "      <td>199664772.00</td>\n",
       "      <td>1029593228.00</td>\n",
       "      <td>2018-12-02 03:03:33.000</td>\n",
       "      <td>1</td>\n",
       "      <td>NaN</td>\n",
       "      <td>0</td>\n",
       "      <td>0</td>\n",
       "    </tr>\n",
       "    <tr>\n",
       "      <th>9592953</th>\n",
       "      <td>21205482</td>\n",
       "      <td>3661552</td>\n",
       "      <td>Bq3hN53hUsD</td>\n",
       "      <td>199664772.00</td>\n",
       "      <td>1029593228.00</td>\n",
       "      <td>2018-12-02 03:03:17.000</td>\n",
       "      <td>1</td>\n",
       "      <td>NaN</td>\n",
       "      <td>0</td>\n",
       "      <td>0</td>\n",
       "    </tr>\n",
       "    <tr>\n",
       "      <th>9592954</th>\n",
       "      <td>24906254</td>\n",
       "      <td>3661552</td>\n",
       "      <td>BCqCe9LypeF</td>\n",
       "      <td>199664772.00</td>\n",
       "      <td>1029569178.00</td>\n",
       "      <td>2016-03-07 16:28:50.000</td>\n",
       "      <td>1</td>\n",
       "      <td>#تصويري</td>\n",
       "      <td>27</td>\n",
       "      <td>0</td>\n",
       "    </tr>\n",
       "    <tr>\n",
       "      <th>9592955</th>\n",
       "      <td>25468626</td>\n",
       "      <td>3661552</td>\n",
       "      <td>20Wu4zypd2</td>\n",
       "      <td>199664772.00</td>\n",
       "      <td>237398449.00</td>\n",
       "      <td>2015-05-18 11:21:27.000</td>\n",
       "      <td>1</td>\n",
       "      <td>#تصويري</td>\n",
       "      <td>28</td>\n",
       "      <td>0</td>\n",
       "    </tr>\n",
       "    <tr>\n",
       "      <th>9592956</th>\n",
       "      <td>27616128</td>\n",
       "      <td>3661552</td>\n",
       "      <td>BrKq76AhadU</td>\n",
       "      <td>199664772.00</td>\n",
       "      <td>321337322.00</td>\n",
       "      <td>2018-12-09 13:33:47.000</td>\n",
       "      <td>1</td>\n",
       "      <td>NaN</td>\n",
       "      <td>1</td>\n",
       "      <td>0</td>\n",
       "    </tr>\n",
       "    <tr>\n",
       "      <th>9592957</th>\n",
       "      <td>28243841</td>\n",
       "      <td>3661552</td>\n",
       "      <td>Bq_MjFzB_Wt</td>\n",
       "      <td>199664772.00</td>\n",
       "      <td>280774016.00</td>\n",
       "      <td>2018-12-05 02:36:36.000</td>\n",
       "      <td>1</td>\n",
       "      <td>NaN</td>\n",
       "      <td>7</td>\n",
       "      <td>0</td>\n",
       "    </tr>\n",
       "    <tr>\n",
       "      <th>9592958</th>\n",
       "      <td>28243843</td>\n",
       "      <td>3661552</td>\n",
       "      <td>Bq_MiKhhP05</td>\n",
       "      <td>199664772.00</td>\n",
       "      <td>280774016.00</td>\n",
       "      <td>2018-12-05 02:36:28.000</td>\n",
       "      <td>1</td>\n",
       "      <td>NaN</td>\n",
       "      <td>3</td>\n",
       "      <td>0</td>\n",
       "    </tr>\n",
       "    <tr>\n",
       "      <th>9592959</th>\n",
       "      <td>36453059</td>\n",
       "      <td>3661552</td>\n",
       "      <td>BpQ2cmKF-W0</td>\n",
       "      <td>199664772.00</td>\n",
       "      <td>1023754497.00</td>\n",
       "      <td>2018-10-23 07:07:01.000</td>\n",
       "      <td>1</td>\n",
       "      <td>NaN</td>\n",
       "      <td>1</td>\n",
       "      <td>0</td>\n",
       "    </tr>\n",
       "    <tr>\n",
       "      <th>9592960</th>\n",
       "      <td>8768851</td>\n",
       "      <td>3661552</td>\n",
       "      <td>3V4OeXypTT</td>\n",
       "      <td>199664772.00</td>\n",
       "      <td>279384086.00</td>\n",
       "      <td>2015-05-31 11:49:04.000</td>\n",
       "      <td>1</td>\n",
       "      <td>#تصويري</td>\n",
       "      <td>19</td>\n",
       "      <td>0</td>\n",
       "    </tr>\n",
       "    <tr>\n",
       "      <th>9592961</th>\n",
       "      <td>37701663</td>\n",
       "      <td>3661552</td>\n",
       "      <td>BzUmjr2pgni</td>\n",
       "      <td>199664772.00</td>\n",
       "      <td>nan</td>\n",
       "      <td>2019-06-30 07:19:05.000</td>\n",
       "      <td>1</td>\n",
       "      <td>NaN</td>\n",
       "      <td>11</td>\n",
       "      <td>0</td>\n",
       "    </tr>\n",
       "    <tr>\n",
       "      <th>9592962</th>\n",
       "      <td>37701676</td>\n",
       "      <td>3661552</td>\n",
       "      <td>BzUmictJSO1</td>\n",
       "      <td>199664772.00</td>\n",
       "      <td>nan</td>\n",
       "      <td>2019-06-30 07:18:55.000</td>\n",
       "      <td>1</td>\n",
       "      <td>NaN</td>\n",
       "      <td>6</td>\n",
       "      <td>0</td>\n",
       "    </tr>\n",
       "    <tr>\n",
       "      <th>9592963</th>\n",
       "      <td>37701690</td>\n",
       "      <td>3661552</td>\n",
       "      <td>BzUmhW0pjrN</td>\n",
       "      <td>199664772.00</td>\n",
       "      <td>nan</td>\n",
       "      <td>2019-06-30 07:18:46.000</td>\n",
       "      <td>1</td>\n",
       "      <td>NaN</td>\n",
       "      <td>2</td>\n",
       "      <td>0</td>\n",
       "    </tr>\n",
       "    <tr>\n",
       "      <th>9592964</th>\n",
       "      <td>37701703</td>\n",
       "      <td>3661552</td>\n",
       "      <td>BzUmgscJEK4</td>\n",
       "      <td>199664772.00</td>\n",
       "      <td>nan</td>\n",
       "      <td>2019-06-30 07:18:40.000</td>\n",
       "      <td>1</td>\n",
       "      <td>NaN</td>\n",
       "      <td>4</td>\n",
       "      <td>0</td>\n",
       "    </tr>\n",
       "    <tr>\n",
       "      <th>9592965</th>\n",
       "      <td>37701709</td>\n",
       "      <td>3661552</td>\n",
       "      <td>BzUmgBYJzoS</td>\n",
       "      <td>199664772.00</td>\n",
       "      <td>nan</td>\n",
       "      <td>2019-06-30 07:18:35.000</td>\n",
       "      <td>1</td>\n",
       "      <td>NaN</td>\n",
       "      <td>2</td>\n",
       "      <td>0</td>\n",
       "    </tr>\n",
       "    <tr>\n",
       "      <th>9592966</th>\n",
       "      <td>37701722</td>\n",
       "      <td>3661552</td>\n",
       "      <td>BzUmfZspDqA</td>\n",
       "      <td>199664772.00</td>\n",
       "      <td>nan</td>\n",
       "      <td>2019-06-30 07:18:30.000</td>\n",
       "      <td>1</td>\n",
       "      <td>NaN</td>\n",
       "      <td>6</td>\n",
       "      <td>0</td>\n",
       "    </tr>\n",
       "    <tr>\n",
       "      <th>9592967</th>\n",
       "      <td>37701733</td>\n",
       "      <td>3661552</td>\n",
       "      <td>BzUmejDptYx</td>\n",
       "      <td>199664772.00</td>\n",
       "      <td>nan</td>\n",
       "      <td>2019-06-30 07:18:23.000</td>\n",
       "      <td>1</td>\n",
       "      <td>NaN</td>\n",
       "      <td>2</td>\n",
       "      <td>0</td>\n",
       "    </tr>\n",
       "    <tr>\n",
       "      <th>9592968</th>\n",
       "      <td>37701745</td>\n",
       "      <td>3661552</td>\n",
       "      <td>BzUmdnupYxW</td>\n",
       "      <td>199664772.00</td>\n",
       "      <td>nan</td>\n",
       "      <td>2019-06-30 07:18:15.000</td>\n",
       "      <td>1</td>\n",
       "      <td>NaN</td>\n",
       "      <td>3</td>\n",
       "      <td>0</td>\n",
       "    </tr>\n",
       "    <tr>\n",
       "      <th>9592969</th>\n",
       "      <td>37701756</td>\n",
       "      <td>3661552</td>\n",
       "      <td>BzUmcZRpTTn</td>\n",
       "      <td>199664772.00</td>\n",
       "      <td>nan</td>\n",
       "      <td>2019-06-30 07:18:05.000</td>\n",
       "      <td>1</td>\n",
       "      <td>NaN</td>\n",
       "      <td>3</td>\n",
       "      <td>0</td>\n",
       "    </tr>\n",
       "    <tr>\n",
       "      <th>9593158</th>\n",
       "      <td>37701769</td>\n",
       "      <td>3661552</td>\n",
       "      <td>BzScUjhJiwK</td>\n",
       "      <td>199664772.00</td>\n",
       "      <td>nan</td>\n",
       "      <td>2019-06-29 11:11:09.000</td>\n",
       "      <td>1</td>\n",
       "      <td>NaN</td>\n",
       "      <td>17</td>\n",
       "      <td>0</td>\n",
       "    </tr>\n",
       "    <tr>\n",
       "      <th>9593159</th>\n",
       "      <td>37701783</td>\n",
       "      <td>3661552</td>\n",
       "      <td>BzRkojLJBMQ</td>\n",
       "      <td>199664772.00</td>\n",
       "      <td>nan</td>\n",
       "      <td>2019-06-29 03:04:33.000</td>\n",
       "      <td>1</td>\n",
       "      <td>NaN</td>\n",
       "      <td>10</td>\n",
       "      <td>0</td>\n",
       "    </tr>\n",
       "    <tr>\n",
       "      <th>9593160</th>\n",
       "      <td>37701797</td>\n",
       "      <td>3661552</td>\n",
       "      <td>BzRkmb3JXea</td>\n",
       "      <td>199664772.00</td>\n",
       "      <td>nan</td>\n",
       "      <td>2019-06-29 03:04:15.000</td>\n",
       "      <td>1</td>\n",
       "      <td>NaN</td>\n",
       "      <td>9</td>\n",
       "      <td>0</td>\n",
       "    </tr>\n",
       "    <tr>\n",
       "      <th>24956847</th>\n",
       "      <td>9253738</td>\n",
       "      <td>3288809</td>\n",
       "      <td>BxJpvMrpl0n</td>\n",
       "      <td>8563366588.00</td>\n",
       "      <td>219610759.00</td>\n",
       "      <td>2019-05-07 02:12:26.000</td>\n",
       "      <td>1</td>\n",
       "      <td>NaN</td>\n",
       "      <td>0</td>\n",
       "      <td>0</td>\n",
       "    </tr>\n",
       "    <tr>\n",
       "      <th>24978956</th>\n",
       "      <td>9253755</td>\n",
       "      <td>3288809</td>\n",
       "      <td>BxJpeX2pXeN</td>\n",
       "      <td>8563366588.00</td>\n",
       "      <td>219610759.00</td>\n",
       "      <td>2019-05-07 08:10:08.000</td>\n",
       "      <td>1</td>\n",
       "      <td>NaN</td>\n",
       "      <td>0</td>\n",
       "      <td>0</td>\n",
       "    </tr>\n",
       "    <tr>\n",
       "      <th>24979865</th>\n",
       "      <td>9253740</td>\n",
       "      <td>3288809</td>\n",
       "      <td>BxJptNSpk6g</td>\n",
       "      <td>8563366588.00</td>\n",
       "      <td>219610759.00</td>\n",
       "      <td>2019-05-07 02:12:09.000</td>\n",
       "      <td>1</td>\n",
       "      <td>NaN</td>\n",
       "      <td>0</td>\n",
       "      <td>0</td>\n",
       "    </tr>\n",
       "    <tr>\n",
       "      <th>24979875</th>\n",
       "      <td>9253736</td>\n",
       "      <td>3288809</td>\n",
       "      <td>BxJpzW4J6Aq</td>\n",
       "      <td>8563366588.00</td>\n",
       "      <td>219610759.00</td>\n",
       "      <td>2019-05-07 02:13:00.000</td>\n",
       "      <td>1</td>\n",
       "      <td>NaN</td>\n",
       "      <td>0</td>\n",
       "      <td>0</td>\n",
       "    </tr>\n",
       "    <tr>\n",
       "      <th>24979879</th>\n",
       "      <td>9253754</td>\n",
       "      <td>3288809</td>\n",
       "      <td>BxJpgQMJa66</td>\n",
       "      <td>8563366588.00</td>\n",
       "      <td>219610759.00</td>\n",
       "      <td>2019-05-07 08:10:23.000</td>\n",
       "      <td>1</td>\n",
       "      <td>NaN</td>\n",
       "      <td>0</td>\n",
       "      <td>0</td>\n",
       "    </tr>\n",
       "    <tr>\n",
       "      <th>24979938</th>\n",
       "      <td>9253733</td>\n",
       "      <td>3288809</td>\n",
       "      <td>BxJp2qgpVJo</td>\n",
       "      <td>8563366588.00</td>\n",
       "      <td>219610759.00</td>\n",
       "      <td>2019-05-07 02:13:27.000</td>\n",
       "      <td>1</td>\n",
       "      <td>NaN</td>\n",
       "      <td>0</td>\n",
       "      <td>0</td>\n",
       "    </tr>\n",
       "    <tr>\n",
       "      <th>24979946</th>\n",
       "      <td>9253737</td>\n",
       "      <td>3288809</td>\n",
       "      <td>BxJpxSLp4rB</td>\n",
       "      <td>8563366588.00</td>\n",
       "      <td>219610759.00</td>\n",
       "      <td>2019-05-07 02:12:43.000</td>\n",
       "      <td>1</td>\n",
       "      <td>NaN</td>\n",
       "      <td>0</td>\n",
       "      <td>0</td>\n",
       "    </tr>\n",
       "    <tr>\n",
       "      <th>24979961</th>\n",
       "      <td>9253756</td>\n",
       "      <td>3288809</td>\n",
       "      <td>BxJpcZ0JRqN</td>\n",
       "      <td>8563366588.00</td>\n",
       "      <td>219610759.00</td>\n",
       "      <td>2019-05-07 08:09:52.000</td>\n",
       "      <td>1</td>\n",
       "      <td>NaN</td>\n",
       "      <td>0</td>\n",
       "      <td>0</td>\n",
       "    </tr>\n",
       "    <tr>\n",
       "      <th>24979983</th>\n",
       "      <td>9253732</td>\n",
       "      <td>3288809</td>\n",
       "      <td>BxJp4i3pArJ</td>\n",
       "      <td>8563366588.00</td>\n",
       "      <td>219610759.00</td>\n",
       "      <td>2019-05-07 02:13:42.000</td>\n",
       "      <td>1</td>\n",
       "      <td>NaN</td>\n",
       "      <td>0</td>\n",
       "      <td>0</td>\n",
       "    </tr>\n",
       "    <tr>\n",
       "      <th>24980045</th>\n",
       "      <td>9253742</td>\n",
       "      <td>3288809</td>\n",
       "      <td>BxJpq3dppxY</td>\n",
       "      <td>8563366588.00</td>\n",
       "      <td>219610759.00</td>\n",
       "      <td>2019-05-07 02:11:50.000</td>\n",
       "      <td>1</td>\n",
       "      <td>NaN</td>\n",
       "      <td>0</td>\n",
       "      <td>0</td>\n",
       "    </tr>\n",
       "    <tr>\n",
       "      <th>24980073</th>\n",
       "      <td>9253877</td>\n",
       "      <td>3288809</td>\n",
       "      <td>BxJp6dVJvtO</td>\n",
       "      <td>8563366588.00</td>\n",
       "      <td>219610759.00</td>\n",
       "      <td>2019-05-07 02:13:58.000</td>\n",
       "      <td>1</td>\n",
       "      <td>NaN</td>\n",
       "      <td>0</td>\n",
       "      <td>0</td>\n",
       "    </tr>\n",
       "    <tr>\n",
       "      <th>24980074</th>\n",
       "      <td>9253743</td>\n",
       "      <td>3288809</td>\n",
       "      <td>BxJposzpeA7</td>\n",
       "      <td>8563366588.00</td>\n",
       "      <td>219610759.00</td>\n",
       "      <td>2019-05-07 02:11:33.000</td>\n",
       "      <td>1</td>\n",
       "      <td>NaN</td>\n",
       "      <td>0</td>\n",
       "      <td>0</td>\n",
       "    </tr>\n",
       "    <tr>\n",
       "      <th>24980075</th>\n",
       "      <td>9253745</td>\n",
       "      <td>3288809</td>\n",
       "      <td>BxJpmohpwK2</td>\n",
       "      <td>8563366588.00</td>\n",
       "      <td>219610759.00</td>\n",
       "      <td>2019-05-07 02:11:16.000</td>\n",
       "      <td>1</td>\n",
       "      <td>NaN</td>\n",
       "      <td>0</td>\n",
       "      <td>0</td>\n",
       "    </tr>\n",
       "    <tr>\n",
       "      <th>24980076</th>\n",
       "      <td>9253747</td>\n",
       "      <td>3288809</td>\n",
       "      <td>BxJpkrrJ0b3</td>\n",
       "      <td>8563366588.00</td>\n",
       "      <td>219610759.00</td>\n",
       "      <td>2019-05-07 02:11:00.000</td>\n",
       "      <td>1</td>\n",
       "      <td>NaN</td>\n",
       "      <td>0</td>\n",
       "      <td>0</td>\n",
       "    </tr>\n",
       "    <tr>\n",
       "      <th>24980077</th>\n",
       "      <td>9253752</td>\n",
       "      <td>3288809</td>\n",
       "      <td>BxJpijSJd_f</td>\n",
       "      <td>8563366588.00</td>\n",
       "      <td>219610759.00</td>\n",
       "      <td>2019-05-07 02:10:42.000</td>\n",
       "      <td>1</td>\n",
       "      <td>NaN</td>\n",
       "      <td>0</td>\n",
       "      <td>0</td>\n",
       "    </tr>\n",
       "  </tbody>\n",
       "</table>\n",
       "</div>"
      ],
      "text/plain": [
       "               sid sid_profile      post_id    profile_id   location_id  \\\n",
       "9592952   21205477     3661552  Bq3hP3Khp8J  199664772.00 1029593228.00   \n",
       "9592953   21205482     3661552  Bq3hN53hUsD  199664772.00 1029593228.00   \n",
       "9592954   24906254     3661552  BCqCe9LypeF  199664772.00 1029569178.00   \n",
       "9592955   25468626     3661552   20Wu4zypd2  199664772.00  237398449.00   \n",
       "9592956   27616128     3661552  BrKq76AhadU  199664772.00  321337322.00   \n",
       "9592957   28243841     3661552  Bq_MjFzB_Wt  199664772.00  280774016.00   \n",
       "9592958   28243843     3661552  Bq_MiKhhP05  199664772.00  280774016.00   \n",
       "9592959   36453059     3661552  BpQ2cmKF-W0  199664772.00 1023754497.00   \n",
       "9592960    8768851     3661552   3V4OeXypTT  199664772.00  279384086.00   \n",
       "9592961   37701663     3661552  BzUmjr2pgni  199664772.00           nan   \n",
       "9592962   37701676     3661552  BzUmictJSO1  199664772.00           nan   \n",
       "9592963   37701690     3661552  BzUmhW0pjrN  199664772.00           nan   \n",
       "9592964   37701703     3661552  BzUmgscJEK4  199664772.00           nan   \n",
       "9592965   37701709     3661552  BzUmgBYJzoS  199664772.00           nan   \n",
       "9592966   37701722     3661552  BzUmfZspDqA  199664772.00           nan   \n",
       "9592967   37701733     3661552  BzUmejDptYx  199664772.00           nan   \n",
       "9592968   37701745     3661552  BzUmdnupYxW  199664772.00           nan   \n",
       "9592969   37701756     3661552  BzUmcZRpTTn  199664772.00           nan   \n",
       "9593158   37701769     3661552  BzScUjhJiwK  199664772.00           nan   \n",
       "9593159   37701783     3661552  BzRkojLJBMQ  199664772.00           nan   \n",
       "9593160   37701797     3661552  BzRkmb3JXea  199664772.00           nan   \n",
       "24956847   9253738     3288809  BxJpvMrpl0n 8563366588.00  219610759.00   \n",
       "24978956   9253755     3288809  BxJpeX2pXeN 8563366588.00  219610759.00   \n",
       "24979865   9253740     3288809  BxJptNSpk6g 8563366588.00  219610759.00   \n",
       "24979875   9253736     3288809  BxJpzW4J6Aq 8563366588.00  219610759.00   \n",
       "24979879   9253754     3288809  BxJpgQMJa66 8563366588.00  219610759.00   \n",
       "24979938   9253733     3288809  BxJp2qgpVJo 8563366588.00  219610759.00   \n",
       "24979946   9253737     3288809  BxJpxSLp4rB 8563366588.00  219610759.00   \n",
       "24979961   9253756     3288809  BxJpcZ0JRqN 8563366588.00  219610759.00   \n",
       "24979983   9253732     3288809  BxJp4i3pArJ 8563366588.00  219610759.00   \n",
       "24980045   9253742     3288809  BxJpq3dppxY 8563366588.00  219610759.00   \n",
       "24980073   9253877     3288809  BxJp6dVJvtO 8563366588.00  219610759.00   \n",
       "24980074   9253743     3288809  BxJposzpeA7 8563366588.00  219610759.00   \n",
       "24980075   9253745     3288809  BxJpmohpwK2 8563366588.00  219610759.00   \n",
       "24980076   9253747     3288809  BxJpkrrJ0b3 8563366588.00  219610759.00   \n",
       "24980077   9253752     3288809  BxJpijSJd_f 8563366588.00  219610759.00   \n",
       "\n",
       "                              cts post_type description numbr_likes  \\\n",
       "9592952   2018-12-02 03:03:33.000         1         NaN           0   \n",
       "9592953   2018-12-02 03:03:17.000         1         NaN           0   \n",
       "9592954   2016-03-07 16:28:50.000         1     #تصويري          27   \n",
       "9592955   2015-05-18 11:21:27.000         1     #تصويري          28   \n",
       "9592956   2018-12-09 13:33:47.000         1         NaN           1   \n",
       "9592957   2018-12-05 02:36:36.000         1         NaN           7   \n",
       "9592958   2018-12-05 02:36:28.000         1         NaN           3   \n",
       "9592959   2018-10-23 07:07:01.000         1         NaN           1   \n",
       "9592960   2015-05-31 11:49:04.000         1     #تصويري          19   \n",
       "9592961   2019-06-30 07:19:05.000         1         NaN          11   \n",
       "9592962   2019-06-30 07:18:55.000         1         NaN           6   \n",
       "9592963   2019-06-30 07:18:46.000         1         NaN           2   \n",
       "9592964   2019-06-30 07:18:40.000         1         NaN           4   \n",
       "9592965   2019-06-30 07:18:35.000         1         NaN           2   \n",
       "9592966   2019-06-30 07:18:30.000         1         NaN           6   \n",
       "9592967   2019-06-30 07:18:23.000         1         NaN           2   \n",
       "9592968   2019-06-30 07:18:15.000         1         NaN           3   \n",
       "9592969   2019-06-30 07:18:05.000         1         NaN           3   \n",
       "9593158   2019-06-29 11:11:09.000         1         NaN          17   \n",
       "9593159   2019-06-29 03:04:33.000         1         NaN          10   \n",
       "9593160   2019-06-29 03:04:15.000         1         NaN           9   \n",
       "24956847  2019-05-07 02:12:26.000         1         NaN           0   \n",
       "24978956  2019-05-07 08:10:08.000         1         NaN           0   \n",
       "24979865  2019-05-07 02:12:09.000         1         NaN           0   \n",
       "24979875  2019-05-07 02:13:00.000         1         NaN           0   \n",
       "24979879  2019-05-07 08:10:23.000         1         NaN           0   \n",
       "24979938  2019-05-07 02:13:27.000         1         NaN           0   \n",
       "24979946  2019-05-07 02:12:43.000         1         NaN           0   \n",
       "24979961  2019-05-07 08:09:52.000         1         NaN           0   \n",
       "24979983  2019-05-07 02:13:42.000         1         NaN           0   \n",
       "24980045  2019-05-07 02:11:50.000         1         NaN           0   \n",
       "24980073  2019-05-07 02:13:58.000         1         NaN           0   \n",
       "24980074  2019-05-07 02:11:33.000         1         NaN           0   \n",
       "24980075  2019-05-07 02:11:16.000         1         NaN           0   \n",
       "24980076  2019-05-07 02:11:00.000         1         NaN           0   \n",
       "24980077  2019-05-07 02:10:42.000         1         NaN           0   \n",
       "\n",
       "         number_comments  \n",
       "9592952                0  \n",
       "9592953                0  \n",
       "9592954                0  \n",
       "9592955                0  \n",
       "9592956                0  \n",
       "9592957                0  \n",
       "9592958                0  \n",
       "9592959                0  \n",
       "9592960                0  \n",
       "9592961                0  \n",
       "9592962                0  \n",
       "9592963                0  \n",
       "9592964                0  \n",
       "9592965                0  \n",
       "9592966                0  \n",
       "9592967                0  \n",
       "9592968                0  \n",
       "9592969                0  \n",
       "9593158                0  \n",
       "9593159                0  \n",
       "9593160                0  \n",
       "24956847               0  \n",
       "24978956               0  \n",
       "24979865               0  \n",
       "24979875               0  \n",
       "24979879               0  \n",
       "24979938               0  \n",
       "24979946               0  \n",
       "24979961               0  \n",
       "24979983               0  \n",
       "24980045               0  \n",
       "24980073               0  \n",
       "24980074               0  \n",
       "24980075               0  \n",
       "24980076               0  \n",
       "24980077               0  "
      ]
     },
     "execution_count": 38,
     "metadata": {},
     "output_type": "execute_result"
    }
   ],
   "source": [
    "#slowfunction\n",
    "npo_slow=first_n_profiles_post_slow(2)\n",
    "npo_slow"
   ]
  },
  {
   "cell_type": "markdown",
   "id": "6941007b",
   "metadata": {
    "id": "d8b3c45d"
   },
   "source": [
    "For the slow function the running time is : 07'33\".\n",
    "For the fast function the running time is : 03'47\".\n",
    "So as we were saying the running time of the slowfunction  is n times the running time of the fastfunction."
   ]
  },
  {
   "cell_type": "markdown",
   "id": "51febb3e",
   "metadata": {
    "id": "162aacc3"
   },
   "source": [
    "## RQ4.3\n",
    "What is the average number of \"likes\" and comments of the top 10 profiles with the highest number of posts which their information is available in profile.csv?"
   ]
  },
  {
   "cell_type": "code",
   "execution_count": null,
   "id": "5f9a2b42",
   "metadata": {
    "id": "5591219c",
    "outputId": "30aac91b-d354-4268-a93c-b6cb5195a897"
   },
   "outputs": [
    {
     "name": "stderr",
     "output_type": "stream",
     "text": [
      "86it [03:46,  2.64s/it]\n"
     ]
    },
    {
     "data": {
      "text/html": [
       "<div>\n",
       "<style scoped>\n",
       "    .dataframe tbody tr th:only-of-type {\n",
       "        vertical-align: middle;\n",
       "    }\n",
       "\n",
       "    .dataframe tbody tr th {\n",
       "        vertical-align: top;\n",
       "    }\n",
       "\n",
       "    .dataframe thead th {\n",
       "        text-align: right;\n",
       "    }\n",
       "</style>\n",
       "<table border=\"1\" class=\"dataframe\">\n",
       "  <thead>\n",
       "    <tr style=\"text-align: right;\">\n",
       "      <th></th>\n",
       "      <th>sid</th>\n",
       "      <th>sid_profile</th>\n",
       "      <th>post_id</th>\n",
       "      <th>profile_id</th>\n",
       "      <th>location_id</th>\n",
       "      <th>cts</th>\n",
       "      <th>post_type</th>\n",
       "      <th>description</th>\n",
       "      <th>numbr_likes</th>\n",
       "      <th>number_comments</th>\n",
       "    </tr>\n",
       "  </thead>\n",
       "  <tbody>\n",
       "    <tr>\n",
       "      <th>233067</th>\n",
       "      <td>28607526</td>\n",
       "      <td>3851869</td>\n",
       "      <td>ByAFx7gnNhZ</td>\n",
       "      <td>1607309412</td>\n",
       "      <td>244873610.00</td>\n",
       "      <td>2019-05-28 11:36:28.000</td>\n",
       "      <td>1</td>\n",
       "      <td>อ้วนแค่ไหน ทานอะไรก็เอาไม่ลง \\nมาเจอเซทล้มช้าง...</td>\n",
       "      <td>1</td>\n",
       "      <td>0</td>\n",
       "    </tr>\n",
       "  </tbody>\n",
       "</table>\n",
       "</div>"
      ],
      "text/plain": [
       "             sid sid_profile      post_id  profile_id  location_id  \\\n",
       "233067  28607526     3851869  ByAFx7gnNhZ  1607309412 244873610.00   \n",
       "\n",
       "                            cts post_type  \\\n",
       "233067  2019-05-28 11:36:28.000         1   \n",
       "\n",
       "                                              description numbr_likes  \\\n",
       "233067  อ้วนแค่ไหน ทานอะไรก็เอาไม่ลง \\nมาเจอเซทล้มช้าง...           1   \n",
       "\n",
       "       number_comments  \n",
       "233067               0  "
      ]
     },
     "execution_count": 41,
     "metadata": {},
     "output_type": "execute_result"
    }
   ],
   "source": [
    "npo=first_n_profiles_post(10)\n",
    "npo.head(1)"
   ]
  },
  {
   "cell_type": "markdown",
   "id": "31cda0ab",
   "metadata": {
    "id": "c50daa86"
   },
   "source": [
    "First evaluate the mean of the comments and likes for all the top 10 profiles together."
   ]
  },
  {
   "cell_type": "code",
   "execution_count": null,
   "id": "05688f7b",
   "metadata": {
    "id": "099576ad",
    "outputId": "9a61e8f0-83c0-4836-83b0-41d18074c8d4"
   },
   "outputs": [
    {
     "data": {
      "text/plain": [
       "3.17"
      ]
     },
     "execution_count": 42,
     "metadata": {},
     "output_type": "execute_result"
    }
   ],
   "source": [
    "round(npo.numbr_likes.mean(skipna = True),2)     #mean of all likes"
   ]
  },
  {
   "cell_type": "code",
   "execution_count": null,
   "id": "083aa7b1",
   "metadata": {
    "id": "05c844a7",
    "outputId": "0e2d6d8d-81b6-4c64-cb4e-ff4a98f4ed8a"
   },
   "outputs": [
    {
     "data": {
      "text/plain": [
       "0.03"
      ]
     },
     "execution_count": 43,
     "metadata": {},
     "output_type": "execute_result"
    }
   ],
   "source": [
    "round(npo.number_comments.mean(skipna = True),2) #mean of all comments"
   ]
  },
  {
   "cell_type": "markdown",
   "id": "657c60a1",
   "metadata": {
    "id": "22da555d"
   },
   "source": [
    "Then we take the evaluate the mean of the comments and likes for each profile."
   ]
  },
  {
   "cell_type": "code",
   "execution_count": null,
   "id": "cc0ddcb0",
   "metadata": {
    "id": "79e574f1"
   },
   "outputs": [],
   "source": [
    "df = npo.astype({'numbr_likes':'int','number_comments':'int'}) #change the type of columns in order to groupify and calculate the mean"
   ]
  },
  {
   "cell_type": "code",
   "execution_count": null,
   "id": "a9d7038d",
   "metadata": {
    "id": "bd1ae0d2",
    "outputId": "f46a1de4-0031-45c8-8e27-6008becdefcd"
   },
   "outputs": [
    {
     "data": {
      "text/plain": [
       "profile_id\n",
       "9813508.00      0.30\n",
       "199664772.00    7.67\n",
       "218172998.00    0.40\n",
       "285549744.00    3.92\n",
       "1087613619.00   2.03\n",
       "1273455368.00   2.96\n",
       "1603889832.00   6.48\n",
       "1607309412.00   1.54\n",
       "8563366588.00   0.00\n",
       "Name: numbr_likes, dtype: float64"
      ]
     },
     "execution_count": 45,
     "metadata": {},
     "output_type": "execute_result"
    }
   ],
   "source": [
    "df.groupby(\"profile_id\")['numbr_likes'].mean() #mean of likes for every single top 10 users"
   ]
  },
  {
   "cell_type": "code",
   "execution_count": null,
   "id": "5db992bc",
   "metadata": {
    "id": "e3befb09",
    "outputId": "56400183-9ed2-4102-e055-343a7edbb201"
   },
   "outputs": [
    {
     "data": {
      "text/plain": [
       "profile_id\n",
       "9813508.00      0.00\n",
       "199664772.00    0.00\n",
       "218172998.00    0.04\n",
       "285549744.00    0.00\n",
       "1087613619.00   0.18\n",
       "1273455368.00   0.04\n",
       "1603889832.00   0.04\n",
       "1607309412.00   0.00\n",
       "8563366588.00   0.00\n",
       "Name: number_comments, dtype: float64"
      ]
     },
     "execution_count": 46,
     "metadata": {},
     "output_type": "execute_result"
    }
   ],
   "source": [
    "df.groupby(\"profile_id\")['number_comments'].mean()  #mean of comments for every single top 10 users"
   ]
  },
  {
   "cell_type": "markdown",
   "id": "b5c44d57",
   "metadata": {
    "id": "1c7307a4"
   },
   "source": [
    "## RQ4.4\n",
    "Plot the number of posts that these top 10 profiles have sent on Instagram in the given interval in question RQ3. Interpret the resulting chart."
   ]
  },
  {
   "cell_type": "code",
   "execution_count": null,
   "id": "a6b22be3",
   "metadata": {
    "id": "144eb876",
    "outputId": "6b534c31-c2fd-4203-d700-bd81b4ef5285"
   },
   "outputs": [
    {
     "data": {
      "text/html": [
       "<div>\n",
       "<style scoped>\n",
       "    .dataframe tbody tr th:only-of-type {\n",
       "        vertical-align: middle;\n",
       "    }\n",
       "\n",
       "    .dataframe tbody tr th {\n",
       "        vertical-align: top;\n",
       "    }\n",
       "\n",
       "    .dataframe thead th {\n",
       "        text-align: right;\n",
       "    }\n",
       "</style>\n",
       "<table border=\"1\" class=\"dataframe\">\n",
       "  <thead>\n",
       "    <tr style=\"text-align: right;\">\n",
       "      <th></th>\n",
       "      <th>sid</th>\n",
       "      <th>sid_profile</th>\n",
       "      <th>post_id</th>\n",
       "      <th>profile_id</th>\n",
       "      <th>location_id</th>\n",
       "      <th>cts</th>\n",
       "      <th>post_type</th>\n",
       "      <th>description</th>\n",
       "      <th>numbr_likes</th>\n",
       "      <th>number_comments</th>\n",
       "    </tr>\n",
       "  </thead>\n",
       "  <tbody>\n",
       "    <tr>\n",
       "      <th>233067</th>\n",
       "      <td>28607526</td>\n",
       "      <td>3851869</td>\n",
       "      <td>ByAFx7gnNhZ</td>\n",
       "      <td>1607309412</td>\n",
       "      <td>244873610.00</td>\n",
       "      <td>2019-05-28 11:36:28.000</td>\n",
       "      <td>1</td>\n",
       "      <td>อ้วนแค่ไหน ทานอะไรก็เอาไม่ลง \\nมาเจอเซทล้มช้าง...</td>\n",
       "      <td>1</td>\n",
       "      <td>0</td>\n",
       "    </tr>\n",
       "    <tr>\n",
       "      <th>241977</th>\n",
       "      <td>28616591</td>\n",
       "      <td>3851869</td>\n",
       "      <td>BxtZ7__Fosq</td>\n",
       "      <td>1607309412</td>\n",
       "      <td>362172550977423.00</td>\n",
       "      <td>2019-05-21 05:27:02.000</td>\n",
       "      <td>1</td>\n",
       "      <td>อ้วนแค่ไหน ทานอะไรก็เอาไม่ลง \\nมาเจอเซทล้มช้าง...</td>\n",
       "      <td>0</td>\n",
       "      <td>0</td>\n",
       "    </tr>\n",
       "    <tr>\n",
       "      <th>319192</th>\n",
       "      <td>28694641</td>\n",
       "      <td>3851869</td>\n",
       "      <td>ByB2YpbnoZs</td>\n",
       "      <td>1607309412</td>\n",
       "      <td>208691.00</td>\n",
       "      <td>2019-05-29 04:00:25.000</td>\n",
       "      <td>1</td>\n",
       "      <td>อ้วนแค่ไหน ทานอะไรก็เอาไม่ลง \\nมาเจอเซทล้มช้าง...</td>\n",
       "      <td>4</td>\n",
       "      <td>0</td>\n",
       "    </tr>\n",
       "    <tr>\n",
       "      <th>494943</th>\n",
       "      <td>28873428</td>\n",
       "      <td>3944512</td>\n",
       "      <td>BxjqpeJhofB</td>\n",
       "      <td>1603889832</td>\n",
       "      <td>297115043.00</td>\n",
       "      <td>2019-05-17 10:40:38.000</td>\n",
       "      <td>1</td>\n",
       "      <td>#gamt 1,290 free ems #gamtthailand #gamtsungla...</td>\n",
       "      <td>4</td>\n",
       "      <td>0</td>\n",
       "    </tr>\n",
       "    <tr>\n",
       "      <th>592982</th>\n",
       "      <td>28973172</td>\n",
       "      <td>345591</td>\n",
       "      <td>BsImXwXgQHo</td>\n",
       "      <td>1087613619.00</td>\n",
       "      <td>429994336.00</td>\n",
       "      <td>2019-01-02 14:46:48.000</td>\n",
       "      <td>1</td>\n",
       "      <td>NaN</td>\n",
       "      <td>0</td>\n",
       "      <td>0</td>\n",
       "    </tr>\n",
       "  </tbody>\n",
       "</table>\n",
       "</div>"
      ],
      "text/plain": [
       "             sid sid_profile      post_id    profile_id        location_id  \\\n",
       "233067  28607526     3851869  ByAFx7gnNhZ    1607309412       244873610.00   \n",
       "241977  28616591     3851869  BxtZ7__Fosq    1607309412 362172550977423.00   \n",
       "319192  28694641     3851869  ByB2YpbnoZs    1607309412          208691.00   \n",
       "494943  28873428     3944512  BxjqpeJhofB    1603889832       297115043.00   \n",
       "592982  28973172      345591  BsImXwXgQHo 1087613619.00       429994336.00   \n",
       "\n",
       "                            cts post_type  \\\n",
       "233067  2019-05-28 11:36:28.000         1   \n",
       "241977  2019-05-21 05:27:02.000         1   \n",
       "319192  2019-05-29 04:00:25.000         1   \n",
       "494943  2019-05-17 10:40:38.000         1   \n",
       "592982  2019-01-02 14:46:48.000         1   \n",
       "\n",
       "                                              description numbr_likes  \\\n",
       "233067  อ้วนแค่ไหน ทานอะไรก็เอาไม่ลง \\nมาเจอเซทล้มช้าง...           1   \n",
       "241977  อ้วนแค่ไหน ทานอะไรก็เอาไม่ลง \\nมาเจอเซทล้มช้าง...           0   \n",
       "319192  อ้วนแค่ไหน ทานอะไรก็เอาไม่ลง \\nมาเจอเซทล้มช้าง...           4   \n",
       "494943  #gamt 1,290 free ems #gamtthailand #gamtsungla...           4   \n",
       "592982                                                NaN           0   \n",
       "\n",
       "       number_comments  \n",
       "233067               0  \n",
       "241977               0  \n",
       "319192               0  \n",
       "494943               0  \n",
       "592982               0  "
      ]
     },
     "execution_count": 47,
     "metadata": {},
     "output_type": "execute_result"
    }
   ],
   "source": [
    "npo.head(5)"
   ]
  },
  {
   "cell_type": "code",
   "execution_count": null,
   "id": "cdce9a0c",
   "metadata": {
    "id": "84d71392"
   },
   "outputs": [],
   "source": [
    "from datetime import datetime\n",
    "import re\n",
    "from collections import Counter\n",
    "from matplotlib.pyplot import figure\n",
    "\n",
    "def time_interval_rq4(interval,data):\n",
    "    conta=Counter()\n",
    "    \n",
    "    #Inizialization of the counter, this is done in order to have a sorted plot by interval\n",
    "    for a in range(0,len(interval)):\n",
    "        conta[interval[a]] += 0\n",
    "    #Essendo il programma già molto pesante abbiamo creato dal terminale unix un datasey più leggero solo con la variabile\n",
    "    #di interesse.\n",
    "    #Codice per fare questo:\n",
    "    #cut -f 6  instagram_posts.csv > orario.csv\n",
    "    \n",
    "\n",
    "    data.cts=pd.to_datetime(data.cts) #that make type of cts variable from \"object\" to \"datetime\"\n",
    "    for oss in data.cts.dt.time :\n",
    "        try:\n",
    "            oss=oss.strftime('%H:%M:%S')\n",
    "\n",
    "            for j in range(0,len(interval)):\n",
    "                intervalli=re.findall(r\"[0-9:]+\",interval[j])\n",
    "                inizio=datetime.strptime(intervalli[0], '%H:%M:%S').strftime(\"%H:%M:%S\")\n",
    "                fine=datetime.strptime(intervalli[1], '%H:%M:%S').strftime(\"%H:%M:%S\")\n",
    "                if oss >= inizio and oss <= fine:\n",
    "                    conta[interval[j]] += 1\n",
    "                    break\n",
    "        except:\n",
    "            pass\n",
    "\n",
    "                \n",
    "    x=[5*i for i in range(len(interval))]\n",
    "    y=np.array([conta[i] for i in conta.keys()])\n",
    "    tot=sum(y)\n",
    "    figure(figsize=(18, 6), dpi=80)\n",
    "    plt.bar(x,y/tot,tick_label=interval)\n",
    "    plt.show()"
   ]
  },
  {
   "cell_type": "code",
   "execution_count": null,
   "id": "d9ce1a5d",
   "metadata": {
    "id": "34b122a0",
    "outputId": "b8be9078-ec96-4a2f-d84f-4f0fd1024960"
   },
   "outputs": [
    {
     "data": {
      "image/png": "[encoded data removed]",
      "text/plain": [
       "<Figure size 1440x480 with 1 Axes>"
      ]
     },
     "metadata": {
      "needs_background": "light"
     },
     "output_type": "display_data"
    }
   ],
   "source": [
    "interval=[\"06:00:00-10:59:59\",\"11:00:00-13:59:59\",\"14:00:00-16:59:59\",\"17:00:00-19:59:59\",\"20:00:00-23:59:59\",\"00:00:00-02:59:59\",\"03:00:00-05:59:59\"]\n",
    "time_interval_rq4(interval,npo)"
   ]
  },
  {
   "cell_type": "markdown",
   "id": "ad3849da",
   "metadata": {
    "id": "9e2502b4"
   },
   "source": [
    "The most common time in which top 10 users publish their posts is from 06:00:00 to 10:59:59.  \n"
   ]
  },
  {
   "cell_type": "markdown",
   "id": "ec079739",
   "metadata": {
    "id": "e6480414"
   },
   "source": [
    "# RQ5\n"
   ]
  },
  {
   "cell_type": "markdown",
   "id": "f85e1ecf",
   "metadata": {
    "id": "a5fe377c"
   },
   "source": [
    "## RQ5.1\n",
    "Plot the top 10 most popular users in terms of followers and their number of posts."
   ]
  },
  {
   "cell_type": "code",
   "execution_count": null,
   "id": "eeea1566",
   "metadata": {
    "id": "c25ece43",
    "outputId": "296f82c3-bcd9-4d02-b3fa-666652b03d10",
    "scrolled": true
   },
   "outputs": [
    {
     "data": {
      "text/html": [
       "<div>\n",
       "<style scoped>\n",
       "    .dataframe tbody tr th:only-of-type {\n",
       "        vertical-align: middle;\n",
       "    }\n",
       "\n",
       "    .dataframe tbody tr th {\n",
       "        vertical-align: top;\n",
       "    }\n",
       "\n",
       "    .dataframe thead th {\n",
       "        text-align: right;\n",
       "    }\n",
       "</style>\n",
       "<table border=\"1\" class=\"dataframe\">\n",
       "  <thead>\n",
       "    <tr style=\"text-align: right;\">\n",
       "      <th></th>\n",
       "      <th>sid</th>\n",
       "      <th>profile_id</th>\n",
       "      <th>profile_name</th>\n",
       "      <th>firstname_lastname</th>\n",
       "      <th>description</th>\n",
       "      <th>following</th>\n",
       "      <th>followers</th>\n",
       "      <th>n_posts</th>\n",
       "      <th>url</th>\n",
       "      <th>cts</th>\n",
       "      <th>is_business_account</th>\n",
       "    </tr>\n",
       "  </thead>\n",
       "  <tbody>\n",
       "    <tr>\n",
       "      <th>2880218</th>\n",
       "      <td>336492</td>\n",
       "      <td>25025320.00</td>\n",
       "      <td>instagram</td>\n",
       "      <td>Instagram</td>\n",
       "      <td>Bringing you closer to the people and things y...</td>\n",
       "      <td>226.00</td>\n",
       "      <td>285457645.00</td>\n",
       "      <td>5760.00</td>\n",
       "      <td>help.instagram.com</td>\n",
       "      <td>NaN</td>\n",
       "      <td>False</td>\n",
       "    </tr>\n",
       "    <tr>\n",
       "      <th>2582507</th>\n",
       "      <td>371414</td>\n",
       "      <td>3416684.00</td>\n",
       "      <td>victoriassecret</td>\n",
       "      <td>Victoria's Secret</td>\n",
       "      <td>Confidence is sexy. #wearitdaily</td>\n",
       "      <td>549.00</td>\n",
       "      <td>65269440.00</td>\n",
       "      <td>7355.00</td>\n",
       "      <td>like2b.uy/victoriassecret</td>\n",
       "      <td>NaN</td>\n",
       "      <td>True</td>\n",
       "    </tr>\n",
       "    <tr>\n",
       "      <th>3820939</th>\n",
       "      <td>337097</td>\n",
       "      <td>20824486.00</td>\n",
       "      <td>nba</td>\n",
       "      <td>NBA</td>\n",
       "      <td>30 teams, 1 🏆\\n👟: @nbakicks \\n📽: @nbahistory \\...</td>\n",
       "      <td>817.00</td>\n",
       "      <td>35339708.00</td>\n",
       "      <td>28816.00</td>\n",
       "      <td>nba.app.link/js6X7SVaxT</td>\n",
       "      <td>NaN</td>\n",
       "      <td>True</td>\n",
       "    </tr>\n",
       "    <tr>\n",
       "      <th>701965</th>\n",
       "      <td>330376</td>\n",
       "      <td>187619120.00</td>\n",
       "      <td>louisvuitton</td>\n",
       "      <td>Louis Vuitton Official</td>\n",
       "      <td>The official Instagram account of Louis Vuitton.</td>\n",
       "      <td>5.00</td>\n",
       "      <td>30689316.00</td>\n",
       "      <td>3352.00</td>\n",
       "      <td>on.louisvuitton.com/Like2Buy</td>\n",
       "      <td>NaN</td>\n",
       "      <td>True</td>\n",
       "    </tr>\n",
       "    <tr>\n",
       "      <th>2414951</th>\n",
       "      <td>292359</td>\n",
       "      <td>2125506698.00</td>\n",
       "      <td>buzzfeedtasty</td>\n",
       "      <td>Tasty</td>\n",
       "      <td>Recipes that will make you say \"oh yes!\"\\n👇 Cl...</td>\n",
       "      <td>298.00</td>\n",
       "      <td>30246783.00</td>\n",
       "      <td>2791.00</td>\n",
       "      <td>tasty.co/linkinbio</td>\n",
       "      <td>NaN</td>\n",
       "      <td>True</td>\n",
       "    </tr>\n",
       "    <tr>\n",
       "      <th>2785241</th>\n",
       "      <td>3437294</td>\n",
       "      <td>496865116.00</td>\n",
       "      <td>andresiniesta8</td>\n",
       "      <td>Andres Iniesta</td>\n",
       "      <td>Andres Iniesta Official Instagram Account, \\nB...</td>\n",
       "      <td>151.00</td>\n",
       "      <td>29542143.00</td>\n",
       "      <td>990.00</td>\n",
       "      <td>mikakus.com</td>\n",
       "      <td>2019-05-08 23:54:35.377 -0400</td>\n",
       "      <td>False</td>\n",
       "    </tr>\n",
       "    <tr>\n",
       "      <th>333193</th>\n",
       "      <td>158690</td>\n",
       "      <td>23410080.00</td>\n",
       "      <td>hm</td>\n",
       "      <td>H&amp;M</td>\n",
       "      <td>Welcome to #HM! Follow us at @HM_Man @HM_Kids ...</td>\n",
       "      <td>403.00</td>\n",
       "      <td>29176804.00</td>\n",
       "      <td>4566.00</td>\n",
       "      <td>hm.info/1c9he</td>\n",
       "      <td>2018-05-31 19:33:46.022 -0400</td>\n",
       "      <td>True</td>\n",
       "    </tr>\n",
       "    <tr>\n",
       "      <th>3934581</th>\n",
       "      <td>3615154</td>\n",
       "      <td>24239929.00</td>\n",
       "      <td>princessyahrini</td>\n",
       "      <td>Syahrini</td>\n",
       "      <td>NaN</td>\n",
       "      <td>835.00</td>\n",
       "      <td>29042823.00</td>\n",
       "      <td>4719.00</td>\n",
       "      <td>www.youtube.com/c/ThePrincesSyahrini</td>\n",
       "      <td>2019-06-26 15:05:53.411 -0400</td>\n",
       "      <td>True</td>\n",
       "    </tr>\n",
       "    <tr>\n",
       "      <th>1311970</th>\n",
       "      <td>508140</td>\n",
       "      <td>50417061.00</td>\n",
       "      <td>danbilzerian</td>\n",
       "      <td>Dan Bilzerian</td>\n",
       "      <td>Snapchat: dbilzerian</td>\n",
       "      <td>252.00</td>\n",
       "      <td>26476004.00</td>\n",
       "      <td>1311.00</td>\n",
       "      <td>www.ignite.co</td>\n",
       "      <td>NaN</td>\n",
       "      <td>True</td>\n",
       "    </tr>\n",
       "    <tr>\n",
       "      <th>1703764</th>\n",
       "      <td>3513205</td>\n",
       "      <td>907025384.00</td>\n",
       "      <td>akshaykumar</td>\n",
       "      <td>Akshay Kumar</td>\n",
       "      <td>#AkshayKumar</td>\n",
       "      <td>5.00</td>\n",
       "      <td>26252169.00</td>\n",
       "      <td>1173.00</td>\n",
       "      <td>bit.ly/AliAliBlank</td>\n",
       "      <td>2019-05-14 08:29:29.754 -0400</td>\n",
       "      <td>False</td>\n",
       "    </tr>\n",
       "  </tbody>\n",
       "</table>\n",
       "</div>"
      ],
      "text/plain": [
       "             sid    profile_id     profile_name      firstname_lastname  \\\n",
       "2880218   336492   25025320.00        instagram               Instagram   \n",
       "2582507   371414    3416684.00  victoriassecret       Victoria's Secret   \n",
       "3820939   337097   20824486.00              nba                     NBA   \n",
       "701965    330376  187619120.00     louisvuitton  Louis Vuitton Official   \n",
       "2414951   292359 2125506698.00    buzzfeedtasty                   Tasty   \n",
       "2785241  3437294  496865116.00   andresiniesta8          Andres Iniesta   \n",
       "333193    158690   23410080.00               hm                     H&M   \n",
       "3934581  3615154   24239929.00  princessyahrini                Syahrini   \n",
       "1311970   508140   50417061.00     danbilzerian           Dan Bilzerian   \n",
       "1703764  3513205  907025384.00      akshaykumar            Akshay Kumar   \n",
       "\n",
       "                                               description  following  \\\n",
       "2880218  Bringing you closer to the people and things y...     226.00   \n",
       "2582507                   Confidence is sexy. #wearitdaily     549.00   \n",
       "3820939  30 teams, 1 🏆\\n👟: @nbakicks \\n📽: @nbahistory \\...     817.00   \n",
       "701965    The official Instagram account of Louis Vuitton.       5.00   \n",
       "2414951  Recipes that will make you say \"oh yes!\"\\n👇 Cl...     298.00   \n",
       "2785241  Andres Iniesta Official Instagram Account, \\nB...     151.00   \n",
       "333193   Welcome to #HM! Follow us at @HM_Man @HM_Kids ...     403.00   \n",
       "3934581                                                NaN     835.00   \n",
       "1311970                               Snapchat: dbilzerian     252.00   \n",
       "1703764                                       #AkshayKumar       5.00   \n",
       "\n",
       "           followers  n_posts                                   url  \\\n",
       "2880218 285457645.00  5760.00                    help.instagram.com   \n",
       "2582507  65269440.00  7355.00             like2b.uy/victoriassecret   \n",
       "3820939  35339708.00 28816.00               nba.app.link/js6X7SVaxT   \n",
       "701965   30689316.00  3352.00          on.louisvuitton.com/Like2Buy   \n",
       "2414951  30246783.00  2791.00                    tasty.co/linkinbio   \n",
       "2785241  29542143.00   990.00                           mikakus.com   \n",
       "333193   29176804.00  4566.00                         hm.info/1c9he   \n",
       "3934581  29042823.00  4719.00  www.youtube.com/c/ThePrincesSyahrini   \n",
       "1311970  26476004.00  1311.00                         www.ignite.co   \n",
       "1703764  26252169.00  1173.00                    bit.ly/AliAliBlank   \n",
       "\n",
       "                                   cts is_business_account  \n",
       "2880218                            NaN               False  \n",
       "2582507                            NaN                True  \n",
       "3820939                            NaN                True  \n",
       "701965                             NaN                True  \n",
       "2414951                            NaN                True  \n",
       "2785241  2019-05-08 23:54:35.377 -0400               False  \n",
       "333193   2018-05-31 19:33:46.022 -0400                True  \n",
       "3934581  2019-06-26 15:05:53.411 -0400                True  \n",
       "1311970                            NaN                True  \n",
       "1703764  2019-05-14 08:29:29.754 -0400               False  "
      ]
     },
     "execution_count": 51,
     "metadata": {},
     "output_type": "execute_result"
    }
   ],
   "source": [
    "toppopular10=profiles.sort_values(by=[\"followers\",\"n_posts\"],ascending=False).head(10)\n",
    "toppopular10 #find the top 10 profile by followers"
   ]
  },
  {
   "cell_type": "markdown",
   "id": "824cf36b",
   "metadata": {
    "id": "e1fe4f0d"
   },
   "source": [
    "## RQ5.2\n",
    "Who is the most influential user? Instagram with 285457645 followers and \t5760 posts"
   ]
  },
  {
   "cell_type": "markdown",
   "id": "642688bf",
   "metadata": {
    "id": "c8362fc3"
   },
   "source": [
    "## RQ5.3\n",
    "Have they posted anything with tagged locations? Extract the most frequent areas on their posts and plot the number of times each city has been visited."
   ]
  },
  {
   "cell_type": "code",
   "execution_count": null,
   "id": "b8d66c76",
   "metadata": {
    "id": "44d3c4c4"
   },
   "outputs": [],
   "source": [
    "def profiler_rq53(profile):\n",
    "\n",
    "    dpost= pd.DataFrame(columns=[\"profile_id\",\"location_id\"])\n",
    "    for chunk in tqdm(pd.read_csv(\"~/instagram_posts.csv\",usecols=[\"profile_id\",\"location_id\"],chunksize=500000, delimiter=\"\\t\")):\n",
    "        dpost=pd.concat([dpost,chunk[chunk.profile_id.isin(profile)]])\n",
    "        \n",
    "    return dpost"
   ]
  },
  {
   "cell_type": "code",
   "execution_count": null,
   "id": "aed305b7",
   "metadata": {
    "id": "6f3125f1",
    "outputId": "96edbd21-d545-489a-aa7a-e3c8cb0c9e32"
   },
   "outputs": [
    {
     "name": "stderr",
     "output_type": "stream",
     "text": [
      "86it [01:35,  1.11s/it]\n"
     ]
    }
   ],
   "source": [
    "idd=list(toppopular10.profile_id)  #take the id of the  top 10 profile by followers\n",
    "postoppopular10=profiler_rq53(idd) #take all the posts of those profile"
   ]
  },
  {
   "cell_type": "code",
   "execution_count": null,
   "id": "f6fe7295",
   "metadata": {
    "id": "18f706fb"
   },
   "outputs": [],
   "source": [
    "id_location=list(postoppopular10.location_id)       #extract the id.location from those posts\n",
    "loctop10=locations[locations.id.isin(id_location)]  #location(dataset location) related to id_location (dataset posts)"
   ]
  },
  {
   "cell_type": "code",
   "execution_count": null,
   "id": "1db2c25a",
   "metadata": {
    "id": "8ff7fc85"
   },
   "outputs": [],
   "source": [
    "#In the next line we are gonna create a dataframe with the table of frequency of the location, and also change the column name.\n",
    "a = postoppopular10.location_id.value_counts().rename_axis('id').to_frame('counts')  \n",
    "a['idd'] =a.index      #add a column with the id of the location, it's mandatory for the merge operation.\n",
    "c=pd.merge(a, loctop10[[\"city\",\"id\"]].rename(columns={'id':'idd'}), on='idd')  #we merge the dataset with the name of areas and his frequency."
   ]
  },
  {
   "cell_type": "code",
   "execution_count": null,
   "id": "994c81dc",
   "metadata": {
    "id": "1e461e98",
    "outputId": "ca4cacd8-4be3-4b30-f27c-952aecf0d8a3"
   },
   "outputs": [
    {
     "data": {
      "image/png": "[encoded data removed]",
      "text/plain": [
       "<Figure size 1440x480 with 1 Axes>"
      ]
     },
     "metadata": {
      "needs_background": "light"
     },
     "output_type": "display_data"
    }
   ],
   "source": [
    "size=7\n",
    "x=[i*4for i in range(0,size)]\n",
    "y=pd.array(c.counts)[0:size]                               #Hights\n",
    "labs=list(c.city)[0:size]                                  #Creating labs\n",
    "\n",
    "\n",
    "figure(figsize=(18, 6), dpi=80)\n",
    "\n",
    "\n",
    "plt.bar(x,y,width=0.4,tick_label=labs)  #barplot\n",
    "\n",
    "plt.yticks(ticks=[i for i in range(0,int(c.counts.head(1)+1))])\n",
    "plt.grid(axis = 'y',linestyle = '--', linewidth = 0.5)\n",
    "plt.show()"
   ]
  },
  {
   "cell_type": "markdown",
   "id": "e002cd78",
   "metadata": {
    "id": "301765eb"
   },
   "source": [
    "We excluded cities with low frequency in order to have a more readable chart."
   ]
  },
  {
   "cell_type": "markdown",
   "id": "6f066a68",
   "metadata": {
    "id": "14a16cb3"
   },
   "source": [
    "## RQ5.4\n",
    "How many pictures-only posts have they published? How many reels? (only videos) and how many with both contents? Provide the number as percentages and interpret those figures."
   ]
  },
  {
   "cell_type": "code",
   "execution_count": null,
   "id": "14819c10",
   "metadata": {
    "id": "19e0ba9c"
   },
   "outputs": [],
   "source": [
    "def profiler_rq53(profile):\n",
    "    q3=pd.read_csv(\"~/instagram_posts.csv\",nrows=1,delimiter=\"\\t\")\n",
    "    colonne=list(q3.columns)\n",
    "    dpost= pd.DataFrame(columns=colonne)\n",
    "    for chunk in tqdm(pd.read_csv(\"~/instagram_posts.csv\",chunksize=500000, delimiter=\"\\t\")):\n",
    "        dpost=pd.concat([dpost,chunk[chunk.profile_id.isin(profile)]])\n",
    "         \n",
    "    return dpost"
   ]
  },
  {
   "cell_type": "code",
   "execution_count": null,
   "id": "14cc4e06",
   "metadata": {
    "id": "dc414912",
    "outputId": "300bf8f7-28c9-46b2-cbf1-90eafacf7c98"
   },
   "outputs": [
    {
     "name": "stderr",
     "output_type": "stream",
     "text": [
      "86it [03:50,  2.68s/it]\n"
     ]
    }
   ],
   "source": [
    "idd=list(toppopular10.profile_id)\n",
    "postoppopular10=profiler_rq53(idd)"
   ]
  },
  {
   "cell_type": "code",
   "execution_count": null,
   "id": "b443f2d4",
   "metadata": {
    "id": "7006be21",
    "outputId": "21f722c7-3252-4f10-aab8-18fea8904008"
   },
   "outputs": [
    {
     "data": {
      "image/png": "[encoded data removed]",
      "text/plain": [
       "<Figure size 432x288 with 2 Axes>"
      ]
     },
     "metadata": {
      "needs_background": "light"
     },
     "output_type": "display_data"
    }
   ],
   "source": [
    "fig = plt.figure() #set figure\n",
    "tot=sum(np.array(postoppopular10.post_type.value_counts()))\n",
    "labs = [\"Pictures only\",\"Reels\"]                  #Creating labs\n",
    "valori = np.array(postoppopular10.post_type.value_counts())/tot  #Values\n",
    " \n",
    "\n",
    "\n",
    "ax1=plt.subplot(1,3,1)  #set first subplot \n",
    "plt.bar(labs,valori,width=0.1)  #barplot\n",
    "ax1.set_ylim(0,1)\n",
    "plt.subplot(1,3,3)  #set second subplot \n",
    "plt.pie(valori,labels=labs)\n",
    "\n",
    "plt.show() "
   ]
  },
  {
   "cell_type": "markdown",
   "id": "761f1a01",
   "metadata": {
    "id": "50c411df"
   },
   "source": [
    "Most of the posts of the top 10 contains only pictures.  \n",
    "There is no posts with pictures and videos."
   ]
  },
  {
   "cell_type": "markdown",
   "id": "a4214bd3",
   "metadata": {
    "id": "5376e760"
   },
   "source": [
    "## RQ5.5\n"
   ]
  },
  {
   "cell_type": "markdown",
   "id": "62e31310",
   "metadata": {
    "id": "fb30f8cf"
   },
   "source": [
    "### How many \"likes\" and comments did posts with only pictures receive? How about videos and mixed posts?"
   ]
  },
  {
   "cell_type": "markdown",
   "id": "022df694",
   "metadata": {
    "id": "89bca9c5"
   },
   "source": [
    "**Post  with only pictures** "
   ]
  },
  {
   "cell_type": "code",
   "execution_count": null,
   "id": "f3393a69",
   "metadata": {
    "id": "21aee58b",
    "outputId": "628f4036-4e74-4f7d-9c3b-c62c474372d9"
   },
   "outputs": [
    {
     "data": {
      "text/plain": [
       "69285634.0"
      ]
     },
     "execution_count": 62,
     "metadata": {},
     "output_type": "execute_result"
    }
   ],
   "source": [
    "postoppopular10[postoppopular10.post_type==1].numbr_likes.sum() # \"likes\" that post  with only pictures receive"
   ]
  },
  {
   "cell_type": "code",
   "execution_count": null,
   "id": "0e9d46c4",
   "metadata": {
    "id": "8f1d0cf6",
    "outputId": "ef26bc87-db94-4511-f4c9-6e4b1300c8f7"
   },
   "outputs": [
    {
     "data": {
      "text/plain": [
       "497013.0"
      ]
     },
     "execution_count": 63,
     "metadata": {},
     "output_type": "execute_result"
    }
   ],
   "source": [
    "postoppopular10[postoppopular10.post_type==1].number_comments.sum() #comments that post with only pictures receive"
   ]
  },
  {
   "cell_type": "markdown",
   "id": "0df52325",
   "metadata": {
    "id": "adf05d17"
   },
   "source": [
    "**Reels**"
   ]
  },
  {
   "cell_type": "code",
   "execution_count": null,
   "id": "1b657f1f",
   "metadata": {
    "id": "f0b5e869",
    "outputId": "43532af3-d76f-4d68-b70e-c5f6dc77da65"
   },
   "outputs": [
    {
     "data": {
      "text/plain": [
       "3464814"
      ]
     },
     "execution_count": 64,
     "metadata": {},
     "output_type": "execute_result"
    }
   ],
   "source": [
    "postoppopular10[postoppopular10.post_type==2].numbr_likes.sum() #comments that reels  receive"
   ]
  },
  {
   "cell_type": "code",
   "execution_count": null,
   "id": "b00a455b",
   "metadata": {
    "id": "b427d602",
    "outputId": "71712fa0-1f12-44dd-9a24-91fea11e532e"
   },
   "outputs": [
    {
     "data": {
      "text/plain": [
       "26258"
      ]
     },
     "execution_count": 65,
     "metadata": {},
     "output_type": "execute_result"
    }
   ],
   "source": [
    "postoppopular10[postoppopular10.post_type==2].number_comments.sum() #comments that reels receive"
   ]
  },
  {
   "cell_type": "markdown",
   "id": "4eef6748",
   "metadata": {
    "id": "bdb9095f"
   },
   "source": [
    "**Mixed post**"
   ]
  },
  {
   "cell_type": "code",
   "execution_count": null,
   "id": "08bb49e1",
   "metadata": {
    "id": "c9b0d28f",
    "outputId": "0813043a-d8ec-4e3b-9eda-a235356806f6"
   },
   "outputs": [
    {
     "data": {
      "text/plain": [
       "0"
      ]
     },
     "execution_count": 66,
     "metadata": {},
     "output_type": "execute_result"
    }
   ],
   "source": [
    "postoppopular10[postoppopular10.post_type==3].numbr_likes.sum() # mixed post didn't get any likes"
   ]
  },
  {
   "cell_type": "code",
   "execution_count": null,
   "id": "23b7f58b",
   "metadata": {
    "id": "1b1ac387",
    "outputId": "ffc2062f-f903-4a0f-8262-4721e3cbd475"
   },
   "outputs": [
    {
     "data": {
      "text/plain": [
       "0"
      ]
     },
     "execution_count": 67,
     "metadata": {},
     "output_type": "execute_result"
    }
   ],
   "source": [
    "postoppopular10[postoppopular10.post_type==3].number_comments.sum()  # mixed post didn't get any comments"
   ]
  },
  {
   "cell_type": "markdown",
   "id": "dcc9427f",
   "metadata": {
    "id": "c9c78a55"
   },
   "source": [
    "###  Try to provide the average numbers and confront them with their followers amount, explaining what you can say from that comparison.\n"
   ]
  },
  {
   "cell_type": "markdown",
   "id": "c8425022",
   "metadata": {
    "id": "e0957229"
   },
   "source": [
    "#### Confront average number with followers amount. Only photos posts"
   ]
  },
  {
   "cell_type": "code",
   "execution_count": null,
   "id": "1b52af8a",
   "metadata": {
    "id": "52e2dbbb",
    "outputId": "39a77996-b39a-4ca1-a5da-d5c189c5ca2f"
   },
   "outputs": [
    {
     "data": {
      "text/html": [
       "<div>\n",
       "<style scoped>\n",
       "    .dataframe tbody tr th:only-of-type {\n",
       "        vertical-align: middle;\n",
       "    }\n",
       "\n",
       "    .dataframe tbody tr th {\n",
       "        vertical-align: top;\n",
       "    }\n",
       "\n",
       "    .dataframe thead th {\n",
       "        text-align: right;\n",
       "    }\n",
       "</style>\n",
       "<table border=\"1\" class=\"dataframe\">\n",
       "  <thead>\n",
       "    <tr style=\"text-align: right;\">\n",
       "      <th></th>\n",
       "      <th>profile_id</th>\n",
       "      <th>Average likes</th>\n",
       "      <th>Average comments</th>\n",
       "      <th>followers</th>\n",
       "    </tr>\n",
       "  </thead>\n",
       "  <tbody>\n",
       "    <tr>\n",
       "      <th>0</th>\n",
       "      <td>3416684.00</td>\n",
       "      <td>230749.800</td>\n",
       "      <td>438.400</td>\n",
       "      <td>65269440.00</td>\n",
       "    </tr>\n",
       "    <tr>\n",
       "      <th>1</th>\n",
       "      <td>20824486.00</td>\n",
       "      <td>242235.692</td>\n",
       "      <td>1087.846</td>\n",
       "      <td>35339708.00</td>\n",
       "    </tr>\n",
       "    <tr>\n",
       "      <th>2</th>\n",
       "      <td>23410080.00</td>\n",
       "      <td>81213.500</td>\n",
       "      <td>365.000</td>\n",
       "      <td>29176804.00</td>\n",
       "    </tr>\n",
       "    <tr>\n",
       "      <th>3</th>\n",
       "      <td>24239929.00</td>\n",
       "      <td>141873.348</td>\n",
       "      <td>757.435</td>\n",
       "      <td>29042823.00</td>\n",
       "    </tr>\n",
       "    <tr>\n",
       "      <th>4</th>\n",
       "      <td>25025320.00</td>\n",
       "      <td>905933.452</td>\n",
       "      <td>6703.290</td>\n",
       "      <td>285457645.00</td>\n",
       "    </tr>\n",
       "    <tr>\n",
       "      <th>5</th>\n",
       "      <td>50417061.00</td>\n",
       "      <td>863113.267</td>\n",
       "      <td>8594.733</td>\n",
       "      <td>26476004.00</td>\n",
       "    </tr>\n",
       "    <tr>\n",
       "      <th>6</th>\n",
       "      <td>187619120.00</td>\n",
       "      <td>186857.000</td>\n",
       "      <td>867.000</td>\n",
       "      <td>30689316.00</td>\n",
       "    </tr>\n",
       "    <tr>\n",
       "      <th>7</th>\n",
       "      <td>496865116.00</td>\n",
       "      <td>473022.667</td>\n",
       "      <td>2237.083</td>\n",
       "      <td>29542143.00</td>\n",
       "    </tr>\n",
       "    <tr>\n",
       "      <th>8</th>\n",
       "      <td>907025384.00</td>\n",
       "      <td>1027101.846</td>\n",
       "      <td>6582.462</td>\n",
       "      <td>26252169.00</td>\n",
       "    </tr>\n",
       "    <tr>\n",
       "      <th>9</th>\n",
       "      <td>2125506698.00</td>\n",
       "      <td>100862.923</td>\n",
       "      <td>963.154</td>\n",
       "      <td>30246783.00</td>\n",
       "    </tr>\n",
       "  </tbody>\n",
       "</table>\n",
       "</div>"
      ],
      "text/plain": [
       "     profile_id Average likes Average comments    followers\n",
       "0    3416684.00    230749.800          438.400  65269440.00\n",
       "1   20824486.00    242235.692         1087.846  35339708.00\n",
       "2   23410080.00     81213.500          365.000  29176804.00\n",
       "3   24239929.00    141873.348          757.435  29042823.00\n",
       "4   25025320.00    905933.452         6703.290 285457645.00\n",
       "5   50417061.00    863113.267         8594.733  26476004.00\n",
       "6  187619120.00    186857.000          867.000  30689316.00\n",
       "7  496865116.00    473022.667         2237.083  29542143.00\n",
       "8  907025384.00   1027101.846         6582.462  26252169.00\n",
       "9 2125506698.00    100862.923          963.154  30246783.00"
      ]
     },
     "execution_count": 80,
     "metadata": {},
     "output_type": "execute_result"
    }
   ],
   "source": [
    "df = postoppopular10[postoppopular10.post_type==1].astype({'numbr_likes':'int','number_comments':'int'}) #change the type of columns in order to groupify and calculate the mean\n",
    "\n",
    "#Calculate the average number of likes for each profile \n",
    "likes=df.groupby(\"profile_id\")['numbr_likes'].mean().apply(lambda x: '%.3f' % x) #mean of likes for every single top 10 users\n",
    "likes=likes.to_frame(\"Average likes\")\n",
    "likes=likes.reset_index()\n",
    "likes=pd.merge(likes,toppopular10[[\"profile_id\",\"followers\"]],on=\"profile_id\")\n",
    "\n",
    "#Calculate the average number of comments for each profile \n",
    "comments=df.groupby(\"profile_id\")['number_comments'].mean().apply(lambda x: '%.3f' % x)  #mean of comments for every single top 10 users\n",
    "comments=comments.to_frame(\"Average comments\")\n",
    "comments=comments.reset_index()\n",
    "\n",
    "#Merge the data\n",
    "likes_comments=pd.merge(likes,comments,on=\"profile_id\")\n",
    "\n",
    "#Reorganize the dataset\n",
    "cols =['profile_id', 'Average likes', 'Average comments', 'followers']\n",
    "likes_comments=likes_comments[cols]\n",
    "\n",
    "likes_comments"
   ]
  },
  {
   "cell_type": "markdown",
   "id": "1f303fc5",
   "metadata": {
    "id": "eb363237"
   },
   "source": [
    "#### Confront average number with followers amount. Only videos posts"
   ]
  },
  {
   "cell_type": "code",
   "execution_count": null,
   "id": "1c28febd",
   "metadata": {
    "id": "5b5c473f",
    "outputId": "459aad26-68b7-4bd6-90a8-650214aac635"
   },
   "outputs": [
    {
     "data": {
      "text/html": [
       "<div>\n",
       "<style scoped>\n",
       "    .dataframe tbody tr th:only-of-type {\n",
       "        vertical-align: middle;\n",
       "    }\n",
       "\n",
       "    .dataframe tbody tr th {\n",
       "        vertical-align: top;\n",
       "    }\n",
       "\n",
       "    .dataframe thead th {\n",
       "        text-align: right;\n",
       "    }\n",
       "</style>\n",
       "<table border=\"1\" class=\"dataframe\">\n",
       "  <thead>\n",
       "    <tr style=\"text-align: right;\">\n",
       "      <th></th>\n",
       "      <th>profile_id</th>\n",
       "      <th>Average likes</th>\n",
       "      <th>Average comments</th>\n",
       "      <th>followers</th>\n",
       "    </tr>\n",
       "  </thead>\n",
       "  <tbody>\n",
       "    <tr>\n",
       "      <th>0</th>\n",
       "      <td>3416684.00</td>\n",
       "      <td>261408.000</td>\n",
       "      <td>583.000</td>\n",
       "      <td>65269440.00</td>\n",
       "    </tr>\n",
       "    <tr>\n",
       "      <th>1</th>\n",
       "      <td>20824486.00</td>\n",
       "      <td>207295.600</td>\n",
       "      <td>1026.800</td>\n",
       "      <td>35339708.00</td>\n",
       "    </tr>\n",
       "    <tr>\n",
       "      <th>2</th>\n",
       "      <td>24239929.00</td>\n",
       "      <td>41763.667</td>\n",
       "      <td>903.333</td>\n",
       "      <td>29042823.00</td>\n",
       "    </tr>\n",
       "    <tr>\n",
       "      <th>3</th>\n",
       "      <td>25025320.00</td>\n",
       "      <td>593409.667</td>\n",
       "      <td>5749.333</td>\n",
       "      <td>285457645.00</td>\n",
       "    </tr>\n",
       "  </tbody>\n",
       "</table>\n",
       "</div>"
      ],
      "text/plain": [
       "   profile_id Average likes Average comments    followers\n",
       "0  3416684.00    261408.000          583.000  65269440.00\n",
       "1 20824486.00    207295.600         1026.800  35339708.00\n",
       "2 24239929.00     41763.667          903.333  29042823.00\n",
       "3 25025320.00    593409.667         5749.333 285457645.00"
      ]
     },
     "execution_count": 81,
     "metadata": {},
     "output_type": "execute_result"
    }
   ],
   "source": [
    "df = postoppopular10[postoppopular10.post_type==2].astype({'numbr_likes':'int','number_comments':'int'}) #change the type of columns in order to groupify and calculate the mean\n",
    "\n",
    "#Calculate the average number of likes for each profile \n",
    "likes=df.groupby(\"profile_id\")['numbr_likes'].mean().apply(lambda x: '%.3f' % x) #mean of likes for every single top 10 users\n",
    "likes=likes.to_frame(\"Average likes\")\n",
    "likes=likes.reset_index()\n",
    "likes=pd.merge(likes,toppopular10[[\"profile_id\",\"followers\"]],on=\"profile_id\")\n",
    "\n",
    "#Calculate the average number of comments for each profile \n",
    "comments=df.groupby(\"profile_id\")['number_comments'].mean().apply(lambda x: '%.3f' % x)  #mean of comments for every single top 10 users\n",
    "comments=comments.to_frame(\"Average comments\")\n",
    "comments=comments.reset_index()\n",
    "\n",
    "#Merge the data\n",
    "likes_comments=pd.merge(likes,comments,on=\"profile_id\")\n",
    "\n",
    "#Reorganize the dataset\n",
    "cols =['profile_id', 'Average likes', 'Average comments', 'followers']\n",
    "likes_comments=likes_comments[cols]\n",
    "\n",
    "likes_comments"
   ]
  },
  {
   "cell_type": "markdown",
   "id": "b0d70f4b",
   "metadata": {
    "id": "b7ea8bdb"
   },
   "source": [
    "#### Confront average number with followers amount. All type posts"
   ]
  },
  {
   "cell_type": "code",
   "execution_count": null,
   "id": "4855ff8c",
   "metadata": {
    "id": "8328808d",
    "outputId": "4b5bc546-a086-4c07-c83e-45b45d1a2507"
   },
   "outputs": [
    {
     "data": {
      "text/html": [
       "<div>\n",
       "<style scoped>\n",
       "    .dataframe tbody tr th:only-of-type {\n",
       "        vertical-align: middle;\n",
       "    }\n",
       "\n",
       "    .dataframe tbody tr th {\n",
       "        vertical-align: top;\n",
       "    }\n",
       "\n",
       "    .dataframe thead th {\n",
       "        text-align: right;\n",
       "    }\n",
       "</style>\n",
       "<table border=\"1\" class=\"dataframe\">\n",
       "  <thead>\n",
       "    <tr style=\"text-align: right;\">\n",
       "      <th></th>\n",
       "      <th>profile_id</th>\n",
       "      <th>Average likes</th>\n",
       "      <th>Average comments</th>\n",
       "      <th>followers</th>\n",
       "    </tr>\n",
       "  </thead>\n",
       "  <tbody>\n",
       "    <tr>\n",
       "      <th>0</th>\n",
       "      <td>3416684.00</td>\n",
       "      <td>239509.286</td>\n",
       "      <td>479.714</td>\n",
       "      <td>65269440.00</td>\n",
       "    </tr>\n",
       "    <tr>\n",
       "      <th>1</th>\n",
       "      <td>20824486.00</td>\n",
       "      <td>232530.111</td>\n",
       "      <td>1070.889</td>\n",
       "      <td>35339708.00</td>\n",
       "    </tr>\n",
       "    <tr>\n",
       "      <th>2</th>\n",
       "      <td>23410080.00</td>\n",
       "      <td>81213.500</td>\n",
       "      <td>365.000</td>\n",
       "      <td>29176804.00</td>\n",
       "    </tr>\n",
       "    <tr>\n",
       "      <th>3</th>\n",
       "      <td>24239929.00</td>\n",
       "      <td>130322.231</td>\n",
       "      <td>774.269</td>\n",
       "      <td>29042823.00</td>\n",
       "    </tr>\n",
       "    <tr>\n",
       "      <th>4</th>\n",
       "      <td>25025320.00</td>\n",
       "      <td>878357.824</td>\n",
       "      <td>6619.118</td>\n",
       "      <td>285457645.00</td>\n",
       "    </tr>\n",
       "    <tr>\n",
       "      <th>5</th>\n",
       "      <td>50417061.00</td>\n",
       "      <td>863113.267</td>\n",
       "      <td>8594.733</td>\n",
       "      <td>26476004.00</td>\n",
       "    </tr>\n",
       "    <tr>\n",
       "      <th>6</th>\n",
       "      <td>187619120.00</td>\n",
       "      <td>186857.000</td>\n",
       "      <td>867.000</td>\n",
       "      <td>30689316.00</td>\n",
       "    </tr>\n",
       "    <tr>\n",
       "      <th>7</th>\n",
       "      <td>496865116.00</td>\n",
       "      <td>473022.667</td>\n",
       "      <td>2237.083</td>\n",
       "      <td>29542143.00</td>\n",
       "    </tr>\n",
       "    <tr>\n",
       "      <th>8</th>\n",
       "      <td>907025384.00</td>\n",
       "      <td>1027101.846</td>\n",
       "      <td>6582.462</td>\n",
       "      <td>26252169.00</td>\n",
       "    </tr>\n",
       "    <tr>\n",
       "      <th>9</th>\n",
       "      <td>2125506698.00</td>\n",
       "      <td>100862.923</td>\n",
       "      <td>963.154</td>\n",
       "      <td>30246783.00</td>\n",
       "    </tr>\n",
       "  </tbody>\n",
       "</table>\n",
       "</div>"
      ],
      "text/plain": [
       "     profile_id Average likes Average comments    followers\n",
       "0    3416684.00    239509.286          479.714  65269440.00\n",
       "1   20824486.00    232530.111         1070.889  35339708.00\n",
       "2   23410080.00     81213.500          365.000  29176804.00\n",
       "3   24239929.00    130322.231          774.269  29042823.00\n",
       "4   25025320.00    878357.824         6619.118 285457645.00\n",
       "5   50417061.00    863113.267         8594.733  26476004.00\n",
       "6  187619120.00    186857.000          867.000  30689316.00\n",
       "7  496865116.00    473022.667         2237.083  29542143.00\n",
       "8  907025384.00   1027101.846         6582.462  26252169.00\n",
       "9 2125506698.00    100862.923          963.154  30246783.00"
      ]
     },
     "execution_count": 82,
     "metadata": {},
     "output_type": "execute_result"
    }
   ],
   "source": [
    "df = postoppopular10.astype({'numbr_likes':'int','number_comments':'int'}) #change the type of columns in order to groupify and calculate the mean\n",
    "\n",
    "#Calculate the average number of likes for each profile \n",
    "likes=df.groupby(\"profile_id\")['numbr_likes'].mean().apply(lambda x: '%.3f' % x) #mean of likes for every single top 10 users\n",
    "likes=likes.to_frame(\"Average likes\")\n",
    "likes=likes.reset_index()\n",
    "likes=pd.merge(likes,toppopular10[[\"profile_id\",\"followers\"]],on=\"profile_id\")\n",
    "\n",
    "#Calculate the average number of comments for each profile \n",
    "comments=df.groupby(\"profile_id\")['number_comments'].mean().apply(lambda x: '%.3f' % x)  #mean of comments for every single top 10 users\n",
    "comments=comments.to_frame(\"Average comments\")\n",
    "comments=comments.reset_index()\n",
    "\n",
    "#Merge the data\n",
    "likes_comments=pd.merge(likes,comments,on=\"profile_id\")\n",
    "\n",
    "#Reorganize the dataset\n",
    "cols =['profile_id', 'Average likes', 'Average comments', 'followers']\n",
    "likes_comments=likes_comments[cols]\n",
    "\n",
    "likes_comments\n",
    "#apply(lambda x: '%.3f' % x) allow us too remove scientific notation."
   ]
  },
  {
   "cell_type": "markdown",
   "id": "eb53dc01",
   "metadata": {
    "id": "3a0c734a"
   },
   "source": [
    "Seems to be no a difference between number of average likes and comments between the types of posts."
   ]
  },
  {
   "cell_type": "markdown",
   "id": "8dbbb7e5",
   "metadata": {
    "id": "7ef6f51d"
   },
   "source": [
    "# RQ6"
   ]
  },
  {
   "cell_type": "markdown",
   "id": "5ea54a79",
   "metadata": {
    "id": "df6074d4"
   },
   "source": [
    "## RQ6.1"
   ]
  },
  {
   "cell_type": "code",
   "execution_count": 3,
   "id": "771e079e",
   "metadata": {
    "id": "76817a74",
    "outputId": "aa886f18-056d-4a1c-cadf-3f297e835cf2"
   },
   "outputs": [
    {
     "name": "stderr",
     "output_type": "stream",
     "text": [
      "86it [04:06,  2.87s/it]\n"
     ]
    }
   ],
   "source": [
    "posts_cts=pd.DataFrame(columns=[\"profile_id\",\"cts\"])\n",
    "for chunk in tqdm(pd.read_csv(\"~/instagram_posts.csv\",chunksize=500000,usecols=[\"profile_id\",\"cts\"], delimiter=\"\\t\")):\n",
    "        posts_cts=pd.concat([posts_cts,chunk.dropna()])   "
   ]
  },
  {
   "cell_type": "code",
   "execution_count": 4,
   "id": "bec45d6a",
   "metadata": {
    "id": "78f6b926"
   },
   "outputs": [],
   "source": [
    "posts_cts.to_csv(\"~/instagram_posts_cts.csv\")"
   ]
  },
  {
   "cell_type": "code",
   "execution_count": 6,
   "id": "aaea9091",
   "metadata": {
    "id": "a39894e8",
    "outputId": "5421104d-bfc0-42e3-eb85-8451c41ae364"
   },
   "outputs": [
    {
     "name": "stderr",
     "output_type": "stream",
     "text": [
      "81it [05:22,  3.98s/it]\n"
     ]
    }
   ],
   "source": [
    "#Merge the two datasets in order to create a new one that contain for each post : the followers and following of the account that made the post.\n",
    "merge_cts_df=pd.DataFrame(columns=[\"profile_id\",\"cts\"])\n",
    "profiles_id = pd.read_csv(\"~/instagram_profiles.csv\", usecols=['profile_id'], delimiter=\"\\t\")\n",
    "for chunk in tqdm(pd.read_csv(\"~/instagram_posts_cts.csv\",chunksize=500000)):\n",
    "    merge_cts_df=pd.concat([merge_cts_df,pd.merge(profiles_id,chunk,on=\"profile_id\")])   "
   ]
  },
  {
   "cell_type": "code",
   "execution_count": 11,
   "id": "d5924bc3",
   "metadata": {
    "id": "2e9e534c",
    "outputId": "6975ed87-fe5f-44c0-ba8f-77f5f7b8794d"
   },
   "outputs": [
    {
     "name": "stderr",
     "output_type": "stream",
     "text": [
      "100%|██████████| 2173843/2173843 [34:32<00:00, 1048.66it/s]\n"
     ]
    }
   ],
   "source": [
    "# The dataset merge_cts_df contains data of posts only for profiles contained in instagram_profiles \n",
    "\n",
    "cts = merge_cts_df.dropna()\n",
    "\n",
    "cts_groupby_profile = cts.groupby(by='profile_id')\n",
    "\n",
    "profileIds = cts_groupby_profile.indices.keys()\n",
    "# We can increase the parameter min_posts if we want to get the average only for profiles that have more posts\n",
    "min_posts = 2\n",
    "format = \"%Y-%m-%d %H:%M:%S.%f\"\n",
    "user_average = dict()\n",
    "\n",
    "for profileId in tqdm(profileIds) :\n",
    "    # we get the cts for each profile\n",
    "    times = cts_groupby_profile.get_group(profileId)\n",
    "    times = list(times.cts.drop_duplicates())\n",
    "    if len(times) > min_posts :\n",
    "        # we compute each delta between two consecutive posts\n",
    "        deltas = []\n",
    "        for i in range (0, len(times)-1) :\n",
    "            time1 = datetime.strptime(times[i], format)\n",
    "            time2 = datetime.strptime(times[i+1], format)\n",
    "            time_delta = abs(time2-time1)\n",
    "            deltas.append(time_delta)\n",
    "        average = pd.to_timedelta(pd.Series(deltas)).mean()\n",
    "        user_average[profileId] = average\n",
    "\n",
    "# we sort the means\n",
    "user_average_sorted = {k: v for k, v in sorted(user_average.items(), key=lambda item: item[1])}"
   ]
  },
  {
   "cell_type": "code",
   "execution_count": 16,
   "id": "a11a5751",
   "metadata": {
    "id": "2b0d0665"
   },
   "outputs": [
    {
     "name": "stdout",
     "output_type": "stream",
     "text": [
      "(4566388382.0, Timedelta('0 days 00:00:01.142857142'))\n",
      "(381021425.0, Timedelta('0 days 00:00:01.250000'))\n",
      "(7495516905.0, Timedelta('0 days 00:00:01.250000'))\n"
     ]
    }
   ],
   "source": [
    "# we get only the top 3 users that publish posts more frequently\n",
    "i = 0\n",
    "for item in user_average_sorted.items() :\n",
    "    print(item)\n",
    "    i += 1\n",
    "    if i == 3 :\n",
    "        break"
   ]
  },
  {
   "cell_type": "code",
   "execution_count": 17,
   "id": "438abd53",
   "metadata": {},
   "outputs": [
    {
     "data": {
      "text/html": [
       "<div>\n",
       "<style scoped>\n",
       "    .dataframe tbody tr th:only-of-type {\n",
       "        vertical-align: middle;\n",
       "    }\n",
       "\n",
       "    .dataframe tbody tr th {\n",
       "        vertical-align: top;\n",
       "    }\n",
       "\n",
       "    .dataframe thead th {\n",
       "        text-align: right;\n",
       "    }\n",
       "</style>\n",
       "<table border=\"1\" class=\"dataframe\">\n",
       "  <thead>\n",
       "    <tr style=\"text-align: right;\">\n",
       "      <th></th>\n",
       "      <th>sid</th>\n",
       "      <th>profile_id</th>\n",
       "      <th>profile_name</th>\n",
       "      <th>firstname_lastname</th>\n",
       "      <th>description</th>\n",
       "      <th>following</th>\n",
       "      <th>followers</th>\n",
       "      <th>n_posts</th>\n",
       "      <th>url</th>\n",
       "      <th>cts</th>\n",
       "      <th>is_business_account</th>\n",
       "    </tr>\n",
       "  </thead>\n",
       "  <tbody>\n",
       "    <tr>\n",
       "      <th>2659831</th>\n",
       "      <td>2011718</td>\n",
       "      <td>4.566388e+09</td>\n",
       "      <td>aaangela_c</td>\n",
       "      <td>Angela Chan</td>\n",
       "      <td>NaN</td>\n",
       "      <td>141.0</td>\n",
       "      <td>26.0</td>\n",
       "      <td>99.0</td>\n",
       "      <td>NaN</td>\n",
       "      <td>2019-04-04 10:57:57.999 -0400</td>\n",
       "      <td>False</td>\n",
       "    </tr>\n",
       "  </tbody>\n",
       "</table>\n",
       "</div>"
      ],
      "text/plain": [
       "             sid    profile_id profile_name firstname_lastname description  \\\n",
       "2659831  2011718  4.566388e+09   aaangela_c        Angela Chan         NaN   \n",
       "\n",
       "         following  followers  n_posts  url                            cts  \\\n",
       "2659831      141.0       26.0     99.0  NaN  2019-04-04 10:57:57.999 -0400   \n",
       "\n",
       "        is_business_account  \n",
       "2659831               False  "
      ]
     },
     "execution_count": 17,
     "metadata": {},
     "output_type": "execute_result"
    }
   ],
   "source": [
    "profiles[profiles.profile_id == 4566388382.0]"
   ]
  },
  {
   "cell_type": "code",
   "execution_count": 25,
   "id": "31708c8e",
   "metadata": {},
   "outputs": [
    {
     "data": {
      "text/plain": [
       "303160    2018-10-30 23:23:17.000\n",
       "303161    2018-10-30 23:23:16.000\n",
       "303162    2018-10-30 23:23:15.000\n",
       "303163    2018-10-30 23:23:13.000\n",
       "303164    2018-10-30 23:23:12.000\n",
       "303165    2018-10-30 23:23:12.000\n",
       "303166    2018-10-30 23:23:12.000\n",
       "303167    2018-10-30 23:23:12.000\n",
       "303168    2018-10-30 23:23:11.000\n",
       "303169    2018-10-30 23:23:10.000\n",
       "303170    2018-10-30 23:23:10.000\n",
       "303171    2018-10-30 23:23:09.000\n",
       "Name: cts, dtype: object"
      ]
     },
     "execution_count": 25,
     "metadata": {},
     "output_type": "execute_result"
    }
   ],
   "source": [
    "cts_groupby_profile.get_group(4566388382.0).cts"
   ]
  },
  {
   "cell_type": "code",
   "execution_count": 18,
   "id": "93b653b9",
   "metadata": {},
   "outputs": [
    {
     "data": {
      "text/html": [
       "<div>\n",
       "<style scoped>\n",
       "    .dataframe tbody tr th:only-of-type {\n",
       "        vertical-align: middle;\n",
       "    }\n",
       "\n",
       "    .dataframe tbody tr th {\n",
       "        vertical-align: top;\n",
       "    }\n",
       "\n",
       "    .dataframe thead th {\n",
       "        text-align: right;\n",
       "    }\n",
       "</style>\n",
       "<table border=\"1\" class=\"dataframe\">\n",
       "  <thead>\n",
       "    <tr style=\"text-align: right;\">\n",
       "      <th></th>\n",
       "      <th>sid</th>\n",
       "      <th>profile_id</th>\n",
       "      <th>profile_name</th>\n",
       "      <th>firstname_lastname</th>\n",
       "      <th>description</th>\n",
       "      <th>following</th>\n",
       "      <th>followers</th>\n",
       "      <th>n_posts</th>\n",
       "      <th>url</th>\n",
       "      <th>cts</th>\n",
       "      <th>is_business_account</th>\n",
       "    </tr>\n",
       "  </thead>\n",
       "  <tbody>\n",
       "    <tr>\n",
       "      <th>1086168</th>\n",
       "      <td>777017</td>\n",
       "      <td>381021425.0</td>\n",
       "      <td>mass_biscarini</td>\n",
       "      <td>Mass Biscarini</td>\n",
       "      <td>NaN</td>\n",
       "      <td>5365.0</td>\n",
       "      <td>213.0</td>\n",
       "      <td>5.0</td>\n",
       "      <td>NaN</td>\n",
       "      <td>2019-03-26 03:40:34.376 -0400</td>\n",
       "      <td>False</td>\n",
       "    </tr>\n",
       "  </tbody>\n",
       "</table>\n",
       "</div>"
      ],
      "text/plain": [
       "            sid   profile_id    profile_name firstname_lastname description  \\\n",
       "1086168  777017  381021425.0  mass_biscarini     Mass Biscarini         NaN   \n",
       "\n",
       "         following  followers  n_posts  url                            cts  \\\n",
       "1086168     5365.0      213.0      5.0  NaN  2019-03-26 03:40:34.376 -0400   \n",
       "\n",
       "        is_business_account  \n",
       "1086168               False  "
      ]
     },
     "execution_count": 18,
     "metadata": {},
     "output_type": "execute_result"
    }
   ],
   "source": [
    "profiles[profiles.profile_id == 381021425.0]"
   ]
  },
  {
   "cell_type": "code",
   "execution_count": 24,
   "id": "2c7d932e",
   "metadata": {},
   "outputs": [
    {
     "data": {
      "text/plain": [
       "347082    2013-05-16 13:09:11.000\n",
       "347083    2013-05-16 13:09:10.000\n",
       "347084    2013-05-16 13:09:09.000\n",
       "347085    2013-05-16 13:09:07.000\n",
       "347086    2013-05-16 13:09:06.000\n",
       "Name: cts, dtype: object"
      ]
     },
     "execution_count": 24,
     "metadata": {},
     "output_type": "execute_result"
    }
   ],
   "source": [
    "cts_groupby_profile.get_group(381021425.0).cts"
   ]
  },
  {
   "cell_type": "code",
   "execution_count": 19,
   "id": "d15e637f",
   "metadata": {},
   "outputs": [
    {
     "data": {
      "text/html": [
       "<div>\n",
       "<style scoped>\n",
       "    .dataframe tbody tr th:only-of-type {\n",
       "        vertical-align: middle;\n",
       "    }\n",
       "\n",
       "    .dataframe tbody tr th {\n",
       "        vertical-align: top;\n",
       "    }\n",
       "\n",
       "    .dataframe thead th {\n",
       "        text-align: right;\n",
       "    }\n",
       "</style>\n",
       "<table border=\"1\" class=\"dataframe\">\n",
       "  <thead>\n",
       "    <tr style=\"text-align: right;\">\n",
       "      <th></th>\n",
       "      <th>sid</th>\n",
       "      <th>profile_id</th>\n",
       "      <th>profile_name</th>\n",
       "      <th>firstname_lastname</th>\n",
       "      <th>description</th>\n",
       "      <th>following</th>\n",
       "      <th>followers</th>\n",
       "      <th>n_posts</th>\n",
       "      <th>url</th>\n",
       "      <th>cts</th>\n",
       "      <th>is_business_account</th>\n",
       "    </tr>\n",
       "  </thead>\n",
       "  <tbody>\n",
       "    <tr>\n",
       "      <th>2534880</th>\n",
       "      <td>2456657</td>\n",
       "      <td>7.495517e+09</td>\n",
       "      <td>turkerbolatli2775</td>\n",
       "      <td>Türker Bolatlı</td>\n",
       "      <td>🔸Özel ders ve hızlı zayıflama \\n🔸Sporcu ürünle...</td>\n",
       "      <td>5507.0</td>\n",
       "      <td>96.0</td>\n",
       "      <td>16.0</td>\n",
       "      <td>NaN</td>\n",
       "      <td>2019-04-08 12:47:43.332 -0400</td>\n",
       "      <td>False</td>\n",
       "    </tr>\n",
       "  </tbody>\n",
       "</table>\n",
       "</div>"
      ],
      "text/plain": [
       "             sid    profile_id       profile_name firstname_lastname  \\\n",
       "2534880  2456657  7.495517e+09  turkerbolatli2775     Türker Bolatlı   \n",
       "\n",
       "                                               description  following  \\\n",
       "2534880  🔸Özel ders ve hızlı zayıflama \\n🔸Sporcu ürünle...     5507.0   \n",
       "\n",
       "         followers  n_posts  url                            cts  \\\n",
       "2534880       96.0     16.0  NaN  2019-04-08 12:47:43.332 -0400   \n",
       "\n",
       "        is_business_account  \n",
       "2534880               False  "
      ]
     },
     "execution_count": 19,
     "metadata": {},
     "output_type": "execute_result"
    }
   ],
   "source": [
    "profiles[profiles.profile_id == 7495516905.0]"
   ]
  },
  {
   "cell_type": "code",
   "execution_count": 23,
   "id": "11ae80af",
   "metadata": {},
   "outputs": [
    {
     "data": {
      "text/plain": [
       "184402    2018-04-13 13:30:21.000\n",
       "184403    2018-04-13 13:30:21.000\n",
       "184404    2018-04-13 13:30:21.000\n",
       "184405    2018-04-13 13:30:21.000\n",
       "184406    2018-04-13 13:30:21.000\n",
       "184407    2018-04-13 13:30:20.000\n",
       "184408    2018-04-13 13:30:19.000\n",
       "184409    2018-04-13 13:30:19.000\n",
       "184410    2018-04-13 13:30:19.000\n",
       "184411    2018-04-13 13:30:18.000\n",
       "184412    2018-04-13 13:30:18.000\n",
       "184413    2018-04-13 13:30:16.000\n",
       "Name: cts, dtype: object"
      ]
     },
     "execution_count": 23,
     "metadata": {},
     "output_type": "execute_result"
    }
   ],
   "source": [
    "cts_groupby_profile.get_group(7495516905.0).cts"
   ]
  },
  {
   "cell_type": "markdown",
   "id": "53ecf3ef",
   "metadata": {},
   "source": [
    "We can see that users that publish most frequently have an average of time between posts of approximately one second."
   ]
  },
  {
   "cell_type": "markdown",
   "id": "8d306194",
   "metadata": {},
   "source": [
    "But, if we look at the times of theirs posts, we can notice that their are all during the same minute. Also, this high frequence doesn't seem to have a good impact on their number of followers."
   ]
  },
  {
   "cell_type": "markdown",
   "id": "4ef465af",
   "metadata": {},
   "source": [
    "So, if we want to analyze in detail the average time a user lets pass before publishing another post, we may not consider those 'noisy' profiles that have unsual behaviors. These profiles could be bot, profiles with only posts in the same minute, profiles with a number of posts that is not relevant."
   ]
  },
  {
   "cell_type": "markdown",
   "id": "3c4e38dc",
   "metadata": {
    "id": "298b98ba"
   },
   "source": [
    "## RQ6.2\n",
    "Using the function you previously coded, plot the time intervals with the highest average number of “likes” and the ones with the highest average number of comments on posts."
   ]
  },
  {
   "cell_type": "code",
   "execution_count": null,
   "id": "fdb82df8",
   "metadata": {
    "id": "583ae66f"
   },
   "outputs": [],
   "source": [
    "from datetime import datetime\n",
    "import re\n",
    "from collections import Counter\n",
    "from matplotlib.pyplot import figure\n",
    "\n",
    "\n",
    "def time_interval(interval):\n",
    "    conta=Counter()\n",
    "    conta_like=Counter()\n",
    "    conta_comment=Counter()\n",
    "    \n",
    "    #Inizialization of the counter, this is done in order to have a sorted plot by interval\n",
    "    for a in range(0,len(interval)):\n",
    "        conta[interval[a]] += 0\n",
    "        conta_like[interval[a]] += 0\n",
    "        conta_like[interval[a]] += 0\n",
    "    \n",
    "    \n",
    "    for chunk in tqdm(pd.read_csv(\"~/instagram_posts.csv\",usecols=[\"numbr_likes\",\"number_comments\",\"cts\"],chunksize=250000, delimiter=\"\\t\")):\n",
    "        chunk.cts=pd.to_datetime(chunk.cts)\n",
    "            \n",
    "        for index, row in chunk.iterrows():\n",
    "            try:\n",
    "                oss_cts=row.cts.strftime('%H:%M:%S')\n",
    "                for j in range(0,len(interval)):\n",
    "                    intervalli=re.findall(r\"[0-9:]+\",interval[j])\n",
    "                    inizio=datetime.strptime(intervalli[0], '%H:%M:%S').strftime(\"%H:%M:%S\")\n",
    "                    fine=datetime.strptime(intervalli[1], '%H:%M:%S').strftime(\"%H:%M:%S\")\n",
    "\n",
    "                    if oss_cts >= inizio and oss_cts <= fine:\n",
    "                      \n",
    "                        conta[interval[j]] += 1\n",
    "                        conta_like[interval[j]] += row['numbr_likes']\n",
    "                        conta_comment[interval[j]] += row['number_comments']\n",
    "                        break\n",
    "            except:\n",
    "                pass\n",
    "    \n",
    "    for k in conta.keys(): #this loop is to calculate the means\n",
    "        conta_like[k]= int(round(conta_like[k]/conta[k],0))\n",
    "        conta_comment[k]= int(round(conta_comment[k]/conta[k],0))\n",
    "    \n",
    "  \n",
    "    fig=plt.figure()                 \n",
    "    figure(figsize=(18, 12), dpi=80)    \n",
    "\n",
    "    \n",
    "    x=[5*i for i in range(len(interval))]\n",
    "    \n",
    "    ax1=plt.subplot(2,1,1)\n",
    "    \n",
    "    y1=np.array([conta_like[i] for i in conta_like.keys()])\n",
    "    tot1=sum(y1)\n",
    "\n",
    "    ax1.title.set_text('Average number of likes on posts')\n",
    "    plt.bar(x,y1,tick_label=interval)\n",
    "    plt.grid(axis = 'y',linestyle = '--', linewidth = 0.5)\n",
    "    \n",
    "    \n",
    "    ax2=plt.subplot(2,1,2)\n",
    "    \n",
    "    y2=np.array([conta_comment[i] for i in conta_comment.keys()])\n",
    "    tot2=sum(y2)\n",
    "    \n",
    "    ax2.title.set_text('Average number of comments on posts')\n",
    "    plt.bar(x,y2,tick_label=interval)\n",
    "    \n",
    "    plt.grid(axis = 'y',linestyle = '--', linewidth = 0.5)\n",
    "    plt.show()   "
   ]
  },
  {
   "cell_type": "code",
   "execution_count": null,
   "id": "43b0b2f4",
   "metadata": {
    "id": "39afb448",
    "outputId": "4b460a83-e849-4651-bcda-895289b8ec3e"
   },
   "outputs": [
    {
     "name": "stderr",
     "output_type": "stream",
     "text": [
      "0it [00:00, ?it/s]"
     ]
    }
   ],
   "source": [
    "interval=[\"06:00:00-10:59:59\",\"11:00:00-13:59:59\",\"14:00:00-16:59:59\",\"17:00:00-19:59:59\",\"20:00:00-23:59:59\",\"00:00:00-02:59:59\",\"03:00:00-05:59:59\"]\n",
    "time_interval(interval)"
   ]
  },
  {
   "cell_type": "markdown",
   "id": "206eb7d2",
   "metadata": {
    "id": "c1e4ebc4"
   },
   "source": [
    "# RQ7"
   ]
  },
  {
   "cell_type": "markdown",
   "id": "e62f942c",
   "metadata": {
    "id": "fb17916c"
   },
   "source": [
    "## RQ7.1\n",
    "What's the probability that a post receives more than 20% \"likes\" of the number of followers a user has?"
   ]
  },
  {
   "cell_type": "markdown",
   "id": "fd0b7a43",
   "metadata": {
    "id": "67a3540b"
   },
   "source": [
    "We will find the probability in an empirical way.\n",
    "We will find all the positive case (post receives more than 20% \"likes\" of the number of followers that the user has) and divide them by the total."
   ]
  },
  {
   "cell_type": "code",
   "execution_count": null,
   "id": "dd87eb5e",
   "metadata": {
    "id": "c05e0332"
   },
   "outputs": [],
   "source": [
    "#Import the profile dataset \n",
    "prof=pd.read_csv(\"~/instagram_profiles.csv\",usecols=[\"profile_id\",\"followers\"],delimiter=\"\\t\")\n",
    "prof=prof.dropna() #NA are dropped"
   ]
  },
  {
   "cell_type": "code",
   "execution_count": null,
   "id": "472e809a",
   "metadata": {
    "id": "81c60025",
    "outputId": "9b927502-7673-4485-e4a3-8f78e4ccb216"
   },
   "outputs": [
    {
     "name": "stderr",
     "output_type": "stream",
     "text": [
      "86it [03:30,  2.44s/it]\n"
     ]
    }
   ],
   "source": [
    "#Import the posts dataset without NA\n",
    "df=pd.DataFrame(columns=[\"profile_id\",\"numbr_likes\"])\n",
    "for chunk in tqdm(pd.read_csv(\"~/instagram_posts.csv\",chunksize=500000,usecols=[\"profile_id\",\"numbr_likes\"], delimiter=\"\\t\")):\n",
    "        df=pd.concat([df,chunk.dropna()])"
   ]
  },
  {
   "cell_type": "code",
   "execution_count": null,
   "id": "7cc6e603",
   "metadata": {
    "id": "4e360679",
    "outputId": "94f994b6-2334-4516-99b8-4b4e67101008"
   },
   "outputs": [
    {
     "data": {
      "text/plain": [
       "(40126905, 2)"
      ]
     },
     "execution_count": 8,
     "metadata": {},
     "output_type": "execute_result"
    }
   ],
   "source": [
    "df.to_csv(\"~/SageMaker/dataSQ71.csv\") #we store it in order to avoid loss of data when AWS notebook will be shutted down\n",
    "df.shape"
   ]
  },
  {
   "cell_type": "code",
   "execution_count": null,
   "id": "5cafa701",
   "metadata": {
    "id": "dafe9743",
    "outputId": "e6cb71dd-adfe-41bf-e663-6c0775d031dd"
   },
   "outputs": [
    {
     "name": "stderr",
     "output_type": "stream",
     "text": [
      "81it [05:11,  3.84s/it]\n"
     ]
    }
   ],
   "source": [
    "#Merge the two datasets in order to create a new one that contain for each post : the number of likes, the number of followers of the account that made the post.\n",
    "mergedf=pd.DataFrame(columns=[\"profile_id\",\"followers\",\"numbr_likes\"])\n",
    "for chunk in tqdm(pd.read_csv(\"~/SageMaker/dataSQ71.csv\",usecols=[\"profile_id\",\"numbr_likes\"],chunksize=500000)):\n",
    "    mergedf=pd.concat([mergedf,pd.merge(prof,chunk,on=\"profile_id\")])   "
   ]
  },
  {
   "cell_type": "code",
   "execution_count": null,
   "id": "82942da4",
   "metadata": {
    "id": "a8312bdd",
    "outputId": "06d8f834-3352-4109-b60c-c559eb451b18"
   },
   "outputs": [
    {
     "data": {
      "text/plain": [
       "(24708644, 3)"
      ]
     },
     "execution_count": 11,
     "metadata": {},
     "output_type": "execute_result"
    }
   ],
   "source": [
    "mergedf.to_csv(\"~/SageMaker/dataSQ71LS.csv\") #LS stand for last step,we store it in order to avoid loss of data when AWS notebook will be shutted down\n",
    "mergedf.shape"
   ]
  },
  {
   "cell_type": "code",
   "execution_count": null,
   "id": "4bb313dc",
   "metadata": {
    "id": "6cab3116",
    "outputId": "d4093fa0-b970-44e4-dca3-c5153660342b"
   },
   "outputs": [
    {
     "data": {
      "text/html": [
       "<div>\n",
       "<style scoped>\n",
       "    .dataframe tbody tr th:only-of-type {\n",
       "        vertical-align: middle;\n",
       "    }\n",
       "\n",
       "    .dataframe tbody tr th {\n",
       "        vertical-align: top;\n",
       "    }\n",
       "\n",
       "    .dataframe thead th {\n",
       "        text-align: right;\n",
       "    }\n",
       "</style>\n",
       "<table border=\"1\" class=\"dataframe\">\n",
       "  <thead>\n",
       "    <tr style=\"text-align: right;\">\n",
       "      <th></th>\n",
       "      <th>profile_id</th>\n",
       "      <th>followers</th>\n",
       "      <th>numbr_likes</th>\n",
       "    </tr>\n",
       "  </thead>\n",
       "  <tbody>\n",
       "    <tr>\n",
       "      <th>0</th>\n",
       "      <td>4.696703e+06</td>\n",
       "      <td>17403.0</td>\n",
       "      <td>468</td>\n",
       "    </tr>\n",
       "    <tr>\n",
       "      <th>1</th>\n",
       "      <td>3.079030e+07</td>\n",
       "      <td>3290.0</td>\n",
       "      <td>161</td>\n",
       "    </tr>\n",
       "    <tr>\n",
       "      <th>2</th>\n",
       "      <td>6.018117e+09</td>\n",
       "      <td>214.0</td>\n",
       "      <td>25</td>\n",
       "    </tr>\n",
       "    <tr>\n",
       "      <th>3</th>\n",
       "      <td>6.093878e+09</td>\n",
       "      <td>268.0</td>\n",
       "      <td>7</td>\n",
       "    </tr>\n",
       "    <tr>\n",
       "      <th>4</th>\n",
       "      <td>2.259229e+08</td>\n",
       "      <td>1306.0</td>\n",
       "      <td>70</td>\n",
       "    </tr>\n",
       "  </tbody>\n",
       "</table>\n",
       "</div>"
      ],
      "text/plain": [
       "     profile_id  followers numbr_likes\n",
       "0  4.696703e+06    17403.0         468\n",
       "1  3.079030e+07     3290.0         161\n",
       "2  6.018117e+09      214.0          25\n",
       "3  6.093878e+09      268.0           7\n",
       "4  2.259229e+08     1306.0          70"
      ]
     },
     "execution_count": 12,
     "metadata": {},
     "output_type": "execute_result"
    }
   ],
   "source": [
    "#Now we have a dataset that have : for each post the number of likes, the number of followers of the account that made the post.\n",
    "mergedf.head(5)"
   ]
  },
  {
   "cell_type": "code",
   "execution_count": null,
   "id": "b00ce8d4",
   "metadata": {
    "id": "219665c2",
    "outputId": "db83be32-4c8e-4897-e3ba-88cb6418a092"
   },
   "outputs": [
    {
     "name": "stdout",
     "output_type": "stream",
     "text": [
      "The probability that a post receives more than 20% 'likes' of the number of followers a user has is : 16.0 %\n"
     ]
    }
   ],
   "source": [
    "casi_favorevoli = mergedf[mergedf['numbr_likes'] > mergedf[\"followers\"]/5]\n",
    "print(\"The probability that a post receives more than 20% 'likes' of the number of followers a user has is :\",round(casi_favorevoli.shape[0]/mergedf.shape[0],2)*100,\"%\")"
   ]
  },
  {
   "cell_type": "markdown",
   "id": "c694f728",
   "metadata": {
    "id": "8aec1026"
   },
   "source": [
    "## RQ7.2\n",
    "Do users usually return to locations? Extract the probability that a user returns to a site after having posted it in the past. Does that probability make sense to you? Explain why or why not."
   ]
  },
  {
   "cell_type": "code",
   "execution_count": null,
   "id": "3ef0daa5",
   "metadata": {
    "id": "37915814"
   },
   "outputs": [],
   "source": []
  },
  {
   "cell_type": "markdown",
   "id": "63f16b4c",
   "metadata": {
    "id": "0e082bc5"
   },
   "source": [
    "# RQ8"
   ]
  },
  {
   "cell_type": "markdown",
   "id": "5e0b0518",
   "metadata": {
    "id": "978a11be"
   },
   "source": [
    "## RQ8.1 \n",
    "Does more “likes” also mean more comments? Plot a scatter plot of “likes” vs comments for posts"
   ]
  },
  {
   "cell_type": "code",
   "execution_count": null,
   "id": "54b11e31",
   "metadata": {
    "id": "40caea85",
    "outputId": "68c4090b-e246-4b57-a8dc-d3044684f7c8"
   },
   "outputs": [
    {
     "name": "stderr",
     "output_type": "stream",
     "text": [
      "86it [01:43,  1.20s/it]\n"
     ]
    },
    {
     "data": {
      "image/png": "[encoded data removed]",
      "text/plain": [
       "<Figure size 1080x720 with 1 Axes>"
      ]
     },
     "metadata": {
      "needs_background": "light"
     },
     "output_type": "display_data"
    }
   ],
   "source": [
    "n_likes = np.array([]) #array in which we'll put all the element of the variable numbr_likes\n",
    "n_comments = np.array([]) #array in which we'll put all the element of the variable number_comments\n",
    "\n",
    "for chunk in tqdm(pd.read_csv(\"~/instagram_posts.csv\",usecols=[\"numbr_likes\",\"number_comments\"],chunksize=500000, delimiter=\"\\t\")):\n",
    "    chunk.dropna(inplace=True) \n",
    "    n_likes = np.concatenate((n_likes,np.array(chunk.numbr_likes.tolist())),axis=None)\n",
    "    n_comments = np.concatenate((n_comments,np.array(chunk.number_comments.tolist())),axis=None)\n",
    "    \n",
    "plt.figure(figsize=(15,10))\n",
    "plt.ticklabel_format(style = 'plain')\n",
    "plt.scatter(n_likes,n_comments,alpha=0.5)\n",
    "plt.show()"
   ]
  },
  {
   "cell_type": "markdown",
   "id": "58a6c7f0",
   "metadata": {
    "id": "749a3a18"
   },
   "source": [
    "As we can see from the scatter plot we can't say that more likes mean more comments because there isn't a linear relationship between the number of likes and comments."
   ]
  },
  {
   "cell_type": "markdown",
   "id": "8052f9aa",
   "metadata": {
    "id": "bc32ce63"
   },
   "source": [
    "## RQ8.2 \n",
    "Can you find any significant relationship between the time a user publishes a post and the number of comments and “likes”? "
   ]
  },
  {
   "cell_type": "markdown",
   "id": "cd008911",
   "metadata": {},
   "source": [
    "First of all we've written a code that for every hour of the day print the average of likes and comments received by posts published in that hour."
   ]
  },
  {
   "cell_type": "code",
   "execution_count": 3,
   "id": "dfa14c16",
   "metadata": {},
   "outputs": [],
   "source": [
    "#first we read from the dataset instagram_posts just 3 columns: 'cts', 'numbr_likes' and 'number_comments'\n",
    "post = pd.read_csv(\"~/instagram_posts.csv\",usecols=[\"cts\",\"numbr_likes\",\"number_comments\"], delimiter=\"\\t\")\n",
    "\n",
    "\n",
    "\n",
    "post.dropna(inplace = True) #Then we drop the NaN values\n",
    "post.cts = pd.to_datetime(post.cts)\n",
    "post.cts = post.cts.dt.time"
   ]
  },
  {
   "cell_type": "code",
   "execution_count": 5,
   "id": "225edd9a",
   "metadata": {
    "id": "af94361a"
   },
   "outputs": [
    {
     "data": {
      "image/png": "[encoded data removed]",
      "text/plain": [
       "<Figure size 960x320 with 1 Axes>"
      ]
     },
     "metadata": {
      "needs_background": "light"
     },
     "output_type": "display_data"
    },
    {
     "data": {
      "image/png": "[encoded data removed]",
      "text/plain": [
       "<Figure size 960x320 with 1 Axes>"
      ]
     },
     "metadata": {
      "needs_background": "light"
     },
     "output_type": "display_data"
    }
   ],
   "source": [
    "interval = np.array(['00','01','02','03','04','05','06','07','08','09','10','11','12','13','14','15','16','17','18','19','20','21','22','23'])\n",
    "conta_likes = np.zeros(len(interval)) # each value corresponds to the sum of all likes received by the posts published in a specific hour\n",
    "conta_comments = np.zeros(len(interval)) # each value corresponds to the sum of all comments received by the posts published in a specific hour\n",
    "how_many = np.zeros(len(interval)) # for counting how many likes/comments there are for all the posts published in a specific hour\n",
    "\n",
    "for i in range(post.shape[0]):\n",
    "    try:\n",
    "        hour = post.cts[i]\n",
    "        hour = hour.strftime('%H:%M:%S')\n",
    "        hour = hour[0]+hour[1] #for every post, hour contains only the hour in which it was published\n",
    "        if hour in interval:\n",
    "            conta_likes[np.where(interval == hour)] += post.numbr_likes[i] \n",
    "            conta_comments[np.where(interval == hour)] += post.number_comments[i]\n",
    "            how_many[np.where(interval == hour)] += 1\n",
    "        else:\n",
    "            continue\n",
    "    except:\n",
    "        pass  \n",
    "\n",
    "#for every hour i in interval, conta_likes[i] and conta_comments[i] contain the avarage of likes and comments received by posts\n",
    "#published in that hour\n",
    "for j in range(len(conta_likes)):\n",
    "    conta_likes[j]=conta_likes[j]/how_many[j] \n",
    "    conta_comments[j]=conta_comments[j]/how_many[j]\n",
    "\n",
    "figure(figsize=(12, 4), dpi=80)\n",
    "plt.ticklabel_format(style = 'plain')\n",
    "plt.title('Likes', color='black')\n",
    "plt.bar(interval,conta_likes,tick_label=interval)\n",
    "plt.show()\n",
    "figure(figsize=(12, 4), dpi=80)\n",
    "plt.title('Comments', color='black')\n",
    "plt.ticklabel_format(style = 'plain')\n",
    "plt.bar(interval,conta_comments,tick_label=interval)\n",
    "plt.show()"
   ]
  },
  {
   "cell_type": "markdown",
   "id": "44445443",
   "metadata": {},
   "source": [
    "As we can see from the bar plots, the hour in which posts published in that hour receive a greater amount of likes and comments is 18:00-19:00.   \n",
    "We can even notice that there aren't wide gaps between each hours for both likes and comments.  \n",
    "In order to see if there exists any linear relationship between the time a user publishes a post and the number of comments and likes it could be done a statistical test."
   ]
  },
  {
   "cell_type": "markdown",
   "id": "a7ec48e3",
   "metadata": {
    "id": "771365cd"
   },
   "source": [
    "## RQ8.3\n",
    "What’s the distribution of followers? Plot the empirical distribution of followers amongst all users and extract the mean, mode, and quantiles. Interpret those figures."
   ]
  },
  {
   "cell_type": "code",
   "execution_count": null,
   "id": "5bdeffc4",
   "metadata": {
    "id": "10d059da"
   },
   "outputs": [],
   "source": [
    "profiles.dropna(subset=[\"followers\"],inplace=True) #First we drop all the Nan values in the followers column"
   ]
  },
  {
   "cell_type": "code",
   "execution_count": null,
   "id": "2f13777c",
   "metadata": {
    "id": "9559a524",
    "outputId": "b0e0ed37-7d58-44eb-f3b5-2f6d10e6d1b7"
   },
   "outputs": [
    {
     "data": {
      "text/plain": [
       "count      3446893.00\n",
       "mean          4744.66\n",
       "std         194071.17\n",
       "min              0.00\n",
       "25%            159.00\n",
       "50%            406.00\n",
       "75%            974.00\n",
       "max      285457645.00\n",
       "Name: followers, dtype: object"
      ]
     },
     "execution_count": 7,
     "metadata": {},
     "output_type": "execute_result"
    }
   ],
   "source": [
    "#We can use the function describe to extract mean and quantiles (25%, 50%, 75%)\n",
    "profiles.followers.describe().apply(lambda x: '%.2f' % x)"
   ]
  },
  {
   "cell_type": "code",
   "execution_count": null,
   "id": "da5f30d1",
   "metadata": {
    "id": "919eb378",
    "outputId": "57f0a6cc-5a16-4e5c-c153-0a4fd57efeb3"
   },
   "outputs": [
    {
     "name": "stdout",
     "output_type": "stream",
     "text": [
      "0    0.0\n",
      "dtype: float64\n"
     ]
    }
   ],
   "source": [
    "#Then we can use the function mode() to extract the mode of the variable followers\n",
    "print(profiles.followers.mode())"
   ]
  },
  {
   "cell_type": "markdown",
   "id": "b7bd4f7d",
   "metadata": {
    "id": "188be263"
   },
   "source": [
    "We can now plot the distribution of the variable followers:"
   ]
  },
  {
   "cell_type": "code",
   "execution_count": null,
   "id": "ee4de7e9",
   "metadata": {
    "id": "1d051581",
    "outputId": "f499c1e5-1db9-4dd7-d19e-d65cb986776b"
   },
   "outputs": [
    {
     "data": {
      "image/png": "[encoded data removed]",
      "text/plain": [
       "<Figure size 720x360 with 1 Axes>"
      ]
     },
     "metadata": {
      "needs_background": "light"
     },
     "output_type": "display_data"
    }
   ],
   "source": [
    "bin_values = np.arange(start=0, stop=profiles.followers.max()+10000000, step=10000000) #it creates the bins range, starting from 0 to the maximum \n",
    "#value of followers + 10000000 with a step of 10000000\n",
    "plt.title('Distribution of followers', color='black')\n",
    "plt.ticklabel_format(style = 'plain') #in order to avoid scientific notation in the labels\n",
    "plt.yscale(\"log\") # we've set a logarithmic scale along the axis y in order to have a more readable output\n",
    "plt.xlabel('number of followers')\n",
    "profiles['followers'].hist(bins=bin_values, figsize=[10,5]) \n",
    "plt.show()"
   ]
  },
  {
   "cell_type": "markdown",
   "id": "126790ab",
   "metadata": {
    "id": "3997d803"
   },
   "source": [
    "As we can see in the plot most of the users have a number of followers between 0 and 10000000. We can even notice that only two users have a number of followers greater than 50000000.   \n",
    "Now we print the distribution of followers between the first and third quantiles (159, 406):"
   ]
  },
  {
   "cell_type": "code",
   "execution_count": null,
   "id": "47ea4485",
   "metadata": {
    "id": "ef242fb6",
    "outputId": "b6de42bf-74a8-405b-c21f-301c04812a57"
   },
   "outputs": [
    {
     "data": {
      "image/png": "[encoded data removed]",
      "text/plain": [
       "<Figure size 720x360 with 1 Axes>"
      ]
     },
     "metadata": {
      "needs_background": "light"
     },
     "output_type": "display_data"
    }
   ],
   "source": [
    "bin_values1 = np.arange(start=159, stop=406, step=10)\n",
    "plt.title('Distribution of followers between first and third quantiles', color='black')\n",
    "plt.ticklabel_format(style = 'plain') #in order to avoid scientific notation in the labels\n",
    "profiles['followers'].hist(bins=bin_values1, figsize=[10,5])\n",
    "plt.xlabel('number of followers')\n",
    "plt.show()"
   ]
  },
  {
   "cell_type": "markdown",
   "id": "4cf9816a",
   "metadata": {
    "id": "e8fd4321"
   },
   "source": [
    "Then we plot the empirical distribution of followers amongst all users.  \n",
    "Even in this case, in order to have a more readable output, we've used the logarithmic scale but this time along the axis x."
   ]
  },
  {
   "cell_type": "code",
   "execution_count": null,
   "id": "3fd4b347",
   "metadata": {
    "id": "32da5d53",
    "outputId": "6dddd0d2-5568-4393-92b0-4bd85cfe0fc2"
   },
   "outputs": [
    {
     "data": {
      "image/png": "[encoded data removed]",
      "text/plain": [
       "<Figure size 1080x504 with 1 Axes>"
      ]
     },
     "metadata": {
      "needs_background": "light"
     },
     "output_type": "display_data"
    }
   ],
   "source": [
    "import warnings\n",
    "warnings.filterwarnings(\"ignore\")\n",
    "\n",
    "profiles=pd.DataFrame(profiles.followers)\n",
    "plt.figure(figsize=(15,7))\n",
    "seaborn.ecdfplot(profiles,log_scale=True) \n",
    "plt.ylim(0, 1.5)\n",
    "plt.xlabel('number of followers')\n",
    "plt.ylabel('empirical distribution')\n",
    "plt.show()"
   ]
  },
  {
   "cell_type": "markdown",
   "id": "8ccd4e5c",
   "metadata": {
    "id": "127e29d1"
   },
   "source": [
    "## RQ8.4\n",
    "What are histograms, bar plots, scatterplots and pie charts used for?"
   ]
  },
  {
   "cell_type": "markdown",
   "id": "30501e0f",
   "metadata": {
    "id": "7208a2d2"
   },
   "source": [
    "First of all they all are graphic tools, used to visualize the distribution data.\n",
    "\n",
    "Histograms for example can be used to plot the distribution of a data, as seen before with the distribution of followers.\n",
    "\n",
    "Bar plots are not so different from histograms. The main difference is that in bar plots there is a space between every rectangle and so is more used for rapresent \"categories\". We've seen this tool in RQ3 plotting the amount of posts published in different time intervals.\n",
    "\n",
    "Scatterplots can be used to see if there are any correlation between two observed data, as seen before with likes and comments.\n",
    "\n",
    "Pie charts are a good graphical tool to show the frequency of the types that a variable can assume.\n",
    "\n"
   ]
  },
  {
   "cell_type": "markdown",
   "id": "a38a5118",
   "metadata": {
    "id": "030f3d9e"
   },
   "source": [
    "## RQ8.5\n",
    "What insights can you extract from a Box Plot?"
   ]
  },
  {
   "cell_type": "markdown",
   "id": "a1e19388",
   "metadata": {
    "id": "889fe5f3"
   },
   "source": [
    "From a Box Plot  we can exctract different insights such as the minimum value, the maximum value, the mean, first and third quartiles and we can even graphicaly see if the variable  contains outliers.\n",
    "\n"
   ]
  },
  {
   "cell_type": "markdown",
   "id": "c8d4dd93",
   "metadata": {
    "id": "fd2cf13f"
   },
   "source": [
    "# Bonus points"
   ]
  },
  {
   "cell_type": "markdown",
   "id": "26d9ad2a",
   "metadata": {
    "id": "7f7ee050"
   },
   "source": [
    "## a\n",
    "Sort the users in terms of number of followers and divide them into two groups: for the first group, take only the top 10% regarding \"followers\", and for the second one, take the rest. Now compare the mean of time intervals between posts for the two categories. Do you notice something relevant?"
   ]
  },
  {
   "cell_type": "code",
   "execution_count": 14,
   "id": "0eca141e",
   "metadata": {
    "id": "c69bc140",
    "outputId": "e46ab8b3-88d6-4f84-f844-fa8ed1835ed9"
   },
   "outputs": [
    {
     "name": "stderr",
     "output_type": "stream",
     "text": [
      "81it [05:49,  4.31s/it]\n",
      "100%|██████████| 450958/450958 [04:05<00:00, 1840.06it/s]\n"
     ]
    },
    {
     "name": "stdout",
     "output_type": "stream",
     "text": [
      "Average time between posts for top 10% users :  62 days 23:32:47.649579111\n"
     ]
    },
    {
     "name": "stderr",
     "output_type": "stream",
     "text": [
      "100%|██████████| 4058628/4058628 [17:55<00:00, 3771.97it/s]  \n"
     ]
    },
    {
     "name": "stdout",
     "output_type": "stream",
     "text": [
      "Average time between posts in the rest :  34 days 01:40:51.783595032\n"
     ]
    }
   ],
   "source": [
    "# get all the deltas between each consecutive times in a liste of times\n",
    "# input : list of cts\n",
    "# output : list of all deltas\n",
    "def getDeltas(times) :\n",
    "    deltas = []\n",
    "    for i in range (0, len(times)-1) :\n",
    "        time1 = datetime.strptime(times[i], format)\n",
    "        time2 = datetime.strptime(times[i+1], format)\n",
    "        time_delta = abs(time2-time1)\n",
    "        deltas.append(time_delta)\n",
    "    return deltas\n",
    "\n",
    "profiles_sort_by_followers = profiles.sort_values(by=['followers'], ascending=False)\n",
    "high_followers = profiles_sort_by_followers.iloc[:int(0.1*profiles_sort_by_followers.shape[0])]\n",
    "low_followers = profiles_sort_by_followers.iloc[int(0.1*profiles_sort_by_followers.shape[0]):]\n",
    "\n",
    "#Merge the two datasets in order to create a new one that contains only the posts of the users in instagram_profiles.csv\n",
    "merge_cts_df=pd.DataFrame(columns=[\"profile_id\",\"cts\"])\n",
    "profiles_id = pd.read_csv(\"~/instagram_profiles.csv\", usecols=['profile_id'], delimiter=\"\\t\")\n",
    "for chunk in tqdm(pd.read_csv(\"~/instagram_posts_cts.csv\",chunksize=500000)):\n",
    "    merge_cts_df=pd.concat([merge_cts_df,pd.merge(profiles_id,chunk,on=\"profile_id\")])   \n",
    "    \n",
    "\n",
    "cts = merge_cts_df.dropna()\n",
    "\n",
    "cts_groupby_profile = cts.groupby(by='profile_id')\n",
    "\n",
    "profileIds = cts_groupby_profile.indices.keys()\n",
    "min_posts = 2\n",
    "format = \"%Y-%m-%d %H:%M:%S.%f\"\n",
    "profilesIds = list(profiles.profile_id)\n",
    "\n",
    "deltas_high = []\n",
    "# we get all the deltas between each consecutive posts of the profile with high_followers\n",
    "for profileId in tqdm(list(high_followers['profile_id'])) :\n",
    "    try :\n",
    "        times = cts_groupby_profile.get_group(profileId)\n",
    "    except :\n",
    "        continue\n",
    "    times = list(times.cts.drop_duplicates())\n",
    "    if len(times) > min_posts :\n",
    "        deltas_high += getDeltas(times)\n",
    "average_high = pd.to_timedelta(pd.Series(deltas_high)).mean()\n",
    "\n",
    "print(\"Average time between posts for top 10% users : \",average_high)\n",
    "\n",
    "deltas_low = []\n",
    "# we get all the deltas between each consecutive posts of the profile with low_followers\n",
    "for profileId in tqdm(list(low_followers['profile_id'])) :\n",
    "    try :\n",
    "        times = cts_groupby_profile.get_group(profileId)\n",
    "    except :\n",
    "        continue\n",
    "    times = list(times.cts.drop_duplicates())\n",
    "    if len(times) > min_posts :\n",
    "        deltas_low += getDeltas(times)\n",
    "average_low = pd.to_timedelta(pd.Series(deltas_low)).mean()\n",
    "\n",
    "print(\"Average time between posts in the rest : \",average_low)"
   ]
  },
  {
   "cell_type": "markdown",
   "id": "f27e8a9f",
   "metadata": {
    "id": "87e65087"
   },
   "source": [
    "We can see that users with the most followers have longest time intervals between their posts."
   ]
  },
  {
   "cell_type": "markdown",
   "id": "2dba10b4",
   "metadata": {
    "id": "91046a5a"
   },
   "source": [
    "So, posting frequently doesn't affect the number of followers."
   ]
  },
  {
   "cell_type": "markdown",
   "id": "98ea9948",
   "metadata": {
    "id": "96304c46"
   },
   "source": [
    "## b"
   ]
  },
  {
   "cell_type": "markdown",
   "id": "ec89058c",
   "metadata": {},
   "source": [
    "Assume users publish their posts the same day pictures or videos are taken: Are there users that have visited the same location on the same day? How about the same week? Extract the results and explain them."
   ]
  },
  {
   "cell_type": "code",
   "execution_count": 19,
   "id": "c084bded",
   "metadata": {},
   "outputs": [
    {
     "name": "stderr",
     "output_type": "stream",
     "text": [
      "86it [03:43,  2.59s/it]\n",
      "58it [03:55,  4.06s/it]\n",
      "28it [00:51,  1.85s/it]\n"
     ]
    }
   ],
   "source": [
    "# We want to get all the posts data that have a profile_id in instagram_profiles.csv and a location_id in instagram_locations.csv\n",
    "\n",
    "posts_locations_cts=pd.DataFrame(columns=[\"profile_id\",\"location_id\",\"cts\"])\n",
    "for chunk in tqdm(pd.read_csv(\"~\\instagram_posts.csv\",chunksize=500000,usecols=[\"profile_id\",\"location_id\",\"cts\"], delimiter=\"\\t\")):\n",
    "        posts_locations_cts=pd.concat([posts_locations_cts,chunk.dropna()])   \n",
    "posts_locations_cts.to_csv(\"C:/Users\\yharr\\OneDrive\\Bureau\\DataScience\\ADM\\homeworks\\ADM_Homework2/instagram_posts_locations_cts.csv\")\n",
    "\n",
    "#Merge the two datasets in order to create a new one that contain for each post : the profile_id, the cts.\n",
    "merge_cts_df=pd.DataFrame(columns=[\"profile_id\",\"location_id\",\"cts\"])\n",
    "profiles_id = pd.read_csv(\"C:/Users\\yharr\\OneDrive\\Bureau\\DataScience\\ADM\\homeworks\\ADM_Homework2\\instagram_profiles.csv\", usecols=['profile_id'], delimiter=\"\\t\")\n",
    "for chunk in tqdm(pd.read_csv(\"C:/Users\\yharr\\OneDrive\\Bureau\\DataScience\\ADM\\homeworks\\ADM_Homework2/instagram_posts_locations_cts.csv\",chunksize=500000)):\n",
    "    merge_cts_df=pd.concat([merge_cts_df,pd.merge(profiles_id,chunk,on=\"profile_id\")])\n",
    "merge_cts_df['location_id'] = merge_cts_df.location_id.apply(int)\n",
    "merge_cts_df.to_csv(\"C:/Users\\yharr\\OneDrive\\Bureau\\DataScience\\ADM\\homeworks\\ADM_Homework2/merge_cts_df.csv\")\n",
    "\n",
    "#Merge the two datasets in order to create a new one that contain for each post : the profile_id, the cts, the locations.\n",
    "profile_locations_cts=pd.DataFrame(columns=[\"profile_id\",\"location_id\",\"cts\"])\n",
    "locations_id = pd.read_csv(\"C:/Users\\yharr\\OneDrive\\Bureau\\DataScience\\ADM\\homeworks\\ADM_Homework2\\instagram_locations.csv\", usecols=['id'], delimiter=\"\\t\")\n",
    "locations_id = locations_id.rename(columns = {'id': 'location_id'})\n",
    "for chunk in tqdm(pd.read_csv(\"C:/Users\\yharr\\OneDrive\\Bureau\\DataScience\\ADM\\homeworks\\ADM_Homework2/merge_cts_df.csv\",chunksize=500000)):\n",
    "    profile_locations_cts=pd.concat([profile_locations_cts,pd.merge(locations_id,chunk,on=\"location_id\")])  "
   ]
  },
  {
   "cell_type": "code",
   "execution_count": 21,
   "id": "105f3e72",
   "metadata": {},
   "outputs": [
    {
     "name": "stderr",
     "output_type": "stream",
     "text": [
      "  0%|          | 53/11331493 [00:42<2528:16:00,  1.24it/s] \n"
     ]
    }
   ],
   "source": [
    "format = \"%Y-%m-%d %H:%M:%S.%f\"\n",
    "\n",
    "# Check if there is some cts in the same day\n",
    "# input : dataframe with a cts column\n",
    "# output : boolean\n",
    "def HasVisitsSameDay(cts) :\n",
    "    cts = pd.to_datetime(cts.cts)\n",
    "    times = list(cts)\n",
    "    times.sort()\n",
    "    for i in range (0,len(times)-1) :\n",
    "        time1 = times[i]\n",
    "        time2 = times[i+1]\n",
    "        if time1.month == time2.month and time1.year == time2.year and time1.day == time2.day :\n",
    "            return True\n",
    "    return False\n",
    "\n",
    "\n",
    "visits_same_day = 0\n",
    "\n",
    "cts_locations_groupby_profile = posts_locations_cts.groupby(by='profile_id')\n",
    "\n",
    "profileIds = cts_locations_groupby_profile.indices.keys()\n",
    "for profileId in tqdm(profileIds) :\n",
    "    # We get the data for each profiles\n",
    "    cts_locations = cts_locations_groupby_profile.get_group(profileId)\n",
    "    cts = cts_locations.groupby(by='location_id')\n",
    "    locations = cts.indices.keys()\n",
    "    for location in locations :\n",
    "        # We get the cts for each profiles and locations\n",
    "        try :\n",
    "            cts = cts.get_group(location)\n",
    "            if HasVisitsSameDay(cts) :\n",
    "                visits_same_day += 1\n",
    "        except :\n",
    "            pass\n",
    "    if visits_same_day > 0 :\n",
    "        break\n",
    "      \n",
    "print(\"Number of users that have visited the same location on the same day : \",visits_same_day)    "
   ]
  },
  {
   "cell_type": "markdown",
   "id": "6f7be5d5",
   "metadata": {},
   "source": [
    "To get this result on the same week, we just need to change the test on the HasVisitsSameDay function."
   ]
  },
  {
   "cell_type": "markdown",
   "id": "06731dae",
   "metadata": {},
   "source": [
    "## c"
   ]
  },
  {
   "cell_type": "markdown",
   "id": "2ff8c53c",
   "metadata": {},
   "source": [
    "Implement a text data analysis (also known as text mining) of the field \"description\" from instagram_posts.csv for descriptions written in English. Use appropriate visualizations and statistics to highlight the words (and probably the topics) provided for the users in that field."
   ]
  },
  {
   "cell_type": "code",
   "execution_count": 27,
   "id": "33fce5a8",
   "metadata": {},
   "outputs": [
    {
     "name": "stderr",
     "output_type": "stream",
     "text": [
      "[nltk_data] Downloading package stopwords to\n",
      "[nltk_data]     C:\\Users\\yharr\\AppData\\Roaming\\nltk_data...\n",
      "[nltk_data]   Package stopwords is already up-to-date!\n"
     ]
    }
   ],
   "source": [
    "import nltk\n",
    "import re\n",
    "\n",
    "nltk.download('stopwords')\n",
    "stopwords = nltk.corpus.stopwords.words('english')\n",
    "stemmers = nltk.stem.SnowballStemmer('english')\n",
    "\n",
    "def remove_punctuations(comment) :\n",
    "    comment = re.sub(r'[? | ! | \\' |\" | #]','',comment)\n",
    "    comment = re.sub(r'[. | , | ) | ( | \\ | / ]','',comment)\n",
    "    return comment\n",
    "\n"
   ]
  },
  {
   "cell_type": "code",
   "execution_count": null,
   "id": "fe4d42f3",
   "metadata": {},
   "outputs": [],
   "source": [
    "posts_descriptions=pd.DataFrame(columns=[\"description\"])\n",
    "for chunk in tqdm(pd.read_csv(\"~\\instagram_posts.csv\",chunksize=500000,usecols=[\"description\"], delimiter=\"\\t\")):\n",
    "        posts_descriptions=pd.concat([posts_descriptions,chunk.dropna()]) "
   ]
  },
  {
   "cell_type": "code",
   "execution_count": null,
   "id": "ed7a9f9b",
   "metadata": {},
   "outputs": [],
   "source": [
    "docs = []\n",
    "words = []\n",
    "\n",
    "for comment in posts_descriptions['description'].values :\n",
    "    filtered_doc = []\n",
    "    for word in comment.split() :\n",
    "        # We remove the puncuations\n",
    "        for clean_word in remove_punctuations(word).split() :\n",
    "            # We check if we have only alpha characters and if the word has at least a len of 3\n",
    "            if clean_word.isalpha() and len(clean_word) > 2 :\n",
    "                # We check if it's not a stopword\n",
    "                if clean_word.lower() not in stop_words :\n",
    "                    # We apply the stemmatization\n",
    "                    stemmed_word = stemmers.stem(clean_word.lower()).encode('utf8')\n",
    "                    filtered_doc.append(stemmed_word)\n",
    "                    words.append(stemmed_word)\n",
    "                else :\n",
    "                    continue\n",
    "            else :\n",
    "                continue\n",
    "    docs.append(b\" \".join(filtered_sentence))\n",
    "            "
   ]
  },
  {
   "cell_type": "code",
   "execution_count": null,
   "id": "d2714b63",
   "metadata": {},
   "outputs": [],
   "source": [
    "from sklearn.feature_extraction.text import TfidfVectorizer\n",
    "\n",
    "# The text-preprocessing is done\n",
    "# Now we use the tf-idf method to do a text data analysis\n",
    "vectorizer = TfidfVectorizer() \n",
    "vectors = vectorizer.fit_transform(docs)"
   ]
  },
  {
   "cell_type": "code",
   "execution_count": null,
   "id": "1de09f53",
   "metadata": {},
   "outputs": [],
   "source": [
    "from collections import Counter\n",
    "from wordcloud import WordCloud\n",
    "import matplotlib.pyplot as plt\n",
    "\n",
    "# Visualization of the words and their frequency of occurence\n",
    "wordcloud_words = WordCloud(background_color = 'white').generate(' '.join(words))\n",
    "plt.imshow(wordcloud_words, interpolation='bilinear')\n",
    "plt.axis(\"off\")\n",
    "plt.margins(x=0, y=0)\n",
    "plt.show()"
   ]
  },
  {
   "cell_type": "code",
   "execution_count": null,
   "id": "6922d24a",
   "metadata": {},
   "outputs": [],
   "source": []
  },
  {
   "cell_type": "markdown",
   "id": "0979a24a",
   "metadata": {
    "id": "f824710b"
   },
   "source": [
    "# Command Line Question\n",
    "Using the instagram_posts.csv, retrieve the first ten posts with descriptions longer than 100 characters and output the profiles that posted them. (Please keep in mind that the profile associated with some of those posts may not be found in the profiles. You can simply output User was not found! for those posts.)"
   ]
  },
  {
   "cell_type": "markdown",
   "id": "40e5593a",
   "metadata": {
    "id": "7756ddf3"
   },
   "source": [
    "## Double check\n",
    "In order to confirm the result that we obtain with the _Commandline.sh_ we do the same thing using python."
   ]
  },
  {
   "cell_type": "code",
   "execution_count": null,
   "id": "36f94857",
   "metadata": {
    "id": "0aea2e2a"
   },
   "outputs": [],
   "source": [
    "#Import dataset\n",
    "posts=pd.read_csv(\"~/instagram_posts.csv\",nrows=5000, delimiter=\"\\t\")"
   ]
  },
  {
   "cell_type": "code",
   "execution_count": null,
   "id": "3bddbca9",
   "metadata": {
    "id": "0636a024"
   },
   "outputs": [],
   "source": [
    "#Taking the first 10 posts that have description longer than 100.\n",
    "id_profile=[]\n",
    "j=0\n",
    "for i in range(0,len(posts)):\n",
    "    if len(posts.description[i]) > 100:\n",
    "        id_profile.append(posts.profile_id[i])\n",
    "        j +=1\n",
    "    if j ==10:\n",
    "        break"
   ]
  },
  {
   "cell_type": "markdown",
   "id": "d1397d68",
   "metadata": {
    "id": "17f98e6b"
   },
   "source": [
    "### First check\n",
    "Checking if the first 10 users that have wrote posts with more than 100 characters are the same between the two methods."
   ]
  },
  {
   "cell_type": "code",
   "execution_count": null,
   "id": "40de7fdd",
   "metadata": {
    "id": "d923f038",
    "outputId": "87206079-36e7-4d42-d893-1f6d9bb99941"
   },
   "outputs": [
    {
     "data": {
      "text/plain": [
       "True"
      ]
     },
     "execution_count": 5,
     "metadata": {},
     "output_type": "execute_result"
    }
   ],
   "source": [
    "ten_profiles=pd.read_csv(\"~/ten_profiles.csv\",header=None,delimiter=\"\\t\")\n",
    "ten_profiles=ten_profiles.rename(columns={0:\"ID\"})\n",
    "list(ten_profiles.ID)\n",
    "id_profile==list(ten_profiles.ID) #The users are the same."
   ]
  },
  {
   "cell_type": "markdown",
   "id": "97df1ab6",
   "metadata": {
    "id": "199da1bf"
   },
   "source": [
    "### Second check"
   ]
  },
  {
   "cell_type": "code",
   "execution_count": null,
   "id": "68993007",
   "metadata": {
    "id": "fc29fd93",
    "outputId": "774e25e3-9cf9-48ea-f52b-00857cbaf0fe"
   },
   "outputs": [
    {
     "name": "stderr",
     "output_type": "stream",
     "text": [
      "100%|██████████| 4509586/4509586 [00:52<00:00, 85172.15it/s]\n"
     ]
    },
    {
     "data": {
      "text/html": [
       "<div>\n",
       "<style scoped>\n",
       "    .dataframe tbody tr th:only-of-type {\n",
       "        vertical-align: middle;\n",
       "    }\n",
       "\n",
       "    .dataframe tbody tr th {\n",
       "        vertical-align: top;\n",
       "    }\n",
       "\n",
       "    .dataframe thead th {\n",
       "        text-align: right;\n",
       "    }\n",
       "</style>\n",
       "<table border=\"1\" class=\"dataframe\">\n",
       "  <thead>\n",
       "    <tr style=\"text-align: right;\">\n",
       "      <th></th>\n",
       "      <th>sid</th>\n",
       "      <th>profile_id</th>\n",
       "      <th>profile_name</th>\n",
       "      <th>firstname_lastname</th>\n",
       "      <th>description</th>\n",
       "      <th>following</th>\n",
       "      <th>followers</th>\n",
       "      <th>n_posts</th>\n",
       "      <th>url</th>\n",
       "      <th>cts</th>\n",
       "      <th>is_business_account</th>\n",
       "    </tr>\n",
       "  </thead>\n",
       "  <tbody>\n",
       "    <tr>\n",
       "      <th>2736192</th>\n",
       "      <td>3406435</td>\n",
       "      <td>6.027751e+09</td>\n",
       "      <td>olga_lamilashes</td>\n",
       "      <td>Ламинирование Парнас Спб</td>\n",
       "      <td>👩🏼‍💼Ольга \\n🍀Ламинирование/ботокс/завивка ресн...</td>\n",
       "      <td>121.0</td>\n",
       "      <td>164.0</td>\n",
       "      <td>92.0</td>\n",
       "      <td>api.whatsapp.com/send?phone=79119121179</td>\n",
       "      <td>2019-05-08 08:56:53.986 -0400</td>\n",
       "      <td>True</td>\n",
       "    </tr>\n",
       "    <tr>\n",
       "      <th>3466466</th>\n",
       "      <td>3496776</td>\n",
       "      <td>2.237948e+09</td>\n",
       "      <td>andylund_</td>\n",
       "      <td>Andy Lund</td>\n",
       "      <td>Professional Bicycle technician, Intense Racin...</td>\n",
       "      <td>520.0</td>\n",
       "      <td>1204.0</td>\n",
       "      <td>494.0</td>\n",
       "      <td>www.deevalleybicycleworkshop.co.uk</td>\n",
       "      <td>2019-05-13 17:27:02.273 -0400</td>\n",
       "      <td>False</td>\n",
       "    </tr>\n",
       "  </tbody>\n",
       "</table>\n",
       "</div>"
      ],
      "text/plain": [
       "             sid    profile_id     profile_name        firstname_lastname  \\\n",
       "2736192  3406435  6.027751e+09  olga_lamilashes  Ламинирование Парнас Спб   \n",
       "3466466  3496776  2.237948e+09        andylund_                 Andy Lund   \n",
       "\n",
       "                                               description  following  \\\n",
       "2736192  👩🏼‍💼Ольга \\n🍀Ламинирование/ботокс/завивка ресн...      121.0   \n",
       "3466466  Professional Bicycle technician, Intense Racin...      520.0   \n",
       "\n",
       "         followers  n_posts                                      url  \\\n",
       "2736192      164.0     92.0  api.whatsapp.com/send?phone=79119121179   \n",
       "3466466     1204.0    494.0       www.deevalleybicycleworkshop.co.uk   \n",
       "\n",
       "                                   cts is_business_account  \n",
       "2736192  2019-05-08 08:56:53.986 -0400                True  \n",
       "3466466  2019-05-13 17:27:02.273 -0400               False  "
      ]
     },
     "execution_count": 6,
     "metadata": {},
     "output_type": "execute_result"
    }
   ],
   "source": [
    "df=pd.DataFrame(columns=list(profile.columns))\n",
    "for i in tqdm(range(0,len(profile))):\n",
    "    try:\n",
    "        if int(profiles.profile_id[i]) in id_profile:\n",
    "            df=pd.concat([df,profiles[profile.index==i]])\n",
    "    except:\n",
    "        pass\n",
    "\n",
    "df #The results are equal"
   ]
  },
  {
   "cell_type": "markdown",
   "id": "92471b14",
   "metadata": {
    "id": "4d61a010"
   },
   "source": [
    "# Algorithmic Question"
   ]
  },
  {
   "cell_type": "markdown",
   "id": "e0361a0b",
   "metadata": {
    "id": "15bf3a1c"
   },
   "source": [
    "## AQ1"
   ]
  },
  {
   "cell_type": "markdown",
   "id": "3e842e63",
   "metadata": {
    "id": "35a2359a"
   },
   "source": [
    "### PSEUDOCODE"
   ]
  },
  {
   "cell_type": "markdown",
   "id": "89814a6f",
   "metadata": {
    "id": "d3a2ffde"
   },
   "source": [
    "Considering as Input:\n",
    "- N : an integer \n",
    "- List : array of characters of length N without repetition"
   ]
  },
  {
   "cell_type": "markdown",
   "id": "65739f5d",
   "metadata": {
    "id": "1710e05b"
   },
   "source": [
    "We have to analize the following pseudocode:\n",
    "\n",
    "` ` ` \n",
    "a function f1(sequence, end): \n",
    "b   For i=0 To end:\n",
    "c        OUTPUT sequence[i]\n",
    "d    EndFor\n",
    "e    Output \"\\n\"\n",
    "1 function f2(sequence, start, end): \n",
    "2    If start = end: \n",
    "3        f1(sequence, end)\n",
    "4    Else\n",
    "5        For i=start To end: \n",
    "6            temp <-- sequence[start]\n",
    "7            sequence[start] <-- sequence[i]\n",
    "8            sequence[i] <-- temp\n",
    "9            f2(sequence, start+1, end)\n",
    "10            temp <-- sequence[start]\n",
    "11            sequence[start] <-- sequence[i]\n",
    "12            sequence[i] <-- temp\n",
    "13 f2(List, 0, N)\n",
    "` ` ` "
   ]
  },
  {
   "cell_type": "markdown",
   "id": "96f80ace",
   "metadata": {
    "id": "f48c3336"
   },
   "source": [
    "### DESCRIPTION"
   ]
  },
  {
   "cell_type": "markdown",
   "id": "86811ff9",
   "metadata": {
    "id": "2d2a4bc2"
   },
   "source": [
    "First of all in the pseudocode we have 2 functions, f1 and f2 that could be called inside f2 itself so we can assert that this is a recursive algorithm.\n",
    "\n",
    "The algorithm starts when we call the function f2 (*line 13*) passing it a List, 0 (that is the start index of the list) and N the length of the list.\n",
    "\n",
    "When we call f1 passing it a sequence and an index \"end\" for each element of the sequence, starting from index 0 to index \"end\", we print that element. So f1 prints the elements of the sequence in column since we can notice that *end* in all the pseudocode is always the same and it is N (the lenght of the List).\n",
    "\n",
    "Let's now analyse what f2 does:\n",
    "\n",
    "- *line 2*: first of all we check if *start* is equal to *end* and if it's True f2 calls f1 (*line 3*) passing it the sequence and *end* so tecnically if start=end we print the elements of the sequence;\n",
    "- *line 4*: if *start* is different from *end* we execute the block *lines 5-11* and as we can see in *line 5* it consists of a FOR LOOP;\n",
    "- *FOR LOOP*: the for loop starts from i=start and it ends when i=end and it consists of 7 lines of codes:\n",
    "   +  *lines 6-8*: in this 3 lines we exchange the elements of the sequence with indeces *i* and *start*. So everytime we execute for the first time the for loop, with this 3 lines we actually don't change anything in the sequence since i=start;\n",
    "   +  *line 9*: we call f2 itself passing it the sequence, as start index *start+1* and *end*;\n",
    "   +  *lines 10-12*: as in *lines 6-8*  we exchange the elements of the sequence with indeces *i* and *start*."
   ]
  },
  {
   "cell_type": "markdown",
   "id": "3f4fe753",
   "metadata": {
    "id": "38f78b74"
   },
   "source": [
    "Before showing an example we wanna do some considerations:\n",
    "- supposing that we have N>1 (so we have a List with more than 1 element) when we call for the first time f2 we have that start=0 and end=N so the if in *line 2* will give us a False and skip the *line 3*. Then we'll enter in the for loop with i=start and we can notice that before to actually change anything in the sequence we have to call f2 recursively as long as start is not equal to end. In that case first we print the list with f1 and then we'll come back to the function f2 in which start=end-1. At this point we'll execute for the first time *lines 10-12* that will not change anything but after that we'll execute the for loop with i=start+1 (so i=end, since we are inside f2 in which start=end-1) and we'll exchange the element with indeces *end* and *end-1*. Then again we'll call f1 with start=end and so with f1 we'll print the sequence with the last and the second-last elements exchanged. And then the algorithm goes on backwards.\n",
    "- as we'll show in an example later what actually this algorithm does is to print all the possible permutations of the elements in the List. In fact in every f2 call (with start index *start*) we don't change elements before the one with index *start* but we'll change all the other elements (calling recursively f2) in order to produce all the possible permutations of the elements with indeces *start-end* ."
   ]
  },
  {
   "cell_type": "markdown",
   "id": "e6321ee6",
   "metadata": {
    "id": "ecdb9afa"
   },
   "source": [
    "### EXAMPLE"
   ]
  },
  {
   "cell_type": "markdown",
   "id": "ff930569",
   "metadata": {
    "id": "b6e58e40"
   },
   "source": [
    "Let's now show an example with a List with just 3 elements. \n",
    "\n",
    "We consider as input:\n",
    "- List = [1,2,3]\n",
    "- N = 3\n",
    "\n",
    "To be brief we'll not comment every changes done to the List and:\n",
    "- we'll call start as **s** and everytime there is **s=...** that means that we're calling f2 with that **s**\n",
    "- everytime we make some changes at the list we'll write the list in italics\n",
    "- everything done in the same f2 call will be aligned in the same column \n",
    "- everytime we print the list with f1 we'll write the list in bold\n",
    "- we'll call the sequence as *l*\n",
    "\n",
    "\n",
    "The algotihm starts calling *f2* with *s=0*, *end=3* and *l=[1,2,3]*:\n",
    "\n",
    "- **s=0**\n",
    "- i=s=0 \n",
    "    - **s=1**\n",
    "    - i=s=1\n",
    "        - **s=2**\n",
    "        - i=s=2\n",
    "            - **s=3**\n",
    "            - f1 $->$ **[1,2,3]**\n",
    "    - i=2\n",
    "    - l[s=1]$<->$l[i=2] $\\Rightarrow$ *[1,3,2]*\n",
    "        - **s=2**\n",
    "        - i=s=2\n",
    "            - **s=3**\n",
    "            - f1 $->$ **[1,3,2]**\n",
    "    - l[s=1]$<->$l[i=2] $\\Rightarrow$ *[1,2,3]*\n",
    "    - $\\color{blue}{\\text{We can notice that the first element (it has index=0) is fixed since s=1 and we've computed the possible permutations of the second and third element}}$\n",
    "- i=1\n",
    "- l[s=0]$<->$l[i=1] $\\Rightarrow$ *[2,1,3]* $\\color{green}{\\text{Now we've changed the first element of the list with the one with index 1}}$\n",
    "    - **s=1**\n",
    "    - i=s=1\n",
    "        - **s=2**\n",
    "        - i=s=2\n",
    "            - **s=3**\n",
    "            - f1 $->$ **[2,1,3]**\n",
    "    - i=2\n",
    "    - l[s=1]$<->$l[i=2] $\\Rightarrow$ *[2,3,1]*\n",
    "        - **s=2**\n",
    "        - i=s=2\n",
    "            - **s=3**\n",
    "            - f1 $->$ **[2,3,1]**\n",
    "    - l[s=1]$<->$l[i=2] $\\Rightarrow$ *[2,1,3]*\n",
    "    - $\\color{blue}{\\text{As we can see, in the previous line we have the first element of the list fixed (but is different from the one fixed before) and we've computed again the possible permutations of the following elements}}$\n",
    "- l[s=0]$<->$l[i=1] $\\Rightarrow$ *[1,2,3]*\n",
    "- i=2\n",
    "- l[s=0]$<->$l[i=2] $\\Rightarrow$ *[3,2,1]* $\\color{green}{\\text{Now we've changed the first element of the list with the one with index 2}}$\n",
    "    - **s=1**\n",
    "    - i=s=1\n",
    "        - **s=2**\n",
    "        - i=s=2\n",
    "            - **s=3**\n",
    "            - f1 $->$ **[3,2,1]**\n",
    "    - i=2\n",
    "    - l[s=1]$<->$l[i=2] $\\Rightarrow$ *[3,1,2]*\n",
    "        - **s=2**\n",
    "        - i=s=2\n",
    "            - **s=3**\n",
    "            - f1 $->$ **[3,1,2]**\n",
    "    - l[s=1]$<->$l[i=2] $\\Rightarrow$ *[3,2,1]*\n",
    "    - $\\color{blue}{\\text{As we can see, in the previous line we have the first element of the list fixed (but is different from the two fixed before) and we've computed again the possible permutations of the following elements}}$\n",
    "- l[s=0]$<->$l[i=2] $\\Rightarrow$ *[1,2,3]*\n"
   ]
  },
  {
   "cell_type": "markdown",
   "id": "22b38573",
   "metadata": {
    "id": "b5fe7801"
   },
   "source": [
    "### BIG-O COMPLEXITY"
   ]
  },
  {
   "cell_type": "markdown",
   "id": "2797ad4a",
   "metadata": {
    "id": "470b4cd6"
   },
   "source": [
    "We can now compute big-O complexity of this algorithm as a function of N.\n",
    "\n",
    "Since when we call f2 we pass to it also the index start and then the for loop starts from that index , so tecnically everytime we call f2 we work just with a part of the list that has length N-start, we can think at N as the length of the list with which we work.\n",
    "\n",
    "We call f1 when N=0 and we print N (length of the original string) elements with the for loop.\n",
    "\n",
    "In f1 we execute N times the codes inside the for loop that has a cost of $c+T(N-1)$ where c is a constant and represents the cost of *lines 6-8, 10-12* and $T(N-1)$ represent the cost of f2 called with start+1.\n",
    "\n",
    "So we have that:\n",
    "\n",
    "$$ T(N)=\\begin{cases} N, & \\mbox{se N=0} \\\\ N(C+T(N-1)), & \\mbox{se N>0}\n",
    "\\end{cases} $$\n",
    "\n",
    "$ \\\\T(N)=N\\cdot(C+T(N-1))=N\\cdot(C+(N-1)\\cdot(C+T(N-2)))=\\\\\n",
    "\\\\=C\\cdot N+C\\cdot N\\cdot(N-1)+N\\cdot(N-1)\\cdot T(N-2)=\\\\\n",
    "\\\\=C\\cdot N+C\\cdot N\\cdot(N-1)+N\\cdot(N-1)\\cdot(N-2)\\cdot(C+T(N-3))=\\\\\n",
    "\\\\=C\\cdot N+C\\cdot N\\cdot(N-1)+C\\cdot N\\cdot(N-1)\\cdot(N-2)+N\\cdot(N-1)\\cdot(N-2)\\cdot T(N-3)=...\\\\ $\n",
    "\n",
    "This development ends when N-i=0 and in that case we have $T(0)=N$. Then we obtain:\n",
    "$T(N)=C\\cdot N+C\\cdot N\\cdot(N-1)+C\\cdot N\\cdot(N-1)\\cdot(N-2)+N\\cdot(N-1)\\cdot(N-2)\\cdot(N-3)+...+C\\cdot N!+C\\cdot N!\\cdot N$\n",
    "\n",
    "Since in the previous sum the greatest term is $ C\\cdot N!\\cdot N $ we can assert that the algorithm has a big-O complexity of $O(N\\cdot N!)$"
   ]
  },
  {
   "cell_type": "markdown",
   "id": "f4ca1083",
   "metadata": {
    "id": "3797aebc"
   },
   "source": [
    "### IS THIS ALGORITHM THE OPTIMAL ONE TO PRODUCE THIS OUTPUT?"
   ]
  },
  {
   "cell_type": "markdown",
   "id": "5324d668",
   "metadata": {
    "id": "162ad977"
   },
   "source": [
    "If we want the exactly same output, we think that there isn't a better algorithm in term of big-O complexity.  \n",
    "In fact, since we wanna compute all the possible permutations of $N$ elements we have to take at least $N!$ changes to the list and given the fact that for every permutation we wanna print all the elements of the list with a for loop we have that the big-O complexity should be at least $O(N\\cdot N!$)."
   ]
  },
  {
   "cell_type": "markdown",
   "id": "4a6c647c",
   "metadata": {
    "id": "4498386c"
   },
   "source": [
    "## AQ2"
   ]
  },
  {
   "cell_type": "markdown",
   "id": "2a0640ae",
   "metadata": {
    "id": "4f1f67d0"
   },
   "source": [
    "### Recursive algorithm :"
   ]
  },
  {
   "cell_type": "code",
   "execution_count": null,
   "id": "f30cdb90",
   "metadata": {
    "colab": {
     "base_uri": "https://localhost:8080/"
    },
    "id": "d6b56f8e",
    "outputId": "58f589d6-7901-463d-cc38-0b9663233648"
   },
   "outputs": [
    {
     "data": {
      "text/plain": [
       "18"
      ]
     },
     "execution_count": 1,
     "metadata": {},
     "output_type": "execute_result"
    }
   ],
   "source": [
    "def RecursiveRibbon(N) :\n",
    "    # In the cases N=1 and N=0, we can't cut the ribbon, so the ouput is 0\n",
    "    if N == 1 or N == 0 :\n",
    "        return 0\n",
    "    maxproduct = 0\n",
    "    # we try to compute the maxproduct, for each spot where we can cut the ribbon\n",
    "    # For example, if we cut on k (<N), to get the max product we need to compare :\n",
    "    # the previous maxproduct computed,\n",
    "    # the product of k and N-k,\n",
    "    # the product of k and RecursiveRibbon(N-k) because the N-k part could have a maximumproduct higher than N-k if we try to cut it more\n",
    "    for i in range (1, N-1) :\n",
    "        maxproduct = max(maxproduct, i*(N-i), i*RecursiveRibbon(N-i))\n",
    "    return(maxproduct)\n",
    "    \n",
    "RecursiveRibbon(8)"
   ]
  },
  {
   "cell_type": "markdown",
   "id": "593d24b7",
   "metadata": {
    "id": "c8ffa5a0"
   },
   "source": [
    "### Running time of the recursive algorithm :"
   ]
  },
  {
   "cell_type": "markdown",
   "id": "ba36ca2d",
   "metadata": {
    "id": "c6c01d5e"
   },
   "source": [
    "$$T(N) = \\left\\{\n",
    "    \\begin{array}{ll}\n",
    "        1 & \\mbox{if N<=1} \\\\\n",
    "        (N-1)*T(N-1) & \\mbox{otherwise in the worst case}\n",
    "    \\end{array}\n",
    "\\right.\n",
    "\\\\\n",
    "=> T(n) = O(N^n)$$\n",
    "So, this algorithm has exponential running time."
   ]
  },
  {
   "cell_type": "markdown",
   "id": "d0ea2334",
   "metadata": {
    "id": "6957d479"
   },
   "source": [
    "Dynamic programming algorithm :"
   ]
  },
  {
   "cell_type": "markdown",
   "id": "4d24da83",
   "metadata": {
    "id": "a16c858c"
   },
   "source": [
    "In the recursive solution, we can notice that we call the algorithm recursively for the same value several times."
   ]
  },
  {
   "cell_type": "markdown",
   "id": "52d232ce",
   "metadata": {
    "id": "34da69f0"
   },
   "source": [
    "For example, if the input is 5, when i will be equal to 1 RecursiveRibbon(5) will call RecursiveRibbon(4) and then RecusiveRibbon(4) will call RecursiveRibbon(3), but RecursiveRibbon(5) will also call RecursiveRibbon(3) when i will be 2."
   ]
  },
  {
   "cell_type": "markdown",
   "id": "6411470d",
   "metadata": {
    "id": "bc8e5f8a"
   },
   "source": [
    "In order to avoid doing the same computing several times, we use dynamic programming to store those values in an array (like in the Fibonacci problem)."
   ]
  },
  {
   "cell_type": "markdown",
   "id": "625507d6",
   "metadata": {
    "id": "f8738d16"
   },
   "source": [
    "So, we compute those values from 1 to N and at each value i that we are computing, we use the data that we have previously stored in the array."
   ]
  },
  {
   "cell_type": "code",
   "execution_count": 2,
   "id": "68825a22",
   "metadata": {
    "colab": {
     "base_uri": "https://localhost:8080/"
    },
    "id": "a4a67a83",
    "outputId": "11ea8f86-8357-4dac-f9fa-a42e96ddcd6c"
   },
   "outputs": [
    {
     "data": {
      "text/plain": [
       "18"
      ]
     },
     "execution_count": 2,
     "metadata": {},
     "output_type": "execute_result"
    }
   ],
   "source": [
    "def Ribbon(N) :\n",
    "    if N == 1 or N == 0 :\n",
    "        return 0\n",
    "    maximums = [1]\n",
    "    \n",
    "    for i in range (1, N+1) :\n",
    "        maxproduct = 1\n",
    "        # we compute the maxproduct for i based on the previous maxproduct computed\n",
    "        for j in range (1,i) :\n",
    "            maxproduct = max(maxproduct, j*(i-j), j*maximums[i-j])\n",
    "        # we store the maxproduct\n",
    "        maximums.append(maxproduct)\n",
    "    return maximums[N]\n",
    "    \n",
    "Ribbon(8)"
   ]
  },
  {
   "cell_type": "markdown",
   "id": "9f96ee14",
   "metadata": {
    "id": "1f2939ab"
   },
   "source": [
    "### Running time of the algorithm based on dynamic programming :"
   ]
  },
  {
   "cell_type": "markdown",
   "id": "e9d3e8de",
   "metadata": {
    "id": "0156ed5b"
   },
   "source": [
    "$$T(N) = \\left\\{\n",
    "    \\begin{array}{ll}\n",
    "        1 & \\mbox{if N<=1} \\\\\n",
    "        N*(c+N*k) & \\mbox{otherwise}\n",
    "    \\end{array}\n",
    "\\right.\n",
    "\\\\\n",
    "=> T(n) = O(N^2)$$\n",
    "So, the algorithm has a polynomial complexity which is way better than the complexity (exponential) of the recursive algorithm."
   ]
  },
  {
   "cell_type": "markdown",
   "id": "6f5efdf7",
   "metadata": {
    "id": "1d42d3c7"
   },
   "source": [
    "### Running time evaluation :"
   ]
  },
  {
   "cell_type": "code",
   "execution_count": null,
   "id": "63600804",
   "metadata": {
    "id": "95234db6"
   },
   "outputs": [],
   "source": [
    "import time\n",
    "\n",
    "running_times = []\n",
    "Ns = [i for i in range (2,26)]\n",
    "for N in Ns :\n",
    "    start_time = time.time()\n",
    "    Ribbon(N)\n",
    "    end_time = time.time()\n",
    "    running_times.append(end_time-start_time)"
   ]
  },
  {
   "cell_type": "code",
   "execution_count": null,
   "id": "ee857d3a",
   "metadata": {
    "colab": {
     "base_uri": "https://localhost:8080/",
     "height": 295
    },
    "id": "e4089295",
    "outputId": "766a2c7d-436b-403c-b2a0-a8b1febfb5fa",
    "scrolled": true
   },
   "outputs": [
    {
     "data": {
      "image/png": "[encoded data removed]",
      "text/plain": [
       "<Figure size 432x288 with 1 Axes>"
      ]
     },
     "metadata": {
      "needs_background": "light"
     },
     "output_type": "display_data"
    }
   ],
   "source": [
    "import matplotlib.pyplot as plt\n",
    "\n",
    "plt.plot(Ns,running_times, 'bo-', linewidth=1)\n",
    "plt.title('Running time of Ribbon\\'s dynamic programming algorithm.')\n",
    "plt.xlabel('Length N of the ribbon')\n",
    "plt.ylabel('Running time (seconds)')\n",
    "plt.show()"
   ]
  },
  {
   "cell_type": "markdown",
   "id": "8a0db6da",
   "metadata": {
    "id": "557dba1d"
   },
   "source": [
    "We can see that the running times are less than a microsecond except in certain rare cases where the running time is one second approximately."
   ]
  },
  {
   "cell_type": "markdown",
   "id": "6c6ec352",
   "metadata": {
    "id": "ca56bd7b"
   },
   "source": [
    "### Faster algorithm :"
   ]
  },
  {
   "cell_type": "raw",
   "id": "a6177234",
   "metadata": {},
   "source": [
    "N=4 : 4=2*2\n",
    "N=5 : 6=3*2\n",
    "N=6 : 9=3*3\n",
    "N=7 : 12=3*4\n",
    "N=8 : 18=3*3*2\n",
    "N=9 : 27=3*3*3\n",
    "N=10 : 36=3*3*4\n",
    "N=11 : 54=3*3*3*2"
   ]
  },
  {
   "cell_type": "markdown",
   "id": "070f1fda",
   "metadata": {},
   "source": [
    "We can notice that for every N>4, the product is composed of several 3 instead of one term which can be 2, 3 or 4."
   ]
  },
  {
   "cell_type": "markdown",
   "id": "8f78a0bb",
   "metadata": {},
   "source": [
    "So, to get the maximum product, we can cut a portion of size 3 until the global size is greather than 4."
   ]
  },
  {
   "cell_type": "code",
   "execution_count": null,
   "id": "6790ed2a",
   "metadata": {
    "colab": {
     "base_uri": "https://localhost:8080/"
    },
    "id": "4ba72cdd",
    "outputId": "b08b0cb2-dd29-4122-bae4-cacce035d895"
   },
   "outputs": [
    {
     "data": {
      "text/plain": [
       "18"
      ]
     },
     "execution_count": 6,
     "metadata": {},
     "output_type": "execute_result"
    }
   ],
   "source": [
    "def OptimalRibbon(N) :\n",
    "    if N == 0 or N == 1 :\n",
    "        return 0\n",
    "    if N == 2 :\n",
    "        return 1\n",
    "    if N == 3 :\n",
    "        return 2\n",
    "    maxproduct = 1\n",
    "    while N > 4 :\n",
    "        maxproduct *= 3\n",
    "        N -= 3\n",
    "    return maxproduct*N\n",
    "\n",
    "OptimalRibbon(8)"
   ]
  },
  {
   "cell_type": "markdown",
   "id": "1f3ea692",
   "metadata": {
    "id": "e8834a8a"
   },
   "source": [
    "$$T(N) = \\left\\{\n",
    "    \\begin{array}{ll}\n",
    "        c & \\mbox{if N<=4} \\\\\n",
    "        c*((N-1)/3) & \\mbox{otherwise}\n",
    "    \\end{array}\n",
    "\\right.\n",
    "\\\\\n",
    "=> T(n) = O(N)$$"
   ]
  },
  {
   "cell_type": "markdown",
   "id": "0f1af1c0",
   "metadata": {
    "id": "2155d720"
   },
   "source": [
    "We found a faster algorithm, beacause it has a better running time than the dynamic programming version or the recursive version. So the algorithm of question 3 is not optimal."
   ]
  }
 ],
 "metadata": {
  "colab": {
   "collapsed_sections": [
    "4a759c4a",
    "5da677e1",
    "feac1440",
    "c037bf53",
    "bd0eeb73",
    "f536cdb2",
    "74d99276",
    "150c1a4a",
    "bfa56415",
    "43a157e6",
    "b6ae6b6a",
    "97771b3b",
    "2a2c2673",
    "d538d2ac",
    "a7e68a89",
    "231aeb81",
    "8ee3fe35",
    "e59c48ab",
    "2516bcf7",
    "9c917299",
    "6a78445d",
    "c4ca2fb5",
    "9d8ea890",
    "3313584e",
    "3d5c9ced",
    "5c41b0f8",
    "a021ac78",
    "625235ce",
    "fa4c22f0"
   ],
   "provenance": []
  },
  "kernelspec": {
   "display_name": "conda_amazonei_mxnet_p36",
   "language": "python",
   "name": "conda_amazonei_mxnet_p36"
  },
  "language_info": {
   "codemirror_mode": {
    "name": "ipython",
    "version": 3
   },
   "file_extension": ".py",
   "mimetype": "text/x-python",
   "name": "python",
   "nbconvert_exporter": "python",
   "pygments_lexer": "ipython3",
   "version": "3.6.13"
  }
 },
 "nbformat": 4,
 "nbformat_minor": 5
}
